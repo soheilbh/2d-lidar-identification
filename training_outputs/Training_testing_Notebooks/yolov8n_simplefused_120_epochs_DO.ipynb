{
 "cells": [
  {
   "cell_type": "code",
   "execution_count": 7,
   "id": "f48693b0-f00f-4fd4-82d6-e2ad7d8684cd",
   "metadata": {
    "scrolled": true
   },
   "outputs": [
    {
     "name": "stdout",
     "output_type": "stream",
     "text": [
      "🔍 Extracting 3 archives...\n",
      "🔓 Starting: splits_simple_fused_2025-06-06_01-11-05_images_trains.tar.gz\n",
      "🔓 Starting: splits_simple_fused_2025-06-06_01-11-05_lables_trains.tar.gz\n",
      "🔓 Starting: splits_simple_fused_2025-06-06_01-11-05_val_test.tar.gz\n",
      "📁 221705 files in splits_simple_fused_2025-06-06_01-11-05_val_test.tar.gz\n",
      "📈 splits_simple_fused_2025-06-06_01-11-05_val_test.tar.gz: 10,000/221,705 (4.5%)\n",
      "📁 629594 files in splits_simple_fused_2025-06-06_01-11-05_lables_trains.tar.gz\n",
      "📈 splits_simple_fused_2025-06-06_01-11-05_val_test.tar.gz: 20,000/221,705 (9.0%)\n",
      "📈 splits_simple_fused_2025-06-06_01-11-05_lables_trains.tar.gz: 10,000/629,594 (1.6%)\n",
      "📈 splits_simple_fused_2025-06-06_01-11-05_val_test.tar.gz: 30,000/221,705 (13.5%)\n",
      "📈 splits_simple_fused_2025-06-06_01-11-05_lables_trains.tar.gz: 20,000/629,594 (3.2%)\n",
      "📁 629594 files in splits_simple_fused_2025-06-06_01-11-05_images_trains.tar.gz\n",
      "📈 splits_simple_fused_2025-06-06_01-11-05_val_test.tar.gz: 40,000/221,705 (18.0%)\n",
      "📈 splits_simple_fused_2025-06-06_01-11-05_lables_trains.tar.gz: 30,000/629,594 (4.8%)\n",
      "📈 splits_simple_fused_2025-06-06_01-11-05_images_trains.tar.gz: 10,000/629,594 (1.6%)\n",
      "📈 splits_simple_fused_2025-06-06_01-11-05_val_test.tar.gz: 50,000/221,705 (22.6%)\n",
      "📈 splits_simple_fused_2025-06-06_01-11-05_lables_trains.tar.gz: 40,000/629,594 (6.4%)\n",
      "📈 splits_simple_fused_2025-06-06_01-11-05_images_trains.tar.gz: 20,000/629,594 (3.2%)\n",
      "📈 splits_simple_fused_2025-06-06_01-11-05_val_test.tar.gz: 60,000/221,705 (27.1%)\n",
      "📈 splits_simple_fused_2025-06-06_01-11-05_lables_trains.tar.gz: 50,000/629,594 (7.9%)\n",
      "📈 splits_simple_fused_2025-06-06_01-11-05_images_trains.tar.gz: 30,000/629,594 (4.8%)\n",
      "📈 splits_simple_fused_2025-06-06_01-11-05_val_test.tar.gz: 70,000/221,705 (31.6%)\n",
      "📈 splits_simple_fused_2025-06-06_01-11-05_lables_trains.tar.gz: 60,000/629,594 (9.5%)\n",
      "📈 splits_simple_fused_2025-06-06_01-11-05_images_trains.tar.gz: 40,000/629,594 (6.4%)\n",
      "📈 splits_simple_fused_2025-06-06_01-11-05_val_test.tar.gz: 80,000/221,705 (36.1%)\n",
      "📈 splits_simple_fused_2025-06-06_01-11-05_lables_trains.tar.gz: 70,000/629,594 (11.1%)\n",
      "📈 splits_simple_fused_2025-06-06_01-11-05_images_trains.tar.gz: 50,000/629,594 (7.9%)\n",
      "📈 splits_simple_fused_2025-06-06_01-11-05_val_test.tar.gz: 90,000/221,705 (40.6%)\n",
      "📈 splits_simple_fused_2025-06-06_01-11-05_lables_trains.tar.gz: 80,000/629,594 (12.7%)\n",
      "📈 splits_simple_fused_2025-06-06_01-11-05_images_trains.tar.gz: 60,000/629,594 (9.5%)\n",
      "📈 splits_simple_fused_2025-06-06_01-11-05_val_test.tar.gz: 100,000/221,705 (45.1%)\n",
      "📈 splits_simple_fused_2025-06-06_01-11-05_lables_trains.tar.gz: 90,000/629,594 (14.3%)\n",
      "📈 splits_simple_fused_2025-06-06_01-11-05_images_trains.tar.gz: 70,000/629,594 (11.1%)\n",
      "📈 splits_simple_fused_2025-06-06_01-11-05_val_test.tar.gz: 110,000/221,705 (49.6%)\n",
      "📈 splits_simple_fused_2025-06-06_01-11-05_lables_trains.tar.gz: 100,000/629,594 (15.9%)\n",
      "📈 splits_simple_fused_2025-06-06_01-11-05_images_trains.tar.gz: 80,000/629,594 (12.7%)\n",
      "📈 splits_simple_fused_2025-06-06_01-11-05_val_test.tar.gz: 120,000/221,705 (54.1%)\n",
      "📈 splits_simple_fused_2025-06-06_01-11-05_lables_trains.tar.gz: 110,000/629,594 (17.5%)\n",
      "📈 splits_simple_fused_2025-06-06_01-11-05_images_trains.tar.gz: 90,000/629,594 (14.3%)\n",
      "📈 splits_simple_fused_2025-06-06_01-11-05_val_test.tar.gz: 130,000/221,705 (58.6%)\n",
      "📈 splits_simple_fused_2025-06-06_01-11-05_lables_trains.tar.gz: 120,000/629,594 (19.1%)\n",
      "📈 splits_simple_fused_2025-06-06_01-11-05_images_trains.tar.gz: 100,000/629,594 (15.9%)\n",
      "📈 splits_simple_fused_2025-06-06_01-11-05_val_test.tar.gz: 140,000/221,705 (63.1%)\n",
      "📈 splits_simple_fused_2025-06-06_01-11-05_lables_trains.tar.gz: 130,000/629,594 (20.6%)\n",
      "📈 splits_simple_fused_2025-06-06_01-11-05_images_trains.tar.gz: 110,000/629,594 (17.5%)\n",
      "📈 splits_simple_fused_2025-06-06_01-11-05_val_test.tar.gz: 150,000/221,705 (67.7%)\n",
      "📈 splits_simple_fused_2025-06-06_01-11-05_lables_trains.tar.gz: 140,000/629,594 (22.2%)\n",
      "📈 splits_simple_fused_2025-06-06_01-11-05_images_trains.tar.gz: 120,000/629,594 (19.1%)\n",
      "📈 splits_simple_fused_2025-06-06_01-11-05_val_test.tar.gz: 160,000/221,705 (72.2%)\n",
      "📈 splits_simple_fused_2025-06-06_01-11-05_lables_trains.tar.gz: 150,000/629,594 (23.8%)\n",
      "📈 splits_simple_fused_2025-06-06_01-11-05_images_trains.tar.gz: 130,000/629,594 (20.6%)\n",
      "📈 splits_simple_fused_2025-06-06_01-11-05_val_test.tar.gz: 170,000/221,705 (76.7%)\n",
      "📈 splits_simple_fused_2025-06-06_01-11-05_lables_trains.tar.gz: 160,000/629,594 (25.4%)\n",
      "📈 splits_simple_fused_2025-06-06_01-11-05_images_trains.tar.gz: 140,000/629,594 (22.2%)\n",
      "📈 splits_simple_fused_2025-06-06_01-11-05_val_test.tar.gz: 180,000/221,705 (81.2%)\n",
      "📈 splits_simple_fused_2025-06-06_01-11-05_lables_trains.tar.gz: 170,000/629,594 (27.0%)\n",
      "📈 splits_simple_fused_2025-06-06_01-11-05_images_trains.tar.gz: 150,000/629,594 (23.8%)\n",
      "📈 splits_simple_fused_2025-06-06_01-11-05_val_test.tar.gz: 190,000/221,705 (85.7%)\n",
      "📈 splits_simple_fused_2025-06-06_01-11-05_lables_trains.tar.gz: 180,000/629,594 (28.6%)\n",
      "📈 splits_simple_fused_2025-06-06_01-11-05_images_trains.tar.gz: 160,000/629,594 (25.4%)\n",
      "📈 splits_simple_fused_2025-06-06_01-11-05_val_test.tar.gz: 200,000/221,705 (90.2%)\n",
      "📈 splits_simple_fused_2025-06-06_01-11-05_lables_trains.tar.gz: 190,000/629,594 (30.2%)\n",
      "📈 splits_simple_fused_2025-06-06_01-11-05_images_trains.tar.gz: 170,000/629,594 (27.0%)\n",
      "📈 splits_simple_fused_2025-06-06_01-11-05_val_test.tar.gz: 210,000/221,705 (94.7%)\n",
      "📈 splits_simple_fused_2025-06-06_01-11-05_lables_trains.tar.gz: 200,000/629,594 (31.8%)\n",
      "📈 splits_simple_fused_2025-06-06_01-11-05_images_trains.tar.gz: 180,000/629,594 (28.6%)\n",
      "📈 splits_simple_fused_2025-06-06_01-11-05_val_test.tar.gz: 220,000/221,705 (99.2%)\n",
      "✅ Done: splits_simple_fused_2025-06-06_01-11-05_val_test.tar.gz\n",
      "📈 splits_simple_fused_2025-06-06_01-11-05_lables_trains.tar.gz: 210,000/629,594 (33.4%)\n",
      "📈 splits_simple_fused_2025-06-06_01-11-05_images_trains.tar.gz: 190,000/629,594 (30.2%)\n",
      "📈 splits_simple_fused_2025-06-06_01-11-05_lables_trains.tar.gz: 220,000/629,594 (34.9%)\n",
      "📈 splits_simple_fused_2025-06-06_01-11-05_images_trains.tar.gz: 200,000/629,594 (31.8%)\n",
      "📈 splits_simple_fused_2025-06-06_01-11-05_lables_trains.tar.gz: 230,000/629,594 (36.5%)\n",
      "📈 splits_simple_fused_2025-06-06_01-11-05_images_trains.tar.gz: 210,000/629,594 (33.4%)\n",
      "📈 splits_simple_fused_2025-06-06_01-11-05_lables_trains.tar.gz: 240,000/629,594 (38.1%)\n",
      "📈 splits_simple_fused_2025-06-06_01-11-05_images_trains.tar.gz: 220,000/629,594 (34.9%)\n",
      "📈 splits_simple_fused_2025-06-06_01-11-05_lables_trains.tar.gz: 250,000/629,594 (39.7%)\n",
      "📈 splits_simple_fused_2025-06-06_01-11-05_lables_trains.tar.gz: 260,000/629,594 (41.3%)\n",
      "📈 splits_simple_fused_2025-06-06_01-11-05_images_trains.tar.gz: 230,000/629,594 (36.5%)\n",
      "📈 splits_simple_fused_2025-06-06_01-11-05_lables_trains.tar.gz: 270,000/629,594 (42.9%)\n",
      "📈 splits_simple_fused_2025-06-06_01-11-05_images_trains.tar.gz: 240,000/629,594 (38.1%)\n",
      "📈 splits_simple_fused_2025-06-06_01-11-05_lables_trains.tar.gz: 280,000/629,594 (44.5%)\n",
      "📈 splits_simple_fused_2025-06-06_01-11-05_images_trains.tar.gz: 250,000/629,594 (39.7%)\n",
      "📈 splits_simple_fused_2025-06-06_01-11-05_lables_trains.tar.gz: 290,000/629,594 (46.1%)\n",
      "📈 splits_simple_fused_2025-06-06_01-11-05_images_trains.tar.gz: 260,000/629,594 (41.3%)\n",
      "📈 splits_simple_fused_2025-06-06_01-11-05_lables_trains.tar.gz: 300,000/629,594 (47.6%)\n",
      "📈 splits_simple_fused_2025-06-06_01-11-05_images_trains.tar.gz: 270,000/629,594 (42.9%)\n",
      "📈 splits_simple_fused_2025-06-06_01-11-05_lables_trains.tar.gz: 310,000/629,594 (49.2%)\n",
      "📈 splits_simple_fused_2025-06-06_01-11-05_images_trains.tar.gz: 280,000/629,594 (44.5%)\n",
      "📈 splits_simple_fused_2025-06-06_01-11-05_lables_trains.tar.gz: 320,000/629,594 (50.8%)\n",
      "📈 splits_simple_fused_2025-06-06_01-11-05_images_trains.tar.gz: 290,000/629,594 (46.1%)\n",
      "📈 splits_simple_fused_2025-06-06_01-11-05_lables_trains.tar.gz: 330,000/629,594 (52.4%)\n",
      "📈 splits_simple_fused_2025-06-06_01-11-05_images_trains.tar.gz: 300,000/629,594 (47.6%)\n",
      "📈 splits_simple_fused_2025-06-06_01-11-05_lables_trains.tar.gz: 340,000/629,594 (54.0%)\n",
      "📈 splits_simple_fused_2025-06-06_01-11-05_images_trains.tar.gz: 310,000/629,594 (49.2%)\n",
      "📈 splits_simple_fused_2025-06-06_01-11-05_lables_trains.tar.gz: 350,000/629,594 (55.6%)\n",
      "📈 splits_simple_fused_2025-06-06_01-11-05_images_trains.tar.gz: 320,000/629,594 (50.8%)\n",
      "📈 splits_simple_fused_2025-06-06_01-11-05_lables_trains.tar.gz: 360,000/629,594 (57.2%)\n",
      "📈 splits_simple_fused_2025-06-06_01-11-05_images_trains.tar.gz: 330,000/629,594 (52.4%)\n",
      "📈 splits_simple_fused_2025-06-06_01-11-05_lables_trains.tar.gz: 370,000/629,594 (58.8%)\n",
      "📈 splits_simple_fused_2025-06-06_01-11-05_images_trains.tar.gz: 340,000/629,594 (54.0%)\n",
      "📈 splits_simple_fused_2025-06-06_01-11-05_lables_trains.tar.gz: 380,000/629,594 (60.4%)\n",
      "📈 splits_simple_fused_2025-06-06_01-11-05_lables_trains.tar.gz: 390,000/629,594 (61.9%)\n",
      "📈 splits_simple_fused_2025-06-06_01-11-05_images_trains.tar.gz: 350,000/629,594 (55.6%)\n",
      "📈 splits_simple_fused_2025-06-06_01-11-05_lables_trains.tar.gz: 400,000/629,594 (63.5%)\n",
      "📈 splits_simple_fused_2025-06-06_01-11-05_images_trains.tar.gz: 360,000/629,594 (57.2%)\n",
      "📈 splits_simple_fused_2025-06-06_01-11-05_lables_trains.tar.gz: 410,000/629,594 (65.1%)\n",
      "📈 splits_simple_fused_2025-06-06_01-11-05_images_trains.tar.gz: 370,000/629,594 (58.8%)\n",
      "📈 splits_simple_fused_2025-06-06_01-11-05_lables_trains.tar.gz: 420,000/629,594 (66.7%)\n",
      "📈 splits_simple_fused_2025-06-06_01-11-05_images_trains.tar.gz: 380,000/629,594 (60.4%)\n",
      "📈 splits_simple_fused_2025-06-06_01-11-05_lables_trains.tar.gz: 430,000/629,594 (68.3%)\n",
      "📈 splits_simple_fused_2025-06-06_01-11-05_images_trains.tar.gz: 390,000/629,594 (61.9%)\n",
      "📈 splits_simple_fused_2025-06-06_01-11-05_lables_trains.tar.gz: 440,000/629,594 (69.9%)\n",
      "📈 splits_simple_fused_2025-06-06_01-11-05_images_trains.tar.gz: 400,000/629,594 (63.5%)\n",
      "📈 splits_simple_fused_2025-06-06_01-11-05_lables_trains.tar.gz: 450,000/629,594 (71.5%)\n",
      "📈 splits_simple_fused_2025-06-06_01-11-05_images_trains.tar.gz: 410,000/629,594 (65.1%)\n",
      "📈 splits_simple_fused_2025-06-06_01-11-05_lables_trains.tar.gz: 460,000/629,594 (73.1%)\n",
      "📈 splits_simple_fused_2025-06-06_01-11-05_images_trains.tar.gz: 420,000/629,594 (66.7%)\n",
      "📈 splits_simple_fused_2025-06-06_01-11-05_lables_trains.tar.gz: 470,000/629,594 (74.7%)\n",
      "📈 splits_simple_fused_2025-06-06_01-11-05_images_trains.tar.gz: 430,000/629,594 (68.3%)\n",
      "📈 splits_simple_fused_2025-06-06_01-11-05_lables_trains.tar.gz: 480,000/629,594 (76.2%)\n",
      "📈 splits_simple_fused_2025-06-06_01-11-05_images_trains.tar.gz: 440,000/629,594 (69.9%)\n",
      "📈 splits_simple_fused_2025-06-06_01-11-05_lables_trains.tar.gz: 490,000/629,594 (77.8%)\n",
      "📈 splits_simple_fused_2025-06-06_01-11-05_images_trains.tar.gz: 450,000/629,594 (71.5%)\n",
      "📈 splits_simple_fused_2025-06-06_01-11-05_lables_trains.tar.gz: 500,000/629,594 (79.4%)\n",
      "📈 splits_simple_fused_2025-06-06_01-11-05_images_trains.tar.gz: 460,000/629,594 (73.1%)\n",
      "📈 splits_simple_fused_2025-06-06_01-11-05_lables_trains.tar.gz: 510,000/629,594 (81.0%)\n",
      "📈 splits_simple_fused_2025-06-06_01-11-05_images_trains.tar.gz: 470,000/629,594 (74.7%)\n",
      "📈 splits_simple_fused_2025-06-06_01-11-05_lables_trains.tar.gz: 520,000/629,594 (82.6%)\n",
      "📈 splits_simple_fused_2025-06-06_01-11-05_images_trains.tar.gz: 480,000/629,594 (76.2%)\n",
      "📈 splits_simple_fused_2025-06-06_01-11-05_lables_trains.tar.gz: 530,000/629,594 (84.2%)\n",
      "📈 splits_simple_fused_2025-06-06_01-11-05_images_trains.tar.gz: 490,000/629,594 (77.8%)\n",
      "📈 splits_simple_fused_2025-06-06_01-11-05_lables_trains.tar.gz: 540,000/629,594 (85.8%)\n",
      "📈 splits_simple_fused_2025-06-06_01-11-05_lables_trains.tar.gz: 550,000/629,594 (87.4%)\n",
      "📈 splits_simple_fused_2025-06-06_01-11-05_images_trains.tar.gz: 500,000/629,594 (79.4%)\n",
      "📈 splits_simple_fused_2025-06-06_01-11-05_lables_trains.tar.gz: 560,000/629,594 (88.9%)\n",
      "📈 splits_simple_fused_2025-06-06_01-11-05_images_trains.tar.gz: 510,000/629,594 (81.0%)\n",
      "📈 splits_simple_fused_2025-06-06_01-11-05_lables_trains.tar.gz: 570,000/629,594 (90.5%)\n",
      "📈 splits_simple_fused_2025-06-06_01-11-05_images_trains.tar.gz: 520,000/629,594 (82.6%)\n",
      "📈 splits_simple_fused_2025-06-06_01-11-05_lables_trains.tar.gz: 580,000/629,594 (92.1%)\n",
      "📈 splits_simple_fused_2025-06-06_01-11-05_images_trains.tar.gz: 530,000/629,594 (84.2%)\n",
      "📈 splits_simple_fused_2025-06-06_01-11-05_lables_trains.tar.gz: 590,000/629,594 (93.7%)\n",
      "📈 splits_simple_fused_2025-06-06_01-11-05_images_trains.tar.gz: 540,000/629,594 (85.8%)\n",
      "📈 splits_simple_fused_2025-06-06_01-11-05_lables_trains.tar.gz: 600,000/629,594 (95.3%)\n",
      "📈 splits_simple_fused_2025-06-06_01-11-05_images_trains.tar.gz: 550,000/629,594 (87.4%)\n",
      "📈 splits_simple_fused_2025-06-06_01-11-05_lables_trains.tar.gz: 610,000/629,594 (96.9%)\n",
      "📈 splits_simple_fused_2025-06-06_01-11-05_images_trains.tar.gz: 560,000/629,594 (88.9%)\n",
      "📈 splits_simple_fused_2025-06-06_01-11-05_lables_trains.tar.gz: 620,000/629,594 (98.5%)\n",
      "📈 splits_simple_fused_2025-06-06_01-11-05_images_trains.tar.gz: 570,000/629,594 (90.5%)\n",
      "✅ Done: splits_simple_fused_2025-06-06_01-11-05_lables_trains.tar.gz\n",
      "📈 splits_simple_fused_2025-06-06_01-11-05_images_trains.tar.gz: 580,000/629,594 (92.1%)\n",
      "📈 splits_simple_fused_2025-06-06_01-11-05_images_trains.tar.gz: 590,000/629,594 (93.7%)\n",
      "📈 splits_simple_fused_2025-06-06_01-11-05_images_trains.tar.gz: 600,000/629,594 (95.3%)\n",
      "📈 splits_simple_fused_2025-06-06_01-11-05_images_trains.tar.gz: 610,000/629,594 (96.9%)\n",
      "📈 splits_simple_fused_2025-06-06_01-11-05_images_trains.tar.gz: 620,000/629,594 (98.5%)\n",
      "✅ Done: splits_simple_fused_2025-06-06_01-11-05_images_trains.tar.gz\n",
      "📦 Completed 1/3\n",
      "📦 Completed 2/3\n",
      "📦 Completed 3/3\n",
      "📦 Moved 629591 train images to splits_simple_fused/splits_simple_fused_2025-06-06_01-11-05/images/train\n",
      "📦 Moved 629591 train labels to splits_simple_fused/splits_simple_fused_2025-06-06_01-11-05/labels/train\n",
      "📦 Moved 72528 val images to splits_simple_fused/splits_simple_fused_2025-06-06_01-11-05/images/val\n",
      "📦 Moved 72528 val labels to splits_simple_fused/splits_simple_fused_2025-06-06_01-11-05/labels/val\n",
      "📦 Moved 38321 test images to splits_simple_fused/splits_simple_fused_2025-06-06_01-11-05/images/test\n",
      "📦 Moved 38321 test labels to splits_simple_fused/splits_simple_fused_2025-06-06_01-11-05/labels/test\n",
      "\n",
      "✅ Done. Folder ready at: splits_simple_fused/splits_simple_fused_2025-06-06_01-11-05\n"
     ]
    }
   ],
   "source": [
    "import tarfile\n",
    "from pathlib import Path\n",
    "from tqdm import tqdm\n",
    "from concurrent.futures import ThreadPoolExecutor\n",
    "import shutil\n",
    "import multiprocessing\n",
    "\n",
    "# === Use container disk (/tmp) for faster IO ===\n",
    "split_dir = Path('.')  # You moved .tar.gz files here\n",
    "base_dir = split_dir / 'splits_simple_fused' / 'splits_simple_fused_2025-06-06_01-11-05'\n",
    "base_dir.mkdir(parents=True, exist_ok=True)\n",
    "\n",
    "# === List your .tar.gz archives ===\n",
    "split_archives = [\n",
    "    'splits_simple_fused_2025-06-06_01-11-05_images_trains.tar.gz',\n",
    "    'splits_simple_fused_2025-06-06_01-11-05_lables_trains.tar.gz',\n",
    "    'splits_simple_fused_2025-06-06_01-11-05_val_test.tar.gz'\n",
    "]\n",
    "tar_files = [split_dir / fname for fname in split_archives]\n",
    "\n",
    "# === Extraction function ===\n",
    "def extract_tar(tar_path):\n",
    "    print(f\"🔓 Starting: {tar_path.name}\")\n",
    "    with tarfile.open(tar_path, \"r:gz\") as tar:\n",
    "        members = tar.getmembers()\n",
    "        total = len(members)\n",
    "        print(f\"📁 {total} files in {tar_path.name}\")\n",
    "        for i, member in enumerate(members, 1):\n",
    "            tar.extract(member, path=base_dir, filter='data')\n",
    "            if i % 10000 == 0:\n",
    "                print(f\"📈 {tar_path.name}: {i:,}/{total:,} ({(i/total)*100:.1f}%)\")\n",
    "    print(f\"✅ Done: {tar_path.name}\")\n",
    "    return tar_path.name\n",
    "\n",
    "# === Parallel Extraction ===\n",
    "print(f\"🔍 Extracting {len(tar_files)} archives...\")\n",
    "workers = min(len(tar_files), multiprocessing.cpu_count())\n",
    "with ThreadPoolExecutor(max_workers=workers) as executor:\n",
    "    futures = [executor.submit(extract_tar, f) for f in tar_files]\n",
    "    for i, f in enumerate(futures, 1):\n",
    "        f.result()\n",
    "        print(f\"📦 Completed {i}/{len(futures)}\")\n",
    "\n",
    "# === Create YOLO folder structure ===\n",
    "image_train = base_dir / 'images' / 'train'\n",
    "label_train = base_dir / 'labels' / 'train'\n",
    "image_val = base_dir / 'images' / 'val'\n",
    "label_val = base_dir / 'labels' / 'val'\n",
    "image_test = base_dir / 'images' / 'test'\n",
    "label_test = base_dir / 'labels' / 'test'\n",
    "\n",
    "for path in [image_train, label_train, image_val, label_val, image_test, label_test]:\n",
    "    path.mkdir(parents=True, exist_ok=True)\n",
    "\n",
    "# === Move Files ===\n",
    "def move_all(src_glob, dst_folder, description):\n",
    "    count = 0\n",
    "    for file in base_dir.glob(src_glob):\n",
    "        shutil.move(str(file), dst_folder / file.name)\n",
    "        count += 1\n",
    "    print(f\"📦 Moved {count} {description} to {dst_folder}\")\n",
    "\n",
    "move_all(\"**/images/train/*.png\", image_train, \"train images\")\n",
    "move_all(\"**/labels/train/*.txt\", label_train, \"train labels\")\n",
    "move_all(\"**/images/val/*.png\", image_val, \"val images\")\n",
    "move_all(\"**/labels/val/*.txt\", label_val, \"val labels\")\n",
    "move_all(\"**/images/test/*.png\", image_test, \"test images\")\n",
    "move_all(\"**/labels/test/*.txt\", label_test, \"test labels\")\n",
    "\n",
    "print(f\"\\n✅ Done. Folder ready at: {base_dir}\")"
   ]
  },
  {
   "cell_type": "code",
   "execution_count": 1,
   "id": "610067f2-65bf-40c5-b7ab-eb418d245e27",
   "metadata": {
    "jupyter": {
     "source_hidden": true
    }
   },
   "outputs": [
    {
     "name": "stdout",
     "output_type": "stream",
     "text": [
      "\n",
      "📂 TRAIN\n",
      "🖼️  Images: 629591\n",
      "🏷️  Labels: 629591\n",
      "✅ All image-label pairs match.\n",
      "\n",
      "📂 VAL\n",
      "🖼️  Images: 72528\n",
      "🏷️  Labels: 72528\n",
      "✅ All image-label pairs match.\n",
      "\n",
      "📂 TEST\n",
      "🖼️  Images: 38321\n",
      "🏷️  Labels: 38321\n",
      "✅ All image-label pairs match.\n"
     ]
    }
   ],
   "source": [
    "from pathlib import Path\n",
    "dataset_root = Path('./splits_simple_fused/splits_simple_fused_2025-06-06_01-11-05')\n",
    "\n",
    "splits = ['train', 'val', 'test']\n",
    "for split in splits:\n",
    "    img_dir = dataset_root / 'images' / split\n",
    "    lbl_dir = dataset_root / 'labels' / split\n",
    "\n",
    "    img_files = list(img_dir.glob('*.png'))\n",
    "    lbl_files = list(lbl_dir.glob('*.txt'))\n",
    "\n",
    "    print(f\"\\n📂 {split.upper()}\")\n",
    "    print(f\"🖼️  Images: {len(img_files)}\")\n",
    "    print(f\"🏷️  Labels: {len(lbl_files)}\")\n",
    "\n",
    "    img_stems = {f.stem for f in img_files}\n",
    "    lbl_stems = {f.stem for f in lbl_files}\n",
    "    missing_labels = img_stems - lbl_stems\n",
    "    missing_images = lbl_stems - img_stems\n",
    "\n",
    "    if missing_labels:\n",
    "        print(f\"⚠️ Missing labels for: {list(missing_labels)[:5]}\")\n",
    "    if missing_images:\n",
    "        print(f\"⚠️ Missing images for: {list(missing_images)[:5]}\")\n",
    "    if not missing_labels and not missing_images:\n",
    "        print(\"✅ All image-label pairs match.\")"
   ]
  },
  {
   "cell_type": "code",
   "execution_count": 2,
   "id": "1e016992-825b-4e97-934b-457969444d78",
   "metadata": {},
   "outputs": [
    {
     "name": "stdout",
     "output_type": "stream",
     "text": [
      "📄 data.yaml saved at: splits_simple_fused/splits_simple_fused_2025-06-06_01-11-05/data.yaml\n"
     ]
    }
   ],
   "source": [
    "import yaml\n",
    "\n",
    "class_names = [\"chair\", \"box\", \"desk\", \"door_frame\"]\n",
    "\n",
    "data_yaml = {\n",
    "    'path': str(dataset_root),\n",
    "    'train': 'images/train',\n",
    "    'val': 'images/val',\n",
    "    'test': 'images/test',\n",
    "    'nc': len(class_names),\n",
    "    'names': class_names\n",
    "}\n",
    "\n",
    "yaml_file_path = dataset_root / 'data.yaml'\n",
    "with open(yaml_file_path, 'w') as f:\n",
    "    yaml.dump(data_yaml, f)\n",
    "\n",
    "print(f\"📄 data.yaml saved at: {yaml_file_path}\")"
   ]
  },
  {
   "cell_type": "code",
   "execution_count": 3,
   "id": "bf732d0d-5f07-44de-978c-42bb088342f1",
   "metadata": {},
   "outputs": [
    {
     "name": "stdout",
     "output_type": "stream",
     "text": [
      "Creating new Ultralytics Settings v0.0.6 file ✅ \n",
      "View Ultralytics Settings with 'yolo settings' or at '/home/soheil/.config/Ultralytics/settings.json'\n",
      "Update Settings with 'yolo settings key=value', i.e. 'yolo settings runs_dir=path/to/dir'. For help see https://docs.ultralytics.com/quickstart/#ultralytics-settings.\n",
      "Ultralytics 8.3.152 🚀 Python-3.10.12 torch-2.7.1+cu126 CUDA:0 (NVIDIA H100 80GB HBM3, 81008MiB)\n",
      "\u001b[34m\u001b[1mengine/trainer: \u001b[0magnostic_nms=False, amp=True, augment=False, auto_augment=None, batch=1024, bgr=0.0, box=7.5, cache=ram, cfg=None, classes=None, close_mosaic=10, cls=0.5, conf=None, copy_paste=0.0, copy_paste_mode=flip, cos_lr=False, cutmix=0.0, data=splits_simple_fused/splits_simple_fused_2025-06-06_01-11-05/data.yaml, degrees=0.0, deterministic=True, device=None, dfl=1.5, dnn=False, dropout=0.0, dynamic=False, embed=None, epochs=120, erasing=0.0, exist_ok=False, fliplr=0.5, flipud=0.2, format=torchscript, fraction=1.0, freeze=None, half=False, hsv_h=0.0, hsv_s=0.0, hsv_v=0.0, imgsz=384, int8=False, iou=0.7, keras=False, kobj=1.0, line_width=None, lr0=0.01, lrf=0.01, mask_ratio=4, max_det=300, mixup=0.0, mode=train, model=yolov8n.pt, momentum=0.937, mosaic=0.0, multi_scale=False, name=train, nbs=64, nms=False, opset=None, optimize=False, optimizer=auto, overlap_mask=True, patience=100, perspective=0.0, plots=True, pose=12.0, pretrained=True, profile=False, project=None, rect=True, resume=False, retina_masks=False, save=True, save_conf=False, save_crop=False, save_dir=runs/detect/train, save_frames=False, save_json=False, save_period=10, save_txt=False, scale=0.5, seed=42, shear=0.0, show=False, show_boxes=True, show_conf=True, show_labels=True, simplify=True, single_cls=False, source=None, split=val, stream_buffer=False, task=detect, time=None, tracker=botsort.yaml, translate=0.1, val=True, verbose=True, vid_stride=1, visualize=False, warmup_bias_lr=0.1, warmup_epochs=3.0, warmup_momentum=0.8, weight_decay=0.0005, workers=10, workspace=None\n",
      "Downloading https://ultralytics.com/assets/Arial.ttf to '/home/soheil/.config/Ultralytics/Arial.ttf'...\n"
     ]
    },
    {
     "name": "stderr",
     "output_type": "stream",
     "text": [
      "100%|███████████████████████████████████████████████████████████████████████████████████████████████| 755k/755k [00:00<00:00, 138MB/s]"
     ]
    },
    {
     "name": "stdout",
     "output_type": "stream",
     "text": [
      "Overriding model.yaml nc=80 with nc=4\n",
      "\n",
      "                   from  n    params  module                                       arguments                     \n",
      "  0                  -1  1       464  ultralytics.nn.modules.conv.Conv             [3, 16, 3, 2]                 \n",
      "  1                  -1  1      4672  ultralytics.nn.modules.conv.Conv             [16, 32, 3, 2]                \n",
      "  2                  -1  1      7360  ultralytics.nn.modules.block.C2f             [32, 32, 1, True]             \n",
      "  3                  -1  1     18560  ultralytics.nn.modules.conv.Conv             [32, 64, 3, 2]                \n",
      "  4                  -1  2     49664  ultralytics.nn.modules.block.C2f             [64, 64, 2, True]             \n",
      "  5                  -1  1     73984  ultralytics.nn.modules.conv.Conv             [64, 128, 3, 2]               \n",
      "  6                  -1  2    197632  ultralytics.nn.modules.block.C2f             [128, 128, 2, True]           \n",
      "  7                  -1  1    295424  ultralytics.nn.modules.conv.Conv             [128, 256, 3, 2]              \n",
      "  8                  -1  1    460288  ultralytics.nn.modules.block.C2f             [256, 256, 1, True]           \n",
      "  9                  -1  1    164608  ultralytics.nn.modules.block.SPPF            [256, 256, 5]                 \n",
      " 10                  -1  1         0  torch.nn.modules.upsampling.Upsample         [None, 2, 'nearest']          \n",
      " 11             [-1, 6]  1         0  ultralytics.nn.modules.conv.Concat           [1]                           \n",
      " 12                  -1  1    148224  ultralytics.nn.modules.block.C2f             [384, 128, 1]                 \n",
      " 13                  -1  1         0  torch.nn.modules.upsampling.Upsample         [None, 2, 'nearest']          \n",
      " 14             [-1, 4]  1         0  ultralytics.nn.modules.conv.Concat           [1]                           \n",
      " 15                  -1  1     37248  ultralytics.nn.modules.block.C2f             [192, 64, 1]                  \n",
      " 16                  -1  1     36992  ultralytics.nn.modules.conv.Conv             [64, 64, 3, 2]                \n",
      " 17            [-1, 12]  1         0  ultralytics.nn.modules.conv.Concat           [1]                           \n",
      " 18                  -1  1    123648  ultralytics.nn.modules.block.C2f             [192, 128, 1]                 \n",
      " 19                  -1  1    147712  ultralytics.nn.modules.conv.Conv             [128, 128, 3, 2]              \n",
      " 20             [-1, 9]  1         0  ultralytics.nn.modules.conv.Concat           [1]                           \n",
      " 21                  -1  1    493056  ultralytics.nn.modules.block.C2f             [384, 256, 1]                 \n",
      " 22        [15, 18, 21]  1    752092  ultralytics.nn.modules.head.Detect           [4, [64, 128, 256]]           \n"
     ]
    },
    {
     "name": "stderr",
     "output_type": "stream",
     "text": [
      "\n",
      "[W610 11:29:18.105124366 NNPACK.cpp:57] Could not initialize NNPACK! Reason: Unsupported hardware.\n",
      "[W610 11:29:18.115956094 NNPACK.cpp:57] Could not initialize NNPACK! Reason: Unsupported hardware.\n",
      "[W610 11:29:18.118270869 NNPACK.cpp:57] Could not initialize NNPACK! Reason: Unsupported hardware.\n",
      "[W610 11:29:18.121304390 NNPACK.cpp:57] Could not initialize NNPACK! Reason: Unsupported hardware.\n",
      "[W610 11:29:18.122837323 NNPACK.cpp:57] Could not initialize NNPACK! Reason: Unsupported hardware.\n",
      "[W610 11:29:18.123086057 NNPACK.cpp:57] Could not initialize NNPACK! Reason: Unsupported hardware.\n",
      "[W610 11:29:18.124662972 NNPACK.cpp:57] Could not initialize NNPACK! Reason: Unsupported hardware.\n",
      "[W610 11:29:18.125020844 NNPACK.cpp:57] Could not initialize NNPACK! Reason: Unsupported hardware.\n",
      "[W610 11:29:18.125508397 NNPACK.cpp:57] Could not initialize NNPACK! Reason: Unsupported hardware.\n",
      "[W610 11:29:18.126045196 NNPACK.cpp:57] Could not initialize NNPACK! Reason: Unsupported hardware.\n",
      "[W610 11:29:18.127635673 NNPACK.cpp:57] Could not initialize NNPACK! Reason: Unsupported hardware.\n",
      "[W610 11:29:18.127836984 NNPACK.cpp:57] Could not initialize NNPACK! Reason: Unsupported hardware.\n",
      "[W610 11:29:18.128193153 NNPACK.cpp:57] Could not initialize NNPACK! Reason: Unsupported hardware.\n",
      "[W610 11:29:18.129085672 NNPACK.cpp:57] Could not initialize NNPACK! Reason: Unsupported hardware.\n",
      "[W610 11:29:18.129339359 NNPACK.cpp:57] Could not initialize NNPACK! Reason: Unsupported hardware.\n",
      "[W610 11:29:18.132417051 NNPACK.cpp:57] Could not initialize NNPACK! Reason: Unsupported hardware.\n",
      "[W610 11:29:18.135923603 NNPACK.cpp:57] Could not initialize NNPACK! Reason: Unsupported hardware.\n",
      "[W610 11:29:18.136415419 NNPACK.cpp:57] Could not initialize NNPACK! Reason: Unsupported hardware.\n",
      "[W610 11:29:18.136927946 NNPACK.cpp:57] Could not initialize NNPACK! Reason: Unsupported hardware.\n",
      "[W610 11:29:18.137453498 NNPACK.cpp:57] Could not initialize NNPACK! Reason: Unsupported hardware.\n",
      "[W610 11:29:18.138640094 NNPACK.cpp:57] Could not initialize NNPACK! Reason: Unsupported hardware.\n",
      "[W610 11:29:18.140225676 NNPACK.cpp:57] Could not initialize NNPACK! Reason: Unsupported hardware.\n",
      "[W610 11:29:18.141618189 NNPACK.cpp:57] Could not initialize NNPACK! Reason: Unsupported hardware.\n",
      "[W610 11:29:18.141928017 NNPACK.cpp:57] Could not initialize NNPACK! Reason: Unsupported hardware.\n",
      "[W610 11:29:18.142423124 NNPACK.cpp:57] Could not initialize NNPACK! Reason: Unsupported hardware.\n",
      "[W610 11:29:18.142747014 NNPACK.cpp:57] Could not initialize NNPACK! Reason: Unsupported hardware.\n",
      "[W610 11:29:18.143863668 NNPACK.cpp:57] Could not initialize NNPACK! Reason: Unsupported hardware.\n",
      "[W610 11:29:18.144122136 NNPACK.cpp:57] Could not initialize NNPACK! Reason: Unsupported hardware.\n",
      "[W610 11:29:18.144467351 NNPACK.cpp:57] Could not initialize NNPACK! Reason: Unsupported hardware.\n",
      "[W610 11:29:18.144815286 NNPACK.cpp:57] Could not initialize NNPACK! Reason: Unsupported hardware.\n",
      "[W610 11:29:18.147464172 NNPACK.cpp:57] Could not initialize NNPACK! Reason: Unsupported hardware.\n",
      "[W610 11:29:18.149935249 NNPACK.cpp:57] Could not initialize NNPACK! Reason: Unsupported hardware.\n",
      "[W610 11:29:18.150906542 NNPACK.cpp:57] Could not initialize NNPACK! Reason: Unsupported hardware.\n",
      "[W610 11:29:18.151340174 NNPACK.cpp:57] Could not initialize NNPACK! Reason: Unsupported hardware.\n",
      "[W610 11:29:18.151975097 NNPACK.cpp:57] Could not initialize NNPACK! Reason: Unsupported hardware.\n",
      "[W610 11:29:18.152419548 NNPACK.cpp:57] Could not initialize NNPACK! Reason: Unsupported hardware.\n",
      "[W610 11:29:18.152506900 NNPACK.cpp:57] Could not initialize NNPACK! Reason: Unsupported hardware.\n",
      "[W610 11:29:18.152910430 NNPACK.cpp:57] Could not initialize NNPACK! Reason: Unsupported hardware.\n",
      "[W610 11:29:18.153052283 NNPACK.cpp:57] Could not initialize NNPACK! Reason: Unsupported hardware.\n",
      "[W610 11:29:18.153103224 NNPACK.cpp:57] Could not initialize NNPACK! Reason: Unsupported hardware.\n",
      "[W610 11:29:18.153663589 NNPACK.cpp:57] Could not initialize NNPACK! Reason: Unsupported hardware.\n",
      "[W610 11:29:18.153823598 NNPACK.cpp:57] Could not initialize NNPACK! Reason: Unsupported hardware.\n",
      "[W610 11:29:18.183519048 NNPACK.cpp:57] Could not initialize NNPACK! Reason: Unsupported hardware.\n",
      "[W610 11:29:18.185007941 NNPACK.cpp:57] Could not initialize NNPACK! Reason: Unsupported hardware.\n",
      "[W610 11:29:18.185264338 NNPACK.cpp:57] Could not initialize NNPACK! Reason: Unsupported hardware.\n",
      "[W610 11:29:18.185509172 NNPACK.cpp:57] Could not initialize NNPACK! Reason: Unsupported hardware.\n",
      "[W610 11:29:18.185717291 NNPACK.cpp:57] Could not initialize NNPACK! Reason: Unsupported hardware.\n",
      "[W610 11:29:18.185927953 NNPACK.cpp:57] Could not initialize NNPACK! Reason: Unsupported hardware.\n",
      "[W610 11:29:18.186143197 NNPACK.cpp:57] Could not initialize NNPACK! Reason: Unsupported hardware.\n",
      "[W610 11:29:18.186350247 NNPACK.cpp:57] Could not initialize NNPACK! Reason: Unsupported hardware.\n",
      "[W610 11:29:18.186594019 NNPACK.cpp:57] Could not initialize NNPACK! Reason: Unsupported hardware.\n",
      "[W610 11:29:18.186796655 NNPACK.cpp:57] Could not initialize NNPACK! Reason: Unsupported hardware.\n",
      "[W610 11:29:18.187003791 NNPACK.cpp:57] Could not initialize NNPACK! Reason: Unsupported hardware.\n",
      "[W610 11:29:18.187187973 NNPACK.cpp:57] Could not initialize NNPACK! Reason: Unsupported hardware.\n",
      "[W610 11:29:18.187385536 NNPACK.cpp:57] Could not initialize NNPACK! Reason: Unsupported hardware.\n",
      "[W610 11:29:18.187577418 NNPACK.cpp:57] Could not initialize NNPACK! Reason: Unsupported hardware.\n",
      "[W610 11:29:18.187905634 NNPACK.cpp:57] Could not initialize NNPACK! Reason: Unsupported hardware.\n",
      "[W610 11:29:18.188188944 NNPACK.cpp:57] Could not initialize NNPACK! Reason: Unsupported hardware.\n",
      "[W610 11:29:18.188440664 NNPACK.cpp:57] Could not initialize NNPACK! Reason: Unsupported hardware.\n",
      "[W610 11:29:18.188681406 NNPACK.cpp:57] Could not initialize NNPACK! Reason: Unsupported hardware.\n",
      "[W610 11:29:18.188896318 NNPACK.cpp:57] Could not initialize NNPACK! Reason: Unsupported hardware.\n",
      "[W610 11:29:18.189124198 NNPACK.cpp:57] Could not initialize NNPACK! Reason: Unsupported hardware.\n",
      "[W610 11:29:18.189334427 NNPACK.cpp:57] Could not initialize NNPACK! Reason: Unsupported hardware.\n",
      "[W610 11:29:18.190309060 NNPACK.cpp:57] Could not initialize NNPACK! Reason: Unsupported hardware.\n",
      "[W610 11:29:18.190563575 NNPACK.cpp:57] Could not initialize NNPACK! Reason: Unsupported hardware.\n",
      "[W610 11:29:18.190794820 NNPACK.cpp:57] Could not initialize NNPACK! Reason: Unsupported hardware.\n",
      "[W610 11:29:18.191038701 NNPACK.cpp:57] Could not initialize NNPACK! Reason: Unsupported hardware.\n",
      "[W610 11:29:18.191253778 NNPACK.cpp:57] Could not initialize NNPACK! Reason: Unsupported hardware.\n",
      "[W610 11:29:18.191697542 NNPACK.cpp:57] Could not initialize NNPACK! Reason: Unsupported hardware.\n",
      "[W610 11:29:18.192019815 NNPACK.cpp:57] Could not initialize NNPACK! Reason: Unsupported hardware.\n",
      "[W610 11:29:18.192272706 NNPACK.cpp:57] Could not initialize NNPACK! Reason: Unsupported hardware.\n",
      "[W610 11:29:18.192527302 NNPACK.cpp:57] Could not initialize NNPACK! Reason: Unsupported hardware.\n",
      "[W610 11:29:18.192758864 NNPACK.cpp:57] Could not initialize NNPACK! Reason: Unsupported hardware.\n",
      "[W610 11:29:18.193076375 NNPACK.cpp:57] Could not initialize NNPACK! Reason: Unsupported hardware.\n",
      "[W610 11:29:18.193312580 NNPACK.cpp:57] Could not initialize NNPACK! Reason: Unsupported hardware.\n",
      "[W610 11:29:18.193523090 NNPACK.cpp:57] Could not initialize NNPACK! Reason: Unsupported hardware.\n",
      "[W610 11:29:18.193738947 NNPACK.cpp:57] Could not initialize NNPACK! Reason: Unsupported hardware.\n",
      "[W610 11:29:18.193966616 NNPACK.cpp:57] Could not initialize NNPACK! Reason: Unsupported hardware.\n",
      "[W610 11:29:18.194200970 NNPACK.cpp:57] Could not initialize NNPACK! Reason: Unsupported hardware.\n",
      "[W610 11:29:18.194422272 NNPACK.cpp:57] Could not initialize NNPACK! Reason: Unsupported hardware.\n",
      "[W610 11:29:18.194637636 NNPACK.cpp:57] Could not initialize NNPACK! Reason: Unsupported hardware.\n",
      "[W610 11:29:18.194856083 NNPACK.cpp:57] Could not initialize NNPACK! Reason: Unsupported hardware.\n",
      "[W610 11:29:18.195065152 NNPACK.cpp:57] Could not initialize NNPACK! Reason: Unsupported hardware.\n",
      "[W610 11:29:18.195299183 NNPACK.cpp:57] Could not initialize NNPACK! Reason: Unsupported hardware.\n",
      "[W610 11:29:18.195519989 NNPACK.cpp:57] Could not initialize NNPACK! Reason: Unsupported hardware.\n",
      "[W610 11:29:18.195743794 NNPACK.cpp:57] Could not initialize NNPACK! Reason: Unsupported hardware.\n",
      "[W610 11:29:18.195972779 NNPACK.cpp:57] Could not initialize NNPACK! Reason: Unsupported hardware.\n",
      "[W610 11:29:18.196225631 NNPACK.cpp:57] Could not initialize NNPACK! Reason: Unsupported hardware.\n",
      "[W610 11:29:18.196496628 NNPACK.cpp:57] Could not initialize NNPACK! Reason: Unsupported hardware.\n",
      "[W610 11:29:18.196721785 NNPACK.cpp:57] Could not initialize NNPACK! Reason: Unsupported hardware.\n",
      "[W610 11:29:18.197570911 NNPACK.cpp:57] Could not initialize NNPACK! Reason: Unsupported hardware.\n",
      "[W610 11:29:18.198117025 NNPACK.cpp:57] Could not initialize NNPACK! Reason: Unsupported hardware.\n",
      "[W610 11:29:18.198348095 NNPACK.cpp:57] Could not initialize NNPACK! Reason: Unsupported hardware.\n",
      "[W610 11:29:18.198647122 NNPACK.cpp:57] Could not initialize NNPACK! Reason: Unsupported hardware.\n",
      "[W610 11:29:18.198913451 NNPACK.cpp:57] Could not initialize NNPACK! Reason: Unsupported hardware.\n",
      "[W610 11:29:18.199141615 NNPACK.cpp:57] Could not initialize NNPACK! Reason: Unsupported hardware.\n",
      "[W610 11:29:18.199381454 NNPACK.cpp:57] Could not initialize NNPACK! Reason: Unsupported hardware.\n",
      "[W610 11:29:18.199624652 NNPACK.cpp:57] Could not initialize NNPACK! Reason: Unsupported hardware.\n",
      "[W610 11:29:18.199838921 NNPACK.cpp:57] Could not initialize NNPACK! Reason: Unsupported hardware.\n",
      "[W610 11:29:18.200131355 NNPACK.cpp:57] Could not initialize NNPACK! Reason: Unsupported hardware.\n",
      "[W610 11:29:18.200428077 NNPACK.cpp:57] Could not initialize NNPACK! Reason: Unsupported hardware.\n",
      "[W610 11:29:18.200639111 NNPACK.cpp:57] Could not initialize NNPACK! Reason: Unsupported hardware.\n",
      "[W610 11:29:18.200877957 NNPACK.cpp:57] Could not initialize NNPACK! Reason: Unsupported hardware.\n",
      "[W610 11:29:18.201117764 NNPACK.cpp:57] Could not initialize NNPACK! Reason: Unsupported hardware.\n",
      "[W610 11:29:18.201325461 NNPACK.cpp:57] Could not initialize NNPACK! Reason: Unsupported hardware.\n"
     ]
    },
    {
     "name": "stdout",
     "output_type": "stream",
     "text": [
      "Model summary: 129 layers, 3,011,628 parameters, 3,011,612 gradients, 8.2 GFLOPs\n",
      "\n",
      "Transferred 319/355 items from pretrained weights\n"
     ]
    },
    {
     "name": "stderr",
     "output_type": "stream",
     "text": [
      "[W610 11:29:18.205514648 NNPACK.cpp:57] Could not initialize NNPACK! Reason: Unsupported hardware.\n"
     ]
    },
    {
     "name": "stdout",
     "output_type": "stream",
     "text": [
      "Freezing layer 'model.22.dfl.conv.weight'\n",
      "\u001b[34m\u001b[1mAMP: \u001b[0mrunning Automatic Mixed Precision (AMP) checks...\n",
      "\u001b[34m\u001b[1mAMP: \u001b[0mchecks passed ✅\n",
      "\u001b[34m\u001b[1mtrain: \u001b[0mFast image access ✅ (ping: 0.6±0.2 ms, read: 4.2±0.1 MB/s, size: 0.8 KB)\n"
     ]
    },
    {
     "name": "stderr",
     "output_type": "stream",
     "text": [
      "\u001b[34m\u001b[1mtrain: \u001b[0mScanning /home/soheil/splits_simple_fused/splits_simple_fused_2025-06-06_01-11-05/labels/train.cache... 629591 images, 0 backgr\u001b[0m\n"
     ]
    },
    {
     "name": "stdout",
     "output_type": "stream",
     "text": [
      "WARNING ⚠️ cache='ram' may produce non-deterministic training results. Consider cache='disk' as a deterministic alternative if your disk space allows.\n"
     ]
    },
    {
     "name": "stderr",
     "output_type": "stream",
     "text": [
      "\u001b[34m\u001b[1mtrain: \u001b[0mCaching images (43.2GB RAM): 100%|██████████| 629591/629591 [02:09<00:00, 4865.45it/s]\u001b[0m"
     ]
    },
    {
     "name": "stdout",
     "output_type": "stream",
     "text": [
      "WARNING ⚠️ 'rect=True' is incompatible with DataLoader shuffle, setting shuffle=False\n"
     ]
    },
    {
     "name": "stderr",
     "output_type": "stream",
     "text": [
      "\n"
     ]
    },
    {
     "name": "stdout",
     "output_type": "stream",
     "text": [
      "\u001b[34m\u001b[1mval: \u001b[0mFast image access ✅ (ping: 0.5±0.3 ms, read: 5.3±1.4 MB/s, size: 0.8 KB)\n"
     ]
    },
    {
     "name": "stderr",
     "output_type": "stream",
     "text": [
      "\u001b[34m\u001b[1mval: \u001b[0mScanning /home/soheil/splits_simple_fused/splits_simple_fused_2025-06-06_01-11-05/labels/val.cache... 72528 images, 0 backgrounds\u001b[0m\n"
     ]
    },
    {
     "name": "stdout",
     "output_type": "stream",
     "text": [
      "WARNING ⚠️ cache='ram' may produce non-deterministic training results. Consider cache='disk' as a deterministic alternative if your disk space allows.\n"
     ]
    },
    {
     "name": "stderr",
     "output_type": "stream",
     "text": [
      "\u001b[34m\u001b[1mval: \u001b[0mCaching images (5.0GB RAM): 100%|██████████| 72528/72528 [00:14<00:00, 4875.51it/s]\u001b[0m\n"
     ]
    },
    {
     "name": "stdout",
     "output_type": "stream",
     "text": [
      "Plotting labels to runs/detect/train/labels.jpg... \n",
      "\u001b[34m\u001b[1moptimizer:\u001b[0m 'optimizer=auto' found, ignoring 'lr0=0.01' and 'momentum=0.937' and determining best 'optimizer', 'lr0' and 'momentum' automatically... \n",
      "\u001b[34m\u001b[1moptimizer:\u001b[0m SGD(lr=0.01, momentum=0.9) with parameter groups 57 weight(decay=0.0), 64 weight(decay=0.008), 63 bias(decay=0.0)\n",
      "Image sizes 384 train, 384 val\n",
      "Using 10 dataloader workers\n",
      "Logging results to \u001b[1mruns/detect/train\u001b[0m\n",
      "Starting training for 120 epochs...\n",
      "\n",
      "      Epoch    GPU_mem   box_loss   cls_loss   dfl_loss  Instances       Size\n"
     ]
    },
    {
     "name": "stderr",
     "output_type": "stream",
     "text": [
      "      1/120      7.57G      1.848      2.069      1.551       3123        384: 100%|██████████| 615/615 [02:42<00:00,  3.79it/s]\n",
      "                 Class     Images  Instances      Box(P          R      mAP50  mAP50-95): 100%|██████████| 36/36 [02:15<00:00,  3.77s/\n"
     ]
    },
    {
     "name": "stdout",
     "output_type": "stream",
     "text": [
      "                   all      72528     276961      0.483      0.709      0.527      0.199\n",
      "\n",
      "      Epoch    GPU_mem   box_loss   cls_loss   dfl_loss  Instances       Size\n"
     ]
    },
    {
     "name": "stderr",
     "output_type": "stream",
     "text": [
      "      2/120      10.5G      1.136      1.061      1.121       3136        384: 100%|██████████| 615/615 [02:40<00:00,  3.84it/s]\n",
      "                 Class     Images  Instances      Box(P          R      mAP50  mAP50-95): 100%|██████████| 36/36 [02:13<00:00,  3.72s/\n"
     ]
    },
    {
     "name": "stdout",
     "output_type": "stream",
     "text": [
      "                   all      72528     276961      0.906      0.841      0.925      0.464\n",
      "\n",
      "      Epoch    GPU_mem   box_loss   cls_loss   dfl_loss  Instances       Size\n"
     ]
    },
    {
     "name": "stderr",
     "output_type": "stream",
     "text": [
      "      3/120      10.5G      1.018      0.789      1.031       3100        384: 100%|██████████| 615/615 [02:39<00:00,  3.85it/s]\n",
      "                 Class     Images  Instances      Box(P          R      mAP50  mAP50-95): 100%|██████████| 36/36 [02:18<00:00,  3.86s/\n"
     ]
    },
    {
     "name": "stdout",
     "output_type": "stream",
     "text": [
      "                   all      72528     276961      0.372      0.275      0.261      0.128\n",
      "\n",
      "      Epoch    GPU_mem   box_loss   cls_loss   dfl_loss  Instances       Size\n"
     ]
    },
    {
     "name": "stderr",
     "output_type": "stream",
     "text": [
      "      4/120      10.5G     0.9377      0.693     0.9976       3116        384: 100%|██████████| 615/615 [02:38<00:00,  3.87it/s]\n",
      "                 Class     Images  Instances      Box(P          R      mAP50  mAP50-95): 100%|██████████| 36/36 [02:12<00:00,  3.69s/\n"
     ]
    },
    {
     "name": "stdout",
     "output_type": "stream",
     "text": [
      "                   all      72528     276961      0.784      0.737      0.791      0.323\n",
      "\n",
      "      Epoch    GPU_mem   box_loss   cls_loss   dfl_loss  Instances       Size\n"
     ]
    },
    {
     "name": "stderr",
     "output_type": "stream",
     "text": [
      "      5/120      10.5G     0.8766     0.6355     0.9755       3122        384: 100%|██████████| 615/615 [02:38<00:00,  3.88it/s]\n",
      "                 Class     Images  Instances      Box(P          R      mAP50  mAP50-95): 100%|██████████| 36/36 [02:15<00:00,  3.76s/\n"
     ]
    },
    {
     "name": "stdout",
     "output_type": "stream",
     "text": [
      "                   all      72528     276961      0.534      0.476      0.413      0.126\n",
      "\n",
      "      Epoch    GPU_mem   box_loss   cls_loss   dfl_loss  Instances       Size\n"
     ]
    },
    {
     "name": "stderr",
     "output_type": "stream",
     "text": [
      "      6/120      10.5G     0.8471     0.6104     0.9656       3127        384: 100%|██████████| 615/615 [02:38<00:00,  3.87it/s]\n",
      "                 Class     Images  Instances      Box(P          R      mAP50  mAP50-95): 100%|██████████| 36/36 [02:12<00:00,  3.69s/\n"
     ]
    },
    {
     "name": "stdout",
     "output_type": "stream",
     "text": [
      "                   all      72528     276961      0.784       0.69      0.805      0.449\n",
      "\n",
      "      Epoch    GPU_mem   box_loss   cls_loss   dfl_loss  Instances       Size\n"
     ]
    },
    {
     "name": "stderr",
     "output_type": "stream",
     "text": [
      "      7/120      10.5G     0.8275     0.5898     0.9587       3105        384: 100%|██████████| 615/615 [02:40<00:00,  3.84it/s]\n",
      "                 Class     Images  Instances      Box(P          R      mAP50  mAP50-95): 100%|██████████| 36/36 [02:14<00:00,  3.74s/\n"
     ]
    },
    {
     "name": "stdout",
     "output_type": "stream",
     "text": [
      "                   all      72528     276961      0.529      0.402       0.43      0.167\n",
      "\n",
      "      Epoch    GPU_mem   box_loss   cls_loss   dfl_loss  Instances       Size\n"
     ]
    },
    {
     "name": "stderr",
     "output_type": "stream",
     "text": [
      "      8/120      10.5G     0.8148     0.5779     0.9544       3118        384: 100%|██████████| 615/615 [02:38<00:00,  3.87it/s]\n",
      "                 Class     Images  Instances      Box(P          R      mAP50  mAP50-95): 100%|██████████| 36/36 [02:10<00:00,  3.63s/\n"
     ]
    },
    {
     "name": "stdout",
     "output_type": "stream",
     "text": [
      "                   all      72528     276961      0.904      0.856      0.928      0.424\n",
      "\n",
      "      Epoch    GPU_mem   box_loss   cls_loss   dfl_loss  Instances       Size\n"
     ]
    },
    {
     "name": "stderr",
     "output_type": "stream",
     "text": [
      "      9/120      10.5G     0.8035     0.5691     0.9511       3133        384: 100%|██████████| 615/615 [02:39<00:00,  3.86it/s]\n",
      "                 Class     Images  Instances      Box(P          R      mAP50  mAP50-95): 100%|██████████| 36/36 [02:13<00:00,  3.71s/\n"
     ]
    },
    {
     "name": "stdout",
     "output_type": "stream",
     "text": [
      "                   all      72528     276961      0.355      0.273       0.17     0.0569\n",
      "\n",
      "      Epoch    GPU_mem   box_loss   cls_loss   dfl_loss  Instances       Size\n"
     ]
    },
    {
     "name": "stderr",
     "output_type": "stream",
     "text": [
      "     10/120      10.5G     0.7964     0.5591     0.9481       3110        384: 100%|██████████| 615/615 [02:39<00:00,  3.86it/s]\n",
      "                 Class     Images  Instances      Box(P          R      mAP50  mAP50-95): 100%|██████████| 36/36 [02:15<00:00,  3.78s/\n"
     ]
    },
    {
     "name": "stdout",
     "output_type": "stream",
     "text": [
      "                   all      72528     276961      0.215      0.105     0.0433     0.0151\n",
      "\n",
      "      Epoch    GPU_mem   box_loss   cls_loss   dfl_loss  Instances       Size\n"
     ]
    },
    {
     "name": "stderr",
     "output_type": "stream",
     "text": [
      "     11/120      10.5G     0.7895     0.5515      0.946       3106        384: 100%|██████████| 615/615 [02:40<00:00,  3.84it/s]\n",
      "                 Class     Images  Instances      Box(P          R      mAP50  mAP50-95): 100%|██████████| 36/36 [02:09<00:00,  3.61s/\n"
     ]
    },
    {
     "name": "stdout",
     "output_type": "stream",
     "text": [
      "                   all      72528     276961      0.939      0.931      0.976      0.594\n",
      "\n",
      "      Epoch    GPU_mem   box_loss   cls_loss   dfl_loss  Instances       Size\n"
     ]
    },
    {
     "name": "stderr",
     "output_type": "stream",
     "text": [
      "     12/120      10.5G     0.7825     0.5456     0.9443       3125        384: 100%|██████████| 615/615 [02:38<00:00,  3.87it/s]\n",
      "                 Class     Images  Instances      Box(P          R      mAP50  mAP50-95): 100%|██████████| 36/36 [02:08<00:00,  3.57s/\n"
     ]
    },
    {
     "name": "stdout",
     "output_type": "stream",
     "text": [
      "                   all      72528     276961      0.947      0.947      0.982      0.631\n",
      "\n",
      "      Epoch    GPU_mem   box_loss   cls_loss   dfl_loss  Instances       Size\n"
     ]
    },
    {
     "name": "stderr",
     "output_type": "stream",
     "text": [
      "     13/120      10.5G     0.7757     0.5394     0.9424       3104        384: 100%|██████████| 615/615 [02:38<00:00,  3.87it/s]\n",
      "                 Class     Images  Instances      Box(P          R      mAP50  mAP50-95): 100%|██████████| 36/36 [02:08<00:00,  3.56s/\n"
     ]
    },
    {
     "name": "stdout",
     "output_type": "stream",
     "text": [
      "                   all      72528     276961       0.95      0.949      0.984      0.779\n",
      "\n",
      "      Epoch    GPU_mem   box_loss   cls_loss   dfl_loss  Instances       Size\n"
     ]
    },
    {
     "name": "stderr",
     "output_type": "stream",
     "text": [
      "     14/120      10.5G     0.7711      0.535      0.941       3123        384: 100%|██████████| 615/615 [02:38<00:00,  3.87it/s]\n",
      "                 Class     Images  Instances      Box(P          R      mAP50  mAP50-95): 100%|██████████| 36/36 [02:07<00:00,  3.55s/\n"
     ]
    },
    {
     "name": "stdout",
     "output_type": "stream",
     "text": [
      "                   all      72528     276961      0.951      0.954      0.986      0.637\n",
      "\n",
      "      Epoch    GPU_mem   box_loss   cls_loss   dfl_loss  Instances       Size\n"
     ]
    },
    {
     "name": "stderr",
     "output_type": "stream",
     "text": [
      "     15/120      10.5G     0.7671      0.529     0.9398       3117        384: 100%|██████████| 615/615 [02:40<00:00,  3.83it/s]\n",
      "                 Class     Images  Instances      Box(P          R      mAP50  mAP50-95): 100%|██████████| 36/36 [02:06<00:00,  3.50s/\n"
     ]
    },
    {
     "name": "stdout",
     "output_type": "stream",
     "text": [
      "                   all      72528     276961      0.943      0.948      0.981      0.641\n",
      "\n",
      "      Epoch    GPU_mem   box_loss   cls_loss   dfl_loss  Instances       Size\n"
     ]
    },
    {
     "name": "stderr",
     "output_type": "stream",
     "text": [
      "     16/120      10.5G     0.7622     0.5244     0.9385       3120        384: 100%|██████████| 615/615 [02:39<00:00,  3.86it/s]\n",
      "                 Class     Images  Instances      Box(P          R      mAP50  mAP50-95): 100%|██████████| 36/36 [02:06<00:00,  3.51s/\n"
     ]
    },
    {
     "name": "stdout",
     "output_type": "stream",
     "text": [
      "                   all      72528     276961      0.942      0.945      0.982      0.619\n",
      "\n",
      "      Epoch    GPU_mem   box_loss   cls_loss   dfl_loss  Instances       Size\n"
     ]
    },
    {
     "name": "stderr",
     "output_type": "stream",
     "text": [
      "     17/120      10.5G     0.7589     0.5214     0.9377       3096        384: 100%|██████████| 615/615 [02:38<00:00,  3.89it/s]\n",
      "                 Class     Images  Instances      Box(P          R      mAP50  mAP50-95): 100%|██████████| 36/36 [02:07<00:00,  3.55s/\n"
     ]
    },
    {
     "name": "stdout",
     "output_type": "stream",
     "text": [
      "                   all      72528     276961      0.948      0.955      0.985      0.669\n",
      "\n",
      "      Epoch    GPU_mem   box_loss   cls_loss   dfl_loss  Instances       Size\n"
     ]
    },
    {
     "name": "stderr",
     "output_type": "stream",
     "text": [
      "     18/120      10.5G     0.7544     0.5179     0.9365       3106        384: 100%|██████████| 615/615 [02:39<00:00,  3.86it/s]\n",
      "                 Class     Images  Instances      Box(P          R      mAP50  mAP50-95): 100%|██████████| 36/36 [02:07<00:00,  3.53s/\n"
     ]
    },
    {
     "name": "stdout",
     "output_type": "stream",
     "text": [
      "                   all      72528     276961       0.95      0.949      0.984      0.625\n",
      "\n",
      "      Epoch    GPU_mem   box_loss   cls_loss   dfl_loss  Instances       Size\n"
     ]
    },
    {
     "name": "stderr",
     "output_type": "stream",
     "text": [
      "     19/120      10.5G     0.7518     0.5131     0.9353       3133        384: 100%|██████████| 615/615 [02:38<00:00,  3.87it/s]\n",
      "                 Class     Images  Instances      Box(P          R      mAP50  mAP50-95): 100%|██████████| 36/36 [02:06<00:00,  3.52s/\n"
     ]
    },
    {
     "name": "stdout",
     "output_type": "stream",
     "text": [
      "                   all      72528     276961      0.943      0.953      0.984      0.649\n",
      "\n",
      "      Epoch    GPU_mem   box_loss   cls_loss   dfl_loss  Instances       Size\n"
     ]
    },
    {
     "name": "stderr",
     "output_type": "stream",
     "text": [
      "     20/120      10.5G     0.7482     0.5114     0.9346       3116        384: 100%|██████████| 615/615 [02:40<00:00,  3.83it/s]\n",
      "                 Class     Images  Instances      Box(P          R      mAP50  mAP50-95): 100%|██████████| 36/36 [02:07<00:00,  3.53s/\n"
     ]
    },
    {
     "name": "stdout",
     "output_type": "stream",
     "text": [
      "                   all      72528     276961      0.949      0.951      0.985      0.654\n",
      "\n",
      "      Epoch    GPU_mem   box_loss   cls_loss   dfl_loss  Instances       Size\n"
     ]
    },
    {
     "name": "stderr",
     "output_type": "stream",
     "text": [
      "     21/120      10.5G     0.7457     0.5068      0.934       3107        384: 100%|██████████| 615/615 [02:38<00:00,  3.89it/s]\n",
      "                 Class     Images  Instances      Box(P          R      mAP50  mAP50-95): 100%|██████████| 36/36 [02:07<00:00,  3.54s/\n"
     ]
    },
    {
     "name": "stdout",
     "output_type": "stream",
     "text": [
      "                   all      72528     276961      0.945       0.95      0.983      0.636\n",
      "\n",
      "      Epoch    GPU_mem   box_loss   cls_loss   dfl_loss  Instances       Size\n"
     ]
    },
    {
     "name": "stderr",
     "output_type": "stream",
     "text": [
      "     22/120      10.5G     0.7419     0.5045     0.9327       3128        384: 100%|██████████| 615/615 [02:38<00:00,  3.88it/s]\n",
      "                 Class     Images  Instances      Box(P          R      mAP50  mAP50-95): 100%|██████████| 36/36 [02:07<00:00,  3.54s/\n"
     ]
    },
    {
     "name": "stdout",
     "output_type": "stream",
     "text": [
      "                   all      72528     276961      0.944      0.948      0.983      0.627\n",
      "\n",
      "      Epoch    GPU_mem   box_loss   cls_loss   dfl_loss  Instances       Size\n"
     ]
    },
    {
     "name": "stderr",
     "output_type": "stream",
     "text": [
      "     23/120      10.5G     0.7391     0.4992     0.9322       3118        384: 100%|██████████| 615/615 [02:39<00:00,  3.86it/s]\n",
      "                 Class     Images  Instances      Box(P          R      mAP50  mAP50-95): 100%|██████████| 36/36 [02:07<00:00,  3.54s/\n"
     ]
    },
    {
     "name": "stdout",
     "output_type": "stream",
     "text": [
      "                   all      72528     276961      0.945      0.948      0.984      0.633\n",
      "\n",
      "      Epoch    GPU_mem   box_loss   cls_loss   dfl_loss  Instances       Size\n"
     ]
    },
    {
     "name": "stderr",
     "output_type": "stream",
     "text": [
      "     24/120      10.5G     0.7365     0.4987     0.9313       3113        384: 100%|██████████| 615/615 [02:40<00:00,  3.84it/s]\n",
      "                 Class     Images  Instances      Box(P          R      mAP50  mAP50-95): 100%|██████████| 36/36 [02:06<00:00,  3.52s/\n"
     ]
    },
    {
     "name": "stdout",
     "output_type": "stream",
     "text": [
      "                   all      72528     276961      0.943       0.95      0.984      0.636\n",
      "\n",
      "      Epoch    GPU_mem   box_loss   cls_loss   dfl_loss  Instances       Size\n"
     ]
    },
    {
     "name": "stderr",
     "output_type": "stream",
     "text": [
      "     25/120      10.5G     0.7343     0.4944      0.931       3116        384: 100%|██████████| 615/615 [02:38<00:00,  3.88it/s]\n",
      "                 Class     Images  Instances      Box(P          R      mAP50  mAP50-95): 100%|██████████| 36/36 [02:07<00:00,  3.54s/\n"
     ]
    },
    {
     "name": "stdout",
     "output_type": "stream",
     "text": [
      "                   all      72528     276961      0.942       0.95      0.983      0.633\n",
      "\n",
      "      Epoch    GPU_mem   box_loss   cls_loss   dfl_loss  Instances       Size\n"
     ]
    },
    {
     "name": "stderr",
     "output_type": "stream",
     "text": [
      "     26/120      10.5G     0.7328      0.492     0.9302       3124        384: 100%|██████████| 615/615 [02:38<00:00,  3.87it/s]\n",
      "                 Class     Images  Instances      Box(P          R      mAP50  mAP50-95): 100%|██████████| 36/36 [02:07<00:00,  3.54s/\n"
     ]
    },
    {
     "name": "stdout",
     "output_type": "stream",
     "text": [
      "                   all      72528     276961      0.941      0.952      0.984      0.636\n",
      "\n",
      "      Epoch    GPU_mem   box_loss   cls_loss   dfl_loss  Instances       Size\n"
     ]
    },
    {
     "name": "stderr",
     "output_type": "stream",
     "text": [
      "     27/120      10.5G     0.7297     0.4888     0.9296       3124        384: 100%|██████████| 615/615 [02:39<00:00,  3.86it/s]\n",
      "                 Class     Images  Instances      Box(P          R      mAP50  mAP50-95): 100%|██████████| 36/36 [02:07<00:00,  3.54s/\n"
     ]
    },
    {
     "name": "stdout",
     "output_type": "stream",
     "text": [
      "                   all      72528     276961       0.94      0.951      0.983      0.629\n",
      "\n",
      "      Epoch    GPU_mem   box_loss   cls_loss   dfl_loss  Instances       Size\n"
     ]
    },
    {
     "name": "stderr",
     "output_type": "stream",
     "text": [
      "     28/120      10.5G     0.7267     0.4879     0.9286       3106        384: 100%|██████████| 615/615 [02:40<00:00,  3.83it/s]\n",
      "                 Class     Images  Instances      Box(P          R      mAP50  mAP50-95): 100%|██████████| 36/36 [02:07<00:00,  3.54s/\n"
     ]
    },
    {
     "name": "stdout",
     "output_type": "stream",
     "text": [
      "                   all      72528     276961       0.94      0.951      0.983      0.631\n",
      "\n",
      "      Epoch    GPU_mem   box_loss   cls_loss   dfl_loss  Instances       Size\n"
     ]
    },
    {
     "name": "stderr",
     "output_type": "stream",
     "text": [
      "     29/120      10.5G     0.7248     0.4847     0.9277       3124        384: 100%|██████████| 615/615 [02:39<00:00,  3.86it/s]\n",
      "                 Class     Images  Instances      Box(P          R      mAP50  mAP50-95): 100%|██████████| 36/36 [02:07<00:00,  3.53s/\n"
     ]
    },
    {
     "name": "stdout",
     "output_type": "stream",
     "text": [
      "                   all      72528     276961      0.939       0.95      0.983      0.632\n",
      "\n",
      "      Epoch    GPU_mem   box_loss   cls_loss   dfl_loss  Instances       Size\n"
     ]
    },
    {
     "name": "stderr",
     "output_type": "stream",
     "text": [
      "     30/120      10.5G     0.7227     0.4832     0.9273       3119        384: 100%|██████████| 615/615 [02:39<00:00,  3.86it/s]\n",
      "                 Class     Images  Instances      Box(P          R      mAP50  mAP50-95): 100%|██████████| 36/36 [02:08<00:00,  3.57s/\n"
     ]
    },
    {
     "name": "stdout",
     "output_type": "stream",
     "text": [
      "                   all      72528     276961      0.939      0.949      0.983      0.631\n",
      "\n",
      "      Epoch    GPU_mem   box_loss   cls_loss   dfl_loss  Instances       Size\n"
     ]
    },
    {
     "name": "stderr",
     "output_type": "stream",
     "text": [
      "     31/120      10.5G     0.7206     0.4788     0.9264       3115        384: 100%|██████████| 615/615 [02:39<00:00,  3.85it/s]\n",
      "                 Class     Images  Instances      Box(P          R      mAP50  mAP50-95): 100%|██████████| 36/36 [02:09<00:00,  3.59s/\n"
     ]
    },
    {
     "name": "stdout",
     "output_type": "stream",
     "text": [
      "                   all      72528     276961      0.938      0.949      0.983      0.628\n",
      "\n",
      "      Epoch    GPU_mem   box_loss   cls_loss   dfl_loss  Instances       Size\n"
     ]
    },
    {
     "name": "stderr",
     "output_type": "stream",
     "text": [
      "     32/120      10.5G     0.7189     0.4789     0.9265       3141        384: 100%|██████████| 615/615 [02:41<00:00,  3.82it/s]\n",
      "                 Class     Images  Instances      Box(P          R      mAP50  mAP50-95): 100%|██████████| 36/36 [02:06<00:00,  3.52s/\n"
     ]
    },
    {
     "name": "stdout",
     "output_type": "stream",
     "text": [
      "                   all      72528     276961      0.938      0.949      0.983      0.629\n",
      "\n",
      "      Epoch    GPU_mem   box_loss   cls_loss   dfl_loss  Instances       Size\n"
     ]
    },
    {
     "name": "stderr",
     "output_type": "stream",
     "text": [
      "     33/120      10.5G     0.7165     0.4729     0.9248       3108        384: 100%|██████████| 615/615 [02:38<00:00,  3.88it/s]\n",
      "                 Class     Images  Instances      Box(P          R      mAP50  mAP50-95): 100%|██████████| 36/36 [02:08<00:00,  3.56s/\n"
     ]
    },
    {
     "name": "stdout",
     "output_type": "stream",
     "text": [
      "                   all      72528     276961      0.938      0.948      0.983      0.628\n",
      "\n",
      "      Epoch    GPU_mem   box_loss   cls_loss   dfl_loss  Instances       Size\n"
     ]
    },
    {
     "name": "stderr",
     "output_type": "stream",
     "text": [
      "     34/120      10.5G     0.7149     0.4732     0.9244       3107        384: 100%|██████████| 615/615 [02:38<00:00,  3.88it/s]\n",
      "                 Class     Images  Instances      Box(P          R      mAP50  mAP50-95): 100%|██████████| 36/36 [02:07<00:00,  3.54s/\n"
     ]
    },
    {
     "name": "stdout",
     "output_type": "stream",
     "text": [
      "                   all      72528     276961      0.938      0.946      0.982      0.628\n",
      "\n",
      "      Epoch    GPU_mem   box_loss   cls_loss   dfl_loss  Instances       Size\n"
     ]
    },
    {
     "name": "stderr",
     "output_type": "stream",
     "text": [
      "     35/120      10.5G     0.7124      0.471     0.9241       3115        384: 100%|██████████| 615/615 [02:39<00:00,  3.87it/s]\n",
      "                 Class     Images  Instances      Box(P          R      mAP50  mAP50-95): 100%|██████████| 36/36 [02:07<00:00,  3.53s/\n"
     ]
    },
    {
     "name": "stdout",
     "output_type": "stream",
     "text": [
      "                   all      72528     276961      0.938      0.945      0.982      0.628\n",
      "\n",
      "      Epoch    GPU_mem   box_loss   cls_loss   dfl_loss  Instances       Size\n"
     ]
    },
    {
     "name": "stderr",
     "output_type": "stream",
     "text": [
      "     36/120      10.5G     0.7103     0.4679     0.9238       3099        384: 100%|██████████| 615/615 [02:40<00:00,  3.83it/s]\n",
      "                 Class     Images  Instances      Box(P          R      mAP50  mAP50-95): 100%|██████████| 36/36 [02:07<00:00,  3.53s/\n"
     ]
    },
    {
     "name": "stdout",
     "output_type": "stream",
     "text": [
      "                   all      72528     276961      0.939      0.944      0.982       0.63\n",
      "\n",
      "      Epoch    GPU_mem   box_loss   cls_loss   dfl_loss  Instances       Size\n"
     ]
    },
    {
     "name": "stderr",
     "output_type": "stream",
     "text": [
      "     37/120      10.5G     0.7086     0.4655     0.9234       3121        384: 100%|██████████| 615/615 [02:37<00:00,  3.90it/s]\n",
      "                 Class     Images  Instances      Box(P          R      mAP50  mAP50-95): 100%|██████████| 36/36 [02:05<00:00,  3.49s/\n"
     ]
    },
    {
     "name": "stdout",
     "output_type": "stream",
     "text": [
      "                   all      72528     276961       0.94      0.942      0.982      0.629\n",
      "\n",
      "      Epoch    GPU_mem   box_loss   cls_loss   dfl_loss  Instances       Size\n"
     ]
    },
    {
     "name": "stderr",
     "output_type": "stream",
     "text": [
      "     38/120      10.5G     0.7066     0.4645     0.9222       3133        384: 100%|██████████| 615/615 [02:38<00:00,  3.88it/s]\n",
      "                 Class     Images  Instances      Box(P          R      mAP50  mAP50-95): 100%|██████████| 36/36 [02:06<00:00,  3.53s/\n"
     ]
    },
    {
     "name": "stdout",
     "output_type": "stream",
     "text": [
      "                   all      72528     276961      0.942      0.939      0.981      0.627\n",
      "\n",
      "      Epoch    GPU_mem   box_loss   cls_loss   dfl_loss  Instances       Size\n"
     ]
    },
    {
     "name": "stderr",
     "output_type": "stream",
     "text": [
      "     39/120      10.5G     0.7042     0.4618     0.9217       3112        384: 100%|██████████| 615/615 [02:38<00:00,  3.87it/s]\n",
      "                 Class     Images  Instances      Box(P          R      mAP50  mAP50-95): 100%|██████████| 36/36 [02:06<00:00,  3.52s/\n"
     ]
    },
    {
     "name": "stdout",
     "output_type": "stream",
     "text": [
      "                   all      72528     276961      0.943      0.938      0.981      0.628\n",
      "\n",
      "      Epoch    GPU_mem   box_loss   cls_loss   dfl_loss  Instances       Size\n"
     ]
    },
    {
     "name": "stderr",
     "output_type": "stream",
     "text": [
      "     40/120      10.5G     0.7023     0.4601     0.9211       3100        384: 100%|██████████| 615/615 [02:38<00:00,  3.89it/s]\n",
      "                 Class     Images  Instances      Box(P          R      mAP50  mAP50-95): 100%|██████████| 36/36 [02:05<00:00,  3.50s/\n"
     ]
    },
    {
     "name": "stdout",
     "output_type": "stream",
     "text": [
      "                   all      72528     276961      0.943      0.936      0.981      0.628\n",
      "\n",
      "      Epoch    GPU_mem   box_loss   cls_loss   dfl_loss  Instances       Size\n"
     ]
    },
    {
     "name": "stderr",
     "output_type": "stream",
     "text": [
      "     41/120      10.5G     0.7008     0.4564     0.9207       3151        384: 100%|██████████| 615/615 [02:39<00:00,  3.84it/s]\n",
      "                 Class     Images  Instances      Box(P          R      mAP50  mAP50-95): 100%|██████████| 36/36 [02:06<00:00,  3.53s/\n"
     ]
    },
    {
     "name": "stdout",
     "output_type": "stream",
     "text": [
      "                   all      72528     276961      0.944      0.934       0.98      0.625\n",
      "\n",
      "      Epoch    GPU_mem   box_loss   cls_loss   dfl_loss  Instances       Size\n"
     ]
    },
    {
     "name": "stderr",
     "output_type": "stream",
     "text": [
      "     42/120      10.5G     0.6985     0.4561     0.9199       3119        384: 100%|██████████| 615/615 [02:38<00:00,  3.88it/s]\n",
      "                 Class     Images  Instances      Box(P          R      mAP50  mAP50-95): 100%|██████████| 36/36 [02:06<00:00,  3.53s/\n"
     ]
    },
    {
     "name": "stdout",
     "output_type": "stream",
     "text": [
      "                   all      72528     276961      0.944      0.933       0.98      0.627\n",
      "\n",
      "      Epoch    GPU_mem   box_loss   cls_loss   dfl_loss  Instances       Size\n"
     ]
    },
    {
     "name": "stderr",
     "output_type": "stream",
     "text": [
      "     43/120      10.5G     0.6962     0.4523     0.9194       3119        384: 100%|██████████| 615/615 [02:38<00:00,  3.87it/s]\n",
      "                 Class     Images  Instances      Box(P          R      mAP50  mAP50-95): 100%|██████████| 36/36 [02:06<00:00,  3.51s/\n"
     ]
    },
    {
     "name": "stdout",
     "output_type": "stream",
     "text": [
      "                   all      72528     276961      0.944      0.932      0.979      0.627\n",
      "\n",
      "      Epoch    GPU_mem   box_loss   cls_loss   dfl_loss  Instances       Size\n"
     ]
    },
    {
     "name": "stderr",
     "output_type": "stream",
     "text": [
      "     44/120      10.5G     0.6957     0.4536     0.9194       3102        384: 100%|██████████| 615/615 [02:38<00:00,  3.88it/s]\n",
      "                 Class     Images  Instances      Box(P          R      mAP50  mAP50-95): 100%|██████████| 36/36 [02:07<00:00,  3.53s/\n"
     ]
    },
    {
     "name": "stdout",
     "output_type": "stream",
     "text": [
      "                   all      72528     276961      0.944       0.93      0.978      0.617\n",
      "\n",
      "      Epoch    GPU_mem   box_loss   cls_loss   dfl_loss  Instances       Size\n"
     ]
    },
    {
     "name": "stderr",
     "output_type": "stream",
     "text": [
      "     45/120      10.5G     0.6938     0.4499     0.9184       3125        384: 100%|██████████| 615/615 [02:40<00:00,  3.83it/s]\n",
      "                 Class     Images  Instances      Box(P          R      mAP50  mAP50-95): 100%|██████████| 36/36 [02:07<00:00,  3.54s/\n"
     ]
    },
    {
     "name": "stdout",
     "output_type": "stream",
     "text": [
      "                   all      72528     276961      0.944      0.929      0.978       0.62\n",
      "\n",
      "      Epoch    GPU_mem   box_loss   cls_loss   dfl_loss  Instances       Size\n"
     ]
    },
    {
     "name": "stderr",
     "output_type": "stream",
     "text": [
      "     46/120      10.5G     0.6903     0.4475     0.9175       3112        384: 100%|██████████| 615/615 [02:39<00:00,  3.86it/s]\n",
      "                 Class     Images  Instances      Box(P          R      mAP50  mAP50-95): 100%|██████████| 36/36 [02:07<00:00,  3.54s/\n"
     ]
    },
    {
     "name": "stdout",
     "output_type": "stream",
     "text": [
      "                   all      72528     276961      0.946      0.929      0.978      0.626\n",
      "\n",
      "      Epoch    GPU_mem   box_loss   cls_loss   dfl_loss  Instances       Size\n"
     ]
    },
    {
     "name": "stderr",
     "output_type": "stream",
     "text": [
      "     47/120      10.5G     0.6896     0.4457     0.9172       3143        384: 100%|██████████| 615/615 [02:39<00:00,  3.86it/s]\n",
      "                 Class     Images  Instances      Box(P          R      mAP50  mAP50-95): 100%|██████████| 36/36 [02:07<00:00,  3.54s/\n"
     ]
    },
    {
     "name": "stdout",
     "output_type": "stream",
     "text": [
      "                   all      72528     276961      0.946      0.928      0.978      0.621\n",
      "\n",
      "      Epoch    GPU_mem   box_loss   cls_loss   dfl_loss  Instances       Size\n"
     ]
    },
    {
     "name": "stderr",
     "output_type": "stream",
     "text": [
      "     48/120      10.5G     0.6865     0.4426     0.9166       3122        384: 100%|██████████| 615/615 [02:39<00:00,  3.87it/s]\n",
      "                 Class     Images  Instances      Box(P          R      mAP50  mAP50-95): 100%|██████████| 36/36 [02:07<00:00,  3.54s/\n"
     ]
    },
    {
     "name": "stdout",
     "output_type": "stream",
     "text": [
      "                   all      72528     276961      0.945      0.927      0.977      0.621\n",
      "\n",
      "      Epoch    GPU_mem   box_loss   cls_loss   dfl_loss  Instances       Size\n"
     ]
    },
    {
     "name": "stderr",
     "output_type": "stream",
     "text": [
      "     49/120      10.5G     0.6848     0.4435     0.9162       3107        384: 100%|██████████| 615/615 [02:40<00:00,  3.84it/s]\n",
      "                 Class     Images  Instances      Box(P          R      mAP50  mAP50-95): 100%|██████████| 36/36 [02:07<00:00,  3.53s/\n"
     ]
    },
    {
     "name": "stdout",
     "output_type": "stream",
     "text": [
      "                   all      72528     276961      0.946      0.926      0.977       0.62\n",
      "\n",
      "      Epoch    GPU_mem   box_loss   cls_loss   dfl_loss  Instances       Size\n"
     ]
    },
    {
     "name": "stderr",
     "output_type": "stream",
     "text": [
      "     50/120      10.5G     0.6842     0.4398     0.9159       3115        384: 100%|██████████| 615/615 [02:38<00:00,  3.88it/s]\n",
      "                 Class     Images  Instances      Box(P          R      mAP50  mAP50-95): 100%|██████████| 36/36 [02:06<00:00,  3.51s/\n"
     ]
    },
    {
     "name": "stdout",
     "output_type": "stream",
     "text": [
      "                   all      72528     276961      0.945      0.925      0.976      0.614\n",
      "\n",
      "      Epoch    GPU_mem   box_loss   cls_loss   dfl_loss  Instances       Size\n"
     ]
    },
    {
     "name": "stderr",
     "output_type": "stream",
     "text": [
      "     51/120      10.5G      0.681     0.4382     0.9148       3106        384: 100%|██████████| 615/615 [02:38<00:00,  3.88it/s]\n",
      "                 Class     Images  Instances      Box(P          R      mAP50  mAP50-95): 100%|██████████| 36/36 [02:06<00:00,  3.51s/\n"
     ]
    },
    {
     "name": "stdout",
     "output_type": "stream",
     "text": [
      "                   all      72528     276961      0.945      0.925      0.976      0.612\n",
      "\n",
      "      Epoch    GPU_mem   box_loss   cls_loss   dfl_loss  Instances       Size\n"
     ]
    },
    {
     "name": "stderr",
     "output_type": "stream",
     "text": [
      "     52/120      10.5G       0.68      0.436     0.9147       3106        384: 100%|██████████| 615/615 [02:38<00:00,  3.87it/s]\n",
      "                 Class     Images  Instances      Box(P          R      mAP50  mAP50-95): 100%|██████████| 36/36 [02:06<00:00,  3.52s/\n"
     ]
    },
    {
     "name": "stdout",
     "output_type": "stream",
     "text": [
      "                   all      72528     276961      0.945      0.925      0.976      0.612\n",
      "\n",
      "      Epoch    GPU_mem   box_loss   cls_loss   dfl_loss  Instances       Size\n"
     ]
    },
    {
     "name": "stderr",
     "output_type": "stream",
     "text": [
      "     53/120      10.5G     0.6776     0.4342     0.9136       3119        384: 100%|██████████| 615/615 [02:40<00:00,  3.83it/s]\n",
      "                 Class     Images  Instances      Box(P          R      mAP50  mAP50-95): 100%|██████████| 36/36 [02:04<00:00,  3.47s/\n"
     ]
    },
    {
     "name": "stdout",
     "output_type": "stream",
     "text": [
      "                   all      72528     276961      0.945      0.924      0.975      0.613\n",
      "\n",
      "      Epoch    GPU_mem   box_loss   cls_loss   dfl_loss  Instances       Size\n"
     ]
    },
    {
     "name": "stderr",
     "output_type": "stream",
     "text": [
      "     54/120      10.5G     0.6754     0.4329     0.9133       3110        384: 100%|██████████| 615/615 [02:38<00:00,  3.88it/s]\n",
      "                 Class     Images  Instances      Box(P          R      mAP50  mAP50-95): 100%|██████████| 36/36 [02:05<00:00,  3.50s/\n"
     ]
    },
    {
     "name": "stdout",
     "output_type": "stream",
     "text": [
      "                   all      72528     276961      0.946      0.924      0.975      0.615\n",
      "\n",
      "      Epoch    GPU_mem   box_loss   cls_loss   dfl_loss  Instances       Size\n"
     ]
    },
    {
     "name": "stderr",
     "output_type": "stream",
     "text": [
      "     55/120      10.5G     0.6736     0.4306     0.9127       3114        384: 100%|██████████| 615/615 [02:38<00:00,  3.88it/s]\n",
      "                 Class     Images  Instances      Box(P          R      mAP50  mAP50-95): 100%|██████████| 36/36 [02:07<00:00,  3.53s/\n"
     ]
    },
    {
     "name": "stdout",
     "output_type": "stream",
     "text": [
      "                   all      72528     276961      0.946      0.923      0.975      0.615\n",
      "\n",
      "      Epoch    GPU_mem   box_loss   cls_loss   dfl_loss  Instances       Size\n"
     ]
    },
    {
     "name": "stderr",
     "output_type": "stream",
     "text": [
      "     56/120      10.5G     0.6724     0.4293     0.9125       3106        384: 100%|██████████| 615/615 [02:39<00:00,  3.86it/s]\n",
      "                 Class     Images  Instances      Box(P          R      mAP50  mAP50-95): 100%|██████████| 36/36 [02:06<00:00,  3.53s/\n"
     ]
    },
    {
     "name": "stdout",
     "output_type": "stream",
     "text": [
      "                   all      72528     276961      0.946      0.921      0.974      0.612\n",
      "\n",
      "      Epoch    GPU_mem   box_loss   cls_loss   dfl_loss  Instances       Size\n"
     ]
    },
    {
     "name": "stderr",
     "output_type": "stream",
     "text": [
      "     57/120      10.5G       0.67     0.4286     0.9117       3104        384: 100%|██████████| 615/615 [02:38<00:00,  3.88it/s]\n",
      "                 Class     Images  Instances      Box(P          R      mAP50  mAP50-95): 100%|██████████| 36/36 [02:06<00:00,  3.52s/\n"
     ]
    },
    {
     "name": "stdout",
     "output_type": "stream",
     "text": [
      "                   all      72528     276961      0.947      0.919      0.973      0.611\n",
      "\n",
      "      Epoch    GPU_mem   box_loss   cls_loss   dfl_loss  Instances       Size\n"
     ]
    },
    {
     "name": "stderr",
     "output_type": "stream",
     "text": [
      "     58/120      10.5G     0.6681     0.4274     0.9112       3127        384: 100%|██████████| 615/615 [02:41<00:00,  3.82it/s]\n",
      "                 Class     Images  Instances      Box(P          R      mAP50  mAP50-95): 100%|██████████| 36/36 [02:07<00:00,  3.54s/\n"
     ]
    },
    {
     "name": "stdout",
     "output_type": "stream",
     "text": [
      "                   all      72528     276961      0.947      0.919      0.973      0.612\n",
      "\n",
      "      Epoch    GPU_mem   box_loss   cls_loss   dfl_loss  Instances       Size\n"
     ]
    },
    {
     "name": "stderr",
     "output_type": "stream",
     "text": [
      "     59/120      10.5G      0.666     0.4235     0.9104       3119        384: 100%|██████████| 615/615 [02:38<00:00,  3.87it/s]\n",
      "                 Class     Images  Instances      Box(P          R      mAP50  mAP50-95): 100%|██████████| 36/36 [02:06<00:00,  3.51s/\n"
     ]
    },
    {
     "name": "stdout",
     "output_type": "stream",
     "text": [
      "                   all      72528     276961      0.947      0.919      0.973      0.614\n",
      "\n",
      "      Epoch    GPU_mem   box_loss   cls_loss   dfl_loss  Instances       Size\n"
     ]
    },
    {
     "name": "stderr",
     "output_type": "stream",
     "text": [
      "     60/120      10.5G     0.6647     0.4214     0.9101       3118        384: 100%|██████████| 615/615 [02:38<00:00,  3.87it/s]\n",
      "                 Class     Images  Instances      Box(P          R      mAP50  mAP50-95): 100%|██████████| 36/36 [02:07<00:00,  3.54s/\n"
     ]
    },
    {
     "name": "stdout",
     "output_type": "stream",
     "text": [
      "                   all      72528     276961      0.947      0.916      0.972      0.605\n",
      "\n",
      "      Epoch    GPU_mem   box_loss   cls_loss   dfl_loss  Instances       Size\n"
     ]
    },
    {
     "name": "stderr",
     "output_type": "stream",
     "text": [
      "     61/120      10.5G     0.6618     0.4201     0.9093       3114        384: 100%|██████████| 615/615 [02:38<00:00,  3.87it/s]\n",
      "                 Class     Images  Instances      Box(P          R      mAP50  mAP50-95): 100%|██████████| 36/36 [02:07<00:00,  3.55s/\n"
     ]
    },
    {
     "name": "stdout",
     "output_type": "stream",
     "text": [
      "                   all      72528     276961      0.947      0.916      0.972      0.607\n",
      "\n",
      "      Epoch    GPU_mem   box_loss   cls_loss   dfl_loss  Instances       Size\n"
     ]
    },
    {
     "name": "stderr",
     "output_type": "stream",
     "text": [
      "     62/120      10.5G       0.66     0.4185     0.9088       3105        384: 100%|██████████| 615/615 [02:40<00:00,  3.82it/s]\n",
      "                 Class     Images  Instances      Box(P          R      mAP50  mAP50-95): 100%|██████████| 36/36 [02:07<00:00,  3.53s/\n"
     ]
    },
    {
     "name": "stdout",
     "output_type": "stream",
     "text": [
      "                   all      72528     276961      0.947      0.915      0.971      0.603\n",
      "\n",
      "      Epoch    GPU_mem   box_loss   cls_loss   dfl_loss  Instances       Size\n"
     ]
    },
    {
     "name": "stderr",
     "output_type": "stream",
     "text": [
      "     63/120      10.5G     0.6585     0.4168     0.9081       3117        384: 100%|██████████| 615/615 [02:38<00:00,  3.88it/s]\n",
      "                 Class     Images  Instances      Box(P          R      mAP50  mAP50-95): 100%|██████████| 36/36 [02:07<00:00,  3.53s/\n"
     ]
    },
    {
     "name": "stdout",
     "output_type": "stream",
     "text": [
      "                   all      72528     276961      0.947      0.915      0.971        0.6\n",
      "\n",
      "      Epoch    GPU_mem   box_loss   cls_loss   dfl_loss  Instances       Size\n"
     ]
    },
    {
     "name": "stderr",
     "output_type": "stream",
     "text": [
      "     64/120      10.5G     0.6562     0.4157     0.9076       3128        384: 100%|██████████| 615/615 [02:38<00:00,  3.87it/s]\n",
      "                 Class     Images  Instances      Box(P          R      mAP50  mAP50-95): 100%|██████████| 36/36 [02:07<00:00,  3.54s/\n"
     ]
    },
    {
     "name": "stdout",
     "output_type": "stream",
     "text": [
      "                   all      72528     276961      0.946      0.913      0.969      0.595\n",
      "\n",
      "      Epoch    GPU_mem   box_loss   cls_loss   dfl_loss  Instances       Size\n"
     ]
    },
    {
     "name": "stderr",
     "output_type": "stream",
     "text": [
      "     65/120      10.5G     0.6545     0.4124     0.9069       3098        384: 100%|██████████| 615/615 [02:38<00:00,  3.87it/s]\n",
      "                 Class     Images  Instances      Box(P          R      mAP50  mAP50-95): 100%|██████████| 36/36 [02:07<00:00,  3.55s/\n"
     ]
    },
    {
     "name": "stdout",
     "output_type": "stream",
     "text": [
      "                   all      72528     276961      0.945       0.91      0.968      0.589\n",
      "\n",
      "      Epoch    GPU_mem   box_loss   cls_loss   dfl_loss  Instances       Size\n"
     ]
    },
    {
     "name": "stderr",
     "output_type": "stream",
     "text": [
      "     66/120      10.5G     0.6526     0.4119     0.9068       3127        384: 100%|██████████| 615/615 [02:41<00:00,  3.81it/s]\n",
      "                 Class     Images  Instances      Box(P          R      mAP50  mAP50-95): 100%|██████████| 36/36 [02:06<00:00,  3.52s/\n"
     ]
    },
    {
     "name": "stdout",
     "output_type": "stream",
     "text": [
      "                   all      72528     276961      0.944      0.907      0.965      0.581\n",
      "\n",
      "      Epoch    GPU_mem   box_loss   cls_loss   dfl_loss  Instances       Size\n"
     ]
    },
    {
     "name": "stderr",
     "output_type": "stream",
     "text": [
      "     67/120      10.5G     0.6507     0.4089     0.9058       3125        384: 100%|██████████| 615/615 [02:39<00:00,  3.87it/s]\n",
      "                 Class     Images  Instances      Box(P          R      mAP50  mAP50-95): 100%|██████████| 36/36 [02:05<00:00,  3.50s/\n"
     ]
    },
    {
     "name": "stdout",
     "output_type": "stream",
     "text": [
      "                   all      72528     276961      0.943      0.904      0.964      0.576\n",
      "\n",
      "      Epoch    GPU_mem   box_loss   cls_loss   dfl_loss  Instances       Size\n"
     ]
    },
    {
     "name": "stderr",
     "output_type": "stream",
     "text": [
      "     68/120      10.5G     0.6482      0.407     0.9048       3111        384: 100%|██████████| 615/615 [02:39<00:00,  3.86it/s]\n",
      "                 Class     Images  Instances      Box(P          R      mAP50  mAP50-95): 100%|██████████| 36/36 [02:07<00:00,  3.53s/\n"
     ]
    },
    {
     "name": "stdout",
     "output_type": "stream",
     "text": [
      "                   all      72528     276961      0.941      0.898       0.96      0.564\n",
      "\n",
      "      Epoch    GPU_mem   box_loss   cls_loss   dfl_loss  Instances       Size\n"
     ]
    },
    {
     "name": "stderr",
     "output_type": "stream",
     "text": [
      "     69/120      10.5G      0.646     0.4056     0.9044       3095        384: 100%|██████████| 615/615 [02:39<00:00,  3.86it/s]\n",
      "                 Class     Images  Instances      Box(P          R      mAP50  mAP50-95): 100%|██████████| 36/36 [02:06<00:00,  3.52s/\n"
     ]
    },
    {
     "name": "stdout",
     "output_type": "stream",
     "text": [
      "                   all      72528     276961      0.939      0.894      0.958      0.558\n",
      "\n",
      "      Epoch    GPU_mem   box_loss   cls_loss   dfl_loss  Instances       Size\n"
     ]
    },
    {
     "name": "stderr",
     "output_type": "stream",
     "text": [
      "     70/120      10.5G     0.6442     0.4034     0.9039       3120        384: 100%|██████████| 615/615 [02:41<00:00,  3.81it/s]\n",
      "                 Class     Images  Instances      Box(P          R      mAP50  mAP50-95): 100%|██████████| 36/36 [02:06<00:00,  3.51s/\n"
     ]
    },
    {
     "name": "stdout",
     "output_type": "stream",
     "text": [
      "                   all      72528     276961      0.939       0.89      0.956      0.552\n",
      "\n",
      "      Epoch    GPU_mem   box_loss   cls_loss   dfl_loss  Instances       Size\n"
     ]
    },
    {
     "name": "stderr",
     "output_type": "stream",
     "text": [
      "     71/120      10.5G     0.6416     0.4021     0.9032       3118        384: 100%|██████████| 615/615 [02:41<00:00,  3.81it/s]\n",
      "                 Class     Images  Instances      Box(P          R      mAP50  mAP50-95): 100%|██████████| 36/36 [02:07<00:00,  3.53s/\n"
     ]
    },
    {
     "name": "stdout",
     "output_type": "stream",
     "text": [
      "                   all      72528     276961      0.936      0.885      0.952      0.543\n",
      "\n",
      "      Epoch    GPU_mem   box_loss   cls_loss   dfl_loss  Instances       Size\n"
     ]
    },
    {
     "name": "stderr",
     "output_type": "stream",
     "text": [
      "     72/120      10.5G     0.6378     0.3996     0.9018       3118        384: 100%|██████████| 615/615 [02:38<00:00,  3.88it/s]\n",
      "                 Class     Images  Instances      Box(P          R      mAP50  mAP50-95): 100%|██████████| 36/36 [02:07<00:00,  3.54s/\n"
     ]
    },
    {
     "name": "stdout",
     "output_type": "stream",
     "text": [
      "                   all      72528     276961      0.936      0.882      0.951       0.54\n",
      "\n",
      "      Epoch    GPU_mem   box_loss   cls_loss   dfl_loss  Instances       Size\n"
     ]
    },
    {
     "name": "stderr",
     "output_type": "stream",
     "text": [
      "     73/120      10.5G     0.6377     0.3987      0.902       3093        384: 100%|██████████| 615/615 [02:39<00:00,  3.86it/s]\n",
      "                 Class     Images  Instances      Box(P          R      mAP50  mAP50-95): 100%|██████████| 36/36 [02:06<00:00,  3.53s/\n"
     ]
    },
    {
     "name": "stdout",
     "output_type": "stream",
     "text": [
      "                   all      72528     276961      0.938      0.882      0.952      0.542\n",
      "\n",
      "      Epoch    GPU_mem   box_loss   cls_loss   dfl_loss  Instances       Size\n"
     ]
    },
    {
     "name": "stderr",
     "output_type": "stream",
     "text": [
      "     74/120      10.5G     0.6352     0.3968     0.9015       3129        384: 100%|██████████| 615/615 [02:38<00:00,  3.88it/s]\n",
      "                 Class     Images  Instances      Box(P          R      mAP50  mAP50-95): 100%|██████████| 36/36 [02:06<00:00,  3.52s/\n"
     ]
    },
    {
     "name": "stdout",
     "output_type": "stream",
     "text": [
      "                   all      72528     276961      0.937      0.881      0.951      0.539\n",
      "\n",
      "      Epoch    GPU_mem   box_loss   cls_loss   dfl_loss  Instances       Size\n"
     ]
    },
    {
     "name": "stderr",
     "output_type": "stream",
     "text": [
      "     75/120      10.5G     0.6327     0.3948     0.9006       3116        384: 100%|██████████| 615/615 [02:40<00:00,  3.83it/s]\n",
      "                 Class     Images  Instances      Box(P          R      mAP50  mAP50-95): 100%|██████████| 36/36 [02:06<00:00,  3.51s/\n"
     ]
    },
    {
     "name": "stdout",
     "output_type": "stream",
     "text": [
      "                   all      72528     276961      0.934      0.873      0.945      0.526\n",
      "\n",
      "      Epoch    GPU_mem   box_loss   cls_loss   dfl_loss  Instances       Size\n"
     ]
    },
    {
     "name": "stderr",
     "output_type": "stream",
     "text": [
      "     76/120      10.5G     0.6292     0.3912     0.8994       3109        384: 100%|██████████| 615/615 [02:38<00:00,  3.87it/s]\n",
      "                 Class     Images  Instances      Box(P          R      mAP50  mAP50-95): 100%|██████████| 36/36 [02:07<00:00,  3.54s/\n"
     ]
    },
    {
     "name": "stdout",
     "output_type": "stream",
     "text": [
      "                   all      72528     276961      0.932       0.87      0.942      0.521\n",
      "\n",
      "      Epoch    GPU_mem   box_loss   cls_loss   dfl_loss  Instances       Size\n"
     ]
    },
    {
     "name": "stderr",
     "output_type": "stream",
     "text": [
      "     77/120      10.5G     0.6273     0.3914     0.8988       3110        384: 100%|██████████| 615/615 [02:38<00:00,  3.88it/s]\n",
      "                 Class     Images  Instances      Box(P          R      mAP50  mAP50-95): 100%|██████████| 36/36 [02:07<00:00,  3.53s/\n"
     ]
    },
    {
     "name": "stdout",
     "output_type": "stream",
     "text": [
      "                   all      72528     276961      0.929      0.848      0.928      0.498\n",
      "\n",
      "      Epoch    GPU_mem   box_loss   cls_loss   dfl_loss  Instances       Size\n"
     ]
    },
    {
     "name": "stderr",
     "output_type": "stream",
     "text": [
      "     78/120      10.5G     0.6257     0.3886     0.8983       3109        384: 100%|██████████| 615/615 [02:38<00:00,  3.88it/s]\n",
      "                 Class     Images  Instances      Box(P          R      mAP50  mAP50-95): 100%|██████████| 36/36 [02:06<00:00,  3.52s/\n"
     ]
    },
    {
     "name": "stdout",
     "output_type": "stream",
     "text": [
      "                   all      72528     276961      0.929      0.851      0.929        0.5\n",
      "\n",
      "      Epoch    GPU_mem   box_loss   cls_loss   dfl_loss  Instances       Size\n"
     ]
    },
    {
     "name": "stderr",
     "output_type": "stream",
     "text": [
      "     79/120      10.5G     0.6237     0.3856     0.8974       3126        384: 100%|██████████| 615/615 [02:40<00:00,  3.83it/s]\n",
      "                 Class     Images  Instances      Box(P          R      mAP50  mAP50-95): 100%|██████████| 36/36 [02:07<00:00,  3.54s/\n"
     ]
    },
    {
     "name": "stdout",
     "output_type": "stream",
     "text": [
      "                   all      72528     276961      0.927      0.841      0.922       0.49\n",
      "\n",
      "      Epoch    GPU_mem   box_loss   cls_loss   dfl_loss  Instances       Size\n"
     ]
    },
    {
     "name": "stderr",
     "output_type": "stream",
     "text": [
      "     80/120      10.5G     0.6199     0.3836     0.8967       3129        384: 100%|██████████| 615/615 [02:39<00:00,  3.86it/s]\n",
      "                 Class     Images  Instances      Box(P          R      mAP50  mAP50-95): 100%|██████████| 36/36 [02:07<00:00,  3.53s/\n"
     ]
    },
    {
     "name": "stdout",
     "output_type": "stream",
     "text": [
      "                   all      72528     276961      0.924      0.833      0.915      0.482\n",
      "\n",
      "      Epoch    GPU_mem   box_loss   cls_loss   dfl_loss  Instances       Size\n"
     ]
    },
    {
     "name": "stderr",
     "output_type": "stream",
     "text": [
      "     81/120      10.5G     0.6182     0.3822     0.8961       3125        384: 100%|██████████| 615/615 [02:38<00:00,  3.88it/s]\n",
      "                 Class     Images  Instances      Box(P          R      mAP50  mAP50-95): 100%|██████████| 36/36 [02:07<00:00,  3.54s/\n"
     ]
    },
    {
     "name": "stdout",
     "output_type": "stream",
     "text": [
      "                   all      72528     276961      0.924      0.832      0.914      0.481\n",
      "\n",
      "      Epoch    GPU_mem   box_loss   cls_loss   dfl_loss  Instances       Size\n"
     ]
    },
    {
     "name": "stderr",
     "output_type": "stream",
     "text": [
      "     82/120      10.5G     0.6151     0.3801     0.8951       3122        384: 100%|██████████| 615/615 [02:38<00:00,  3.88it/s]\n",
      "                 Class     Images  Instances      Box(P          R      mAP50  mAP50-95): 100%|██████████| 36/36 [02:07<00:00,  3.53s/\n"
     ]
    },
    {
     "name": "stdout",
     "output_type": "stream",
     "text": [
      "                   all      72528     276961      0.918      0.816        0.9      0.464\n",
      "\n",
      "      Epoch    GPU_mem   box_loss   cls_loss   dfl_loss  Instances       Size\n"
     ]
    },
    {
     "name": "stderr",
     "output_type": "stream",
     "text": [
      "     83/120      10.5G     0.6131     0.3781     0.8943       3102        384: 100%|██████████| 615/615 [02:40<00:00,  3.84it/s]\n",
      "                 Class     Images  Instances      Box(P          R      mAP50  mAP50-95): 100%|██████████| 36/36 [02:07<00:00,  3.54s/\n"
     ]
    },
    {
     "name": "stdout",
     "output_type": "stream",
     "text": [
      "                   all      72528     276961      0.921      0.826      0.908      0.474\n",
      "\n",
      "      Epoch    GPU_mem   box_loss   cls_loss   dfl_loss  Instances       Size\n"
     ]
    },
    {
     "name": "stderr",
     "output_type": "stream",
     "text": [
      "     84/120      10.5G      0.611     0.3755      0.894       3143        384: 100%|██████████| 615/615 [02:38<00:00,  3.87it/s]\n",
      "                 Class     Images  Instances      Box(P          R      mAP50  mAP50-95): 100%|██████████| 36/36 [02:07<00:00,  3.54s/\n"
     ]
    },
    {
     "name": "stdout",
     "output_type": "stream",
     "text": [
      "                   all      72528     276961      0.921      0.826      0.909      0.475\n",
      "\n",
      "      Epoch    GPU_mem   box_loss   cls_loss   dfl_loss  Instances       Size\n"
     ]
    },
    {
     "name": "stderr",
     "output_type": "stream",
     "text": [
      "     85/120      10.5G     0.6071     0.3732     0.8926       3126        384: 100%|██████████| 615/615 [02:38<00:00,  3.87it/s]\n",
      "                 Class     Images  Instances      Box(P          R      mAP50  mAP50-95): 100%|██████████| 36/36 [02:07<00:00,  3.53s/\n"
     ]
    },
    {
     "name": "stdout",
     "output_type": "stream",
     "text": [
      "                   all      72528     276961       0.92      0.822      0.905       0.47\n",
      "\n",
      "      Epoch    GPU_mem   box_loss   cls_loss   dfl_loss  Instances       Size\n"
     ]
    },
    {
     "name": "stderr",
     "output_type": "stream",
     "text": [
      "     86/120      10.5G     0.6047     0.3702     0.8919       3121        384: 100%|██████████| 615/615 [02:38<00:00,  3.87it/s]\n",
      "                 Class     Images  Instances      Box(P          R      mAP50  mAP50-95): 100%|██████████| 36/36 [02:07<00:00,  3.55s/\n"
     ]
    },
    {
     "name": "stdout",
     "output_type": "stream",
     "text": [
      "                   all      72528     276961      0.915      0.809      0.895      0.457\n",
      "\n",
      "      Epoch    GPU_mem   box_loss   cls_loss   dfl_loss  Instances       Size\n"
     ]
    },
    {
     "name": "stderr",
     "output_type": "stream",
     "text": [
      "     87/120      10.5G     0.6019     0.3689     0.8912       3106        384: 100%|██████████| 615/615 [02:38<00:00,  3.88it/s]\n",
      "                 Class     Images  Instances      Box(P          R      mAP50  mAP50-95): 100%|██████████| 36/36 [02:07<00:00,  3.53s/\n"
     ]
    },
    {
     "name": "stdout",
     "output_type": "stream",
     "text": [
      "                   all      72528     276961       0.89      0.776      0.864      0.427\n",
      "\n",
      "      Epoch    GPU_mem   box_loss   cls_loss   dfl_loss  Instances       Size\n"
     ]
    },
    {
     "name": "stderr",
     "output_type": "stream",
     "text": [
      "     88/120      10.5G      0.598     0.3659     0.8902       3124        384: 100%|██████████| 615/615 [02:41<00:00,  3.82it/s]\n",
      "                 Class     Images  Instances      Box(P          R      mAP50  mAP50-95): 100%|██████████| 36/36 [02:07<00:00,  3.55s/\n"
     ]
    },
    {
     "name": "stdout",
     "output_type": "stream",
     "text": [
      "                   all      72528     276961      0.832      0.725      0.814       0.39\n",
      "\n",
      "      Epoch    GPU_mem   box_loss   cls_loss   dfl_loss  Instances       Size\n"
     ]
    },
    {
     "name": "stderr",
     "output_type": "stream",
     "text": [
      "     89/120      10.5G      0.596     0.3642     0.8894       3119        384: 100%|██████████| 615/615 [02:39<00:00,  3.86it/s]\n",
      "                 Class     Images  Instances      Box(P          R      mAP50  mAP50-95): 100%|██████████| 36/36 [02:07<00:00,  3.54s/\n"
     ]
    },
    {
     "name": "stdout",
     "output_type": "stream",
     "text": [
      "                   all      72528     276961      0.836      0.731      0.819      0.394\n",
      "\n",
      "      Epoch    GPU_mem   box_loss   cls_loss   dfl_loss  Instances       Size\n"
     ]
    },
    {
     "name": "stderr",
     "output_type": "stream",
     "text": [
      "     90/120      10.5G     0.5927     0.3613     0.8885       3111        384: 100%|██████████| 615/615 [02:39<00:00,  3.86it/s]\n",
      "                 Class     Images  Instances      Box(P          R      mAP50  mAP50-95): 100%|██████████| 36/36 [02:08<00:00,  3.56s/\n"
     ]
    },
    {
     "name": "stdout",
     "output_type": "stream",
     "text": [
      "                   all      72528     276961      0.696      0.615      0.675      0.311\n",
      "\n",
      "      Epoch    GPU_mem   box_loss   cls_loss   dfl_loss  Instances       Size\n"
     ]
    },
    {
     "name": "stderr",
     "output_type": "stream",
     "text": [
      "     91/120      10.5G     0.5896     0.3589     0.8875       3119        384: 100%|██████████| 615/615 [02:39<00:00,  3.86it/s]\n",
      "                 Class     Images  Instances      Box(P          R      mAP50  mAP50-95): 100%|██████████| 36/36 [02:08<00:00,  3.57s/\n"
     ]
    },
    {
     "name": "stdout",
     "output_type": "stream",
     "text": [
      "                   all      72528     276961      0.711      0.626      0.691      0.319\n",
      "\n",
      "      Epoch    GPU_mem   box_loss   cls_loss   dfl_loss  Instances       Size\n"
     ]
    },
    {
     "name": "stderr",
     "output_type": "stream",
     "text": [
      "     92/120      10.5G     0.5856     0.3559     0.8863       3133        384: 100%|██████████| 615/615 [02:40<00:00,  3.83it/s]\n",
      "                 Class     Images  Instances      Box(P          R      mAP50  mAP50-95): 100%|██████████| 36/36 [02:08<00:00,  3.56s/\n"
     ]
    },
    {
     "name": "stdout",
     "output_type": "stream",
     "text": [
      "                   all      72528     276961      0.581      0.525      0.518      0.233\n",
      "\n",
      "      Epoch    GPU_mem   box_loss   cls_loss   dfl_loss  Instances       Size\n"
     ]
    },
    {
     "name": "stderr",
     "output_type": "stream",
     "text": [
      "     93/120      10.5G     0.5823     0.3525     0.8852       3135        384: 100%|██████████| 615/615 [02:39<00:00,  3.87it/s]\n",
      "                 Class     Images  Instances      Box(P          R      mAP50  mAP50-95): 100%|██████████| 36/36 [02:08<00:00,  3.57s/\n"
     ]
    },
    {
     "name": "stdout",
     "output_type": "stream",
     "text": [
      "                   all      72528     276961       0.55      0.506       0.48      0.214\n",
      "\n",
      "      Epoch    GPU_mem   box_loss   cls_loss   dfl_loss  Instances       Size\n"
     ]
    },
    {
     "name": "stderr",
     "output_type": "stream",
     "text": [
      "     94/120      10.5G     0.5788     0.3515     0.8843       3106        384: 100%|██████████| 615/615 [02:39<00:00,  3.86it/s]\n",
      "                 Class     Images  Instances      Box(P          R      mAP50  mAP50-95): 100%|██████████| 36/36 [02:08<00:00,  3.56s/\n"
     ]
    },
    {
     "name": "stdout",
     "output_type": "stream",
     "text": [
      "                   all      72528     276961      0.593      0.536      0.538      0.244\n",
      "\n",
      "      Epoch    GPU_mem   box_loss   cls_loss   dfl_loss  Instances       Size\n"
     ]
    },
    {
     "name": "stderr",
     "output_type": "stream",
     "text": [
      "     95/120      10.5G      0.575     0.3489     0.8833       3133        384: 100%|██████████| 615/615 [02:39<00:00,  3.86it/s]\n",
      "                 Class     Images  Instances      Box(P          R      mAP50  mAP50-95): 100%|██████████| 36/36 [02:08<00:00,  3.56s/\n"
     ]
    },
    {
     "name": "stdout",
     "output_type": "stream",
     "text": [
      "                   all      72528     276961      0.542      0.501      0.469      0.209\n",
      "\n",
      "      Epoch    GPU_mem   box_loss   cls_loss   dfl_loss  Instances       Size\n"
     ]
    },
    {
     "name": "stderr",
     "output_type": "stream",
     "text": [
      "     96/120      10.5G     0.5716     0.3451     0.8819       3136        384: 100%|██████████| 615/615 [02:41<00:00,  3.82it/s]\n",
      "                 Class     Images  Instances      Box(P          R      mAP50  mAP50-95): 100%|██████████| 36/36 [02:08<00:00,  3.57s/\n"
     ]
    },
    {
     "name": "stdout",
     "output_type": "stream",
     "text": [
      "                   all      72528     276961      0.395      0.403        0.3      0.125\n",
      "\n",
      "      Epoch    GPU_mem   box_loss   cls_loss   dfl_loss  Instances       Size\n"
     ]
    },
    {
     "name": "stderr",
     "output_type": "stream",
     "text": [
      "     97/120      10.5G      0.568      0.343     0.8812       3107        384: 100%|██████████| 615/615 [02:39<00:00,  3.86it/s]\n",
      "                 Class     Images  Instances      Box(P          R      mAP50  mAP50-95): 100%|██████████| 36/36 [02:08<00:00,  3.57s/\n"
     ]
    },
    {
     "name": "stdout",
     "output_type": "stream",
     "text": [
      "                   all      72528     276961      0.342       0.35      0.238     0.0968\n",
      "\n",
      "      Epoch    GPU_mem   box_loss   cls_loss   dfl_loss  Instances       Size\n"
     ]
    },
    {
     "name": "stderr",
     "output_type": "stream",
     "text": [
      "     98/120      10.5G     0.5637     0.3398     0.8797       3130        384: 100%|██████████| 615/615 [02:39<00:00,  3.87it/s]\n",
      "                 Class     Images  Instances      Box(P          R      mAP50  mAP50-95): 100%|██████████| 36/36 [02:07<00:00,  3.53s/\n"
     ]
    },
    {
     "name": "stdout",
     "output_type": "stream",
     "text": [
      "                   all      72528     276961      0.327      0.331      0.219     0.0887\n",
      "\n",
      "      Epoch    GPU_mem   box_loss   cls_loss   dfl_loss  Instances       Size\n"
     ]
    },
    {
     "name": "stderr",
     "output_type": "stream",
     "text": [
      "     99/120      10.5G     0.5603     0.3369     0.8789       3114        384: 100%|██████████| 615/615 [02:38<00:00,  3.87it/s]\n",
      "                 Class     Images  Instances      Box(P          R      mAP50  mAP50-95): 100%|██████████| 36/36 [02:07<00:00,  3.54s/\n"
     ]
    },
    {
     "name": "stdout",
     "output_type": "stream",
     "text": [
      "                   all      72528     276961      0.294      0.281      0.176     0.0695\n",
      "\n",
      "      Epoch    GPU_mem   box_loss   cls_loss   dfl_loss  Instances       Size\n"
     ]
    },
    {
     "name": "stderr",
     "output_type": "stream",
     "text": [
      "    100/120      10.5G     0.5563     0.3338     0.8777       3108        384: 100%|██████████| 615/615 [02:40<00:00,  3.83it/s]\n",
      "                 Class     Images  Instances      Box(P          R      mAP50  mAP50-95): 100%|██████████| 36/36 [02:07<00:00,  3.55s/\n"
     ]
    },
    {
     "name": "stdout",
     "output_type": "stream",
     "text": [
      "                   all      72528     276961      0.283      0.263      0.163     0.0638\n",
      "\n",
      "      Epoch    GPU_mem   box_loss   cls_loss   dfl_loss  Instances       Size\n"
     ]
    },
    {
     "name": "stderr",
     "output_type": "stream",
     "text": [
      "    101/120      10.5G     0.5522     0.3306     0.8766       3132        384: 100%|██████████| 615/615 [02:39<00:00,  3.86it/s]\n",
      "                 Class     Images  Instances      Box(P          R      mAP50  mAP50-95): 100%|██████████| 36/36 [02:07<00:00,  3.54s/\n"
     ]
    },
    {
     "name": "stdout",
     "output_type": "stream",
     "text": [
      "                   all      72528     276961      0.248      0.204      0.124     0.0472\n",
      "\n",
      "      Epoch    GPU_mem   box_loss   cls_loss   dfl_loss  Instances       Size\n"
     ]
    },
    {
     "name": "stderr",
     "output_type": "stream",
     "text": [
      "    102/120      10.5G     0.5478     0.3272     0.8751       3113        384: 100%|██████████| 615/615 [02:39<00:00,  3.87it/s]\n",
      "                 Class     Images  Instances      Box(P          R      mAP50  mAP50-95): 100%|██████████| 36/36 [02:06<00:00,  3.53s/\n"
     ]
    },
    {
     "name": "stdout",
     "output_type": "stream",
     "text": [
      "                   all      72528     276961      0.221      0.158     0.0972     0.0366\n",
      "\n",
      "      Epoch    GPU_mem   box_loss   cls_loss   dfl_loss  Instances       Size\n"
     ]
    },
    {
     "name": "stderr",
     "output_type": "stream",
     "text": [
      "    103/120      10.5G     0.5439     0.3249     0.8742       3090        384: 100%|██████████| 615/615 [02:39<00:00,  3.86it/s]\n",
      "                 Class     Images  Instances      Box(P          R      mAP50  mAP50-95): 100%|██████████| 36/36 [02:06<00:00,  3.51s/\n"
     ]
    },
    {
     "name": "stdout",
     "output_type": "stream",
     "text": [
      "                   all      72528     276961      0.203      0.127     0.0784     0.0295\n",
      "\n",
      "      Epoch    GPU_mem   box_loss   cls_loss   dfl_loss  Instances       Size\n"
     ]
    },
    {
     "name": "stderr",
     "output_type": "stream",
     "text": [
      "    104/120      10.5G     0.5385     0.3208     0.8726       3107        384: 100%|██████████| 615/615 [02:40<00:00,  3.83it/s]\n",
      "                 Class     Images  Instances      Box(P          R      mAP50  mAP50-95): 100%|██████████| 36/36 [02:05<00:00,  3.49s/\n"
     ]
    },
    {
     "name": "stdout",
     "output_type": "stream",
     "text": [
      "                   all      72528     276961      0.196      0.102     0.0621     0.0232\n",
      "\n",
      "      Epoch    GPU_mem   box_loss   cls_loss   dfl_loss  Instances       Size\n"
     ]
    },
    {
     "name": "stderr",
     "output_type": "stream",
     "text": [
      "    105/120      10.5G     0.5351     0.3176     0.8716       3100        384: 100%|██████████| 615/615 [02:38<00:00,  3.87it/s]\n",
      "                 Class     Images  Instances      Box(P          R      mAP50  mAP50-95): 100%|██████████| 36/36 [02:06<00:00,  3.51s/\n"
     ]
    },
    {
     "name": "stdout",
     "output_type": "stream",
     "text": [
      "                   all      72528     276961      0.199     0.0865     0.0532     0.0199\n",
      "\n",
      "      Epoch    GPU_mem   box_loss   cls_loss   dfl_loss  Instances       Size\n"
     ]
    },
    {
     "name": "stderr",
     "output_type": "stream",
     "text": [
      "    106/120      10.5G     0.5301     0.3143     0.8701       3135        384: 100%|██████████| 615/615 [02:39<00:00,  3.86it/s]\n",
      "                 Class     Images  Instances      Box(P          R      mAP50  mAP50-95): 100%|██████████| 36/36 [02:04<00:00,  3.47s/\n"
     ]
    },
    {
     "name": "stdout",
     "output_type": "stream",
     "text": [
      "                   all      72528     276961      0.199     0.0661     0.0404     0.0152\n",
      "\n",
      "      Epoch    GPU_mem   box_loss   cls_loss   dfl_loss  Instances       Size\n"
     ]
    },
    {
     "name": "stderr",
     "output_type": "stream",
     "text": [
      "    107/120      10.5G     0.5252     0.3109      0.869       3117        384: 100%|██████████| 615/615 [02:39<00:00,  3.86it/s]\n",
      "                 Class     Images  Instances      Box(P          R      mAP50  mAP50-95): 100%|██████████| 36/36 [02:05<00:00,  3.48s/\n"
     ]
    },
    {
     "name": "stdout",
     "output_type": "stream",
     "text": [
      "                   all      72528     276961      0.198     0.0529     0.0319     0.0121\n",
      "\n",
      "      Epoch    GPU_mem   box_loss   cls_loss   dfl_loss  Instances       Size\n"
     ]
    },
    {
     "name": "stderr",
     "output_type": "stream",
     "text": [
      "    108/120      10.5G     0.5201     0.3068     0.8675       3116        384: 100%|██████████| 615/615 [02:40<00:00,  3.84it/s]\n",
      "                 Class     Images  Instances      Box(P          R      mAP50  mAP50-95): 100%|██████████| 36/36 [02:04<00:00,  3.45s/\n"
     ]
    },
    {
     "name": "stdout",
     "output_type": "stream",
     "text": [
      "                   all      72528     276961      0.191     0.0434     0.0248    0.00951\n",
      "\n",
      "      Epoch    GPU_mem   box_loss   cls_loss   dfl_loss  Instances       Size\n"
     ]
    },
    {
     "name": "stderr",
     "output_type": "stream",
     "text": [
      "    109/120      10.5G     0.5148     0.3035     0.8661       3128        384: 100%|██████████| 615/615 [02:40<00:00,  3.82it/s]\n",
      "                 Class     Images  Instances      Box(P          R      mAP50  mAP50-95): 100%|██████████| 36/36 [02:05<00:00,  3.48s/\n"
     ]
    },
    {
     "name": "stdout",
     "output_type": "stream",
     "text": [
      "                   all      72528     276961      0.177     0.0385     0.0214    0.00828\n",
      "\n",
      "      Epoch    GPU_mem   box_loss   cls_loss   dfl_loss  Instances       Size\n"
     ]
    },
    {
     "name": "stderr",
     "output_type": "stream",
     "text": [
      "    110/120      10.5G     0.5097     0.2995     0.8648       3126        384: 100%|██████████| 615/615 [02:38<00:00,  3.87it/s]\n",
      "                 Class     Images  Instances      Box(P          R      mAP50  mAP50-95): 100%|██████████| 36/36 [02:05<00:00,  3.48s/\n"
     ]
    },
    {
     "name": "stdout",
     "output_type": "stream",
     "text": [
      "                   all      72528     276961      0.102      0.031     0.0155    0.00603\n",
      "Closing dataloader mosaic\n",
      "\n",
      "      Epoch    GPU_mem   box_loss   cls_loss   dfl_loss  Instances       Size\n"
     ]
    },
    {
     "name": "stderr",
     "output_type": "stream",
     "text": [
      "    111/120      10.5G     0.5045     0.2956     0.8632       3126        384: 100%|██████████| 615/615 [02:39<00:00,  3.86it/s]\n",
      "                 Class     Images  Instances      Box(P          R      mAP50  mAP50-95): 100%|██████████| 36/36 [02:05<00:00,  3.48s/\n"
     ]
    },
    {
     "name": "stdout",
     "output_type": "stream",
     "text": [
      "                   all      72528     276961     0.0426     0.0388      0.014    0.00548\n",
      "\n",
      "      Epoch    GPU_mem   box_loss   cls_loss   dfl_loss  Instances       Size\n"
     ]
    },
    {
     "name": "stderr",
     "output_type": "stream",
     "text": [
      "    112/120      10.5G     0.4984     0.2913     0.8617       3124        384: 100%|██████████| 615/615 [02:39<00:00,  3.86it/s]\n",
      "                 Class     Images  Instances      Box(P          R      mAP50  mAP50-95): 100%|██████████| 36/36 [02:04<00:00,  3.47s/\n"
     ]
    },
    {
     "name": "stdout",
     "output_type": "stream",
     "text": [
      "                   all      72528     276961     0.0153     0.0824     0.0122    0.00473\n",
      "\n",
      "      Epoch    GPU_mem   box_loss   cls_loss   dfl_loss  Instances       Size\n"
     ]
    },
    {
     "name": "stderr",
     "output_type": "stream",
     "text": [
      "    113/120      10.5G      0.493     0.2869     0.8602       3132        384: 100%|██████████| 615/615 [02:40<00:00,  3.82it/s]\n",
      "                 Class     Images  Instances      Box(P          R      mAP50  mAP50-95): 100%|██████████| 36/36 [02:05<00:00,  3.48s/\n"
     ]
    },
    {
     "name": "stdout",
     "output_type": "stream",
     "text": [
      "                   all      72528     276961    0.00903      0.322      0.012     0.0047\n",
      "\u001b[34m\u001b[1mEarlyStopping: \u001b[0mTraining stopped early as no improvement observed in last 100 epochs. Best results observed at epoch 13, best model saved as best.pt.\n",
      "To update EarlyStopping(patience=100) pass a new patience value, i.e. `patience=300` or use `patience=0` to disable EarlyStopping.\n",
      "\n",
      "113 epochs completed in 9.116 hours.\n",
      "Optimizer stripped from runs/detect/train/weights/last.pt, 6.2MB\n",
      "Optimizer stripped from runs/detect/train/weights/best.pt, 6.2MB\n",
      "\n",
      "Validating runs/detect/train/weights/best.pt...\n",
      "Ultralytics 8.3.152 🚀 Python-3.10.12 torch-2.7.1+cu126 CUDA:0 (NVIDIA H100 80GB HBM3, 81008MiB)\n",
      "Model summary (fused): 72 layers, 3,006,428 parameters, 0 gradients, 8.1 GFLOPs\n"
     ]
    },
    {
     "name": "stderr",
     "output_type": "stream",
     "text": [
      "                 Class     Images  Instances      Box(P          R      mAP50  mAP50-95): 100%|██████████| 36/36 [02:43<00:00,  4.53s/\n"
     ]
    },
    {
     "name": "stdout",
     "output_type": "stream",
     "text": [
      "                   all      72528     276961       0.95      0.949      0.984       0.78\n",
      "                 chair      71830      71830      0.986      0.922      0.983       0.75\n",
      "                   box      71999      71999      0.974      0.995      0.994      0.805\n",
      "                  desk      72509      72509      0.921      0.956      0.981      0.805\n",
      "            door_frame      60623      60623      0.919      0.924      0.978       0.76\n",
      "Speed: 0.0ms preprocess, 0.0ms inference, 0.0ms loss, 0.5ms postprocess per image\n",
      "Results saved to \u001b[1mruns/detect/train\u001b[0m\n",
      "✅ Training complete!\n"
     ]
    }
   ],
   "source": [
    "from ultralytics import YOLO\n",
    "\n",
    "model = YOLO('yolov8n.pt')\n",
    "\n",
    "results = model.train(\n",
    "    data=str(yaml_file_path),\n",
    "    epochs=120,\n",
    "    batch=1024,         # Safe value for 40 GB VRAM\n",
    "    imgsz=384,\n",
    "    workers=10,          # Balanced for 30+ CPU cores\n",
    "    rect=True,          # All images are same size (64x384)\n",
    "    cache='ram',        # Leverage 200 GB RAM for faster training\n",
    "    seed=42,\n",
    "    save=True,\n",
    "    save_period=10,\n",
    "\n",
    "    # ✅ Safe augmentations\n",
    "    flipud=0.2,\n",
    "    hsv_h=0.0,\n",
    "    hsv_s=0.0,\n",
    "    hsv_v=0.0,\n",
    "\n",
    "    # ❌ Disable risky augmentations\n",
    "    mosaic=0.0,         # Disable mosaic\n",
    "    mixup=0.0,          # Disable mixup\n",
    "    copy_paste=0.0,     # Disable copy-paste\n",
    "    cutmix=0.0,         # Disable cutmix\n",
    "    auto_augment=None,  # Disable auto augment policies\n",
    "    augment=False,      # Disable general heavy augmentation\n",
    "    erasing=0.0,        # Disable random erasing\n",
    "\n",
    "    verbose=True\n",
    ")\n",
    "\n",
    "print(\"✅ Training complete!\")\n"
   ]
  },
  {
   "cell_type": "code",
   "execution_count": 7,
   "id": "aee9d771-ddda-4cbb-8057-906ae292cb6e",
   "metadata": {
    "scrolled": true
   },
   "outputs": [
    {
     "name": "stdout",
     "output_type": "stream",
     "text": [
      "🔁 Exporting TorchScript...\n",
      "Ultralytics 8.3.152 🚀 Python-3.10.12 torch-2.7.1+cu126 CPU (Intel Xeon Platinum 8468)\n",
      "Model summary (fused): 72 layers, 3,006,428 parameters, 0 gradients, 8.1 GFLOPs\n",
      "\n",
      "\u001b[34m\u001b[1mPyTorch:\u001b[0m starting from 'runs/detect/train/weights/best.pt' with input shape (1, 3, 64, 384) BCHW and output shape(s) (1, 8, 504) (5.9 MB)\n",
      "\n",
      "\u001b[34m\u001b[1mTorchScript:\u001b[0m starting export with torch 2.7.1+cu126...\n"
     ]
    },
    {
     "name": "stderr",
     "output_type": "stream",
     "text": [
      "[W610 20:51:20.992718532 NNPACK.cpp:57] Could not initialize NNPACK! Reason: Unsupported hardware.\n",
      "[W610 20:51:20.993261917 NNPACK.cpp:57] Could not initialize NNPACK! Reason: Unsupported hardware.\n",
      "[W610 20:51:20.993422053 NNPACK.cpp:57] Could not initialize NNPACK! Reason: Unsupported hardware.\n",
      "[W610 20:51:20.993593112 NNPACK.cpp:57] Could not initialize NNPACK! Reason: Unsupported hardware.\n",
      "[W610 20:51:20.993719941 NNPACK.cpp:57] Could not initialize NNPACK! Reason: Unsupported hardware.\n",
      "[W610 20:51:20.993861771 NNPACK.cpp:57] Could not initialize NNPACK! Reason: Unsupported hardware.\n",
      "[W610 20:51:20.994007700 NNPACK.cpp:57] Could not initialize NNPACK! Reason: Unsupported hardware.\n",
      "[W610 20:51:20.994139457 NNPACK.cpp:57] Could not initialize NNPACK! Reason: Unsupported hardware.\n",
      "[W610 20:51:20.994276295 NNPACK.cpp:57] Could not initialize NNPACK! Reason: Unsupported hardware.\n",
      "[W610 20:51:20.994390880 NNPACK.cpp:57] Could not initialize NNPACK! Reason: Unsupported hardware.\n",
      "[W610 20:51:20.994505915 NNPACK.cpp:57] Could not initialize NNPACK! Reason: Unsupported hardware.\n",
      "[W610 20:51:20.994610152 NNPACK.cpp:57] Could not initialize NNPACK! Reason: Unsupported hardware.\n",
      "[W610 20:51:20.994751192 NNPACK.cpp:57] Could not initialize NNPACK! Reason: Unsupported hardware.\n",
      "[W610 20:51:20.994867891 NNPACK.cpp:57] Could not initialize NNPACK! Reason: Unsupported hardware.\n",
      "[W610 20:51:20.994991120 NNPACK.cpp:57] Could not initialize NNPACK! Reason: Unsupported hardware.\n",
      "[W610 20:51:20.995114601 NNPACK.cpp:57] Could not initialize NNPACK! Reason: Unsupported hardware.\n",
      "[W610 20:51:20.995244090 NNPACK.cpp:57] Could not initialize NNPACK! Reason: Unsupported hardware.\n",
      "[W610 20:51:20.995380420 NNPACK.cpp:57] Could not initialize NNPACK! Reason: Unsupported hardware.\n",
      "[W610 20:51:20.995504674 NNPACK.cpp:57] Could not initialize NNPACK! Reason: Unsupported hardware.\n",
      "[W610 20:51:20.995640496 NNPACK.cpp:57] Could not initialize NNPACK! Reason: Unsupported hardware.\n",
      "[W610 20:51:20.995762508 NNPACK.cpp:57] Could not initialize NNPACK! Reason: Unsupported hardware.\n",
      "[W610 20:51:20.995890300 NNPACK.cpp:57] Could not initialize NNPACK! Reason: Unsupported hardware.\n",
      "[W610 20:51:20.996038999 NNPACK.cpp:57] Could not initialize NNPACK! Reason: Unsupported hardware.\n",
      "[W610 20:51:20.996170211 NNPACK.cpp:57] Could not initialize NNPACK! Reason: Unsupported hardware.\n",
      "[W610 20:51:20.996303935 NNPACK.cpp:57] Could not initialize NNPACK! Reason: Unsupported hardware.\n",
      "[W610 20:51:20.996426539 NNPACK.cpp:57] Could not initialize NNPACK! Reason: Unsupported hardware.\n",
      "[W610 20:51:20.996785447 NNPACK.cpp:57] Could not initialize NNPACK! Reason: Unsupported hardware.\n",
      "[W610 20:51:20.997054640 NNPACK.cpp:57] Could not initialize NNPACK! Reason: Unsupported hardware.\n",
      "[W610 20:51:20.997206790 NNPACK.cpp:57] Could not initialize NNPACK! Reason: Unsupported hardware.\n",
      "[W610 20:51:20.997333679 NNPACK.cpp:57] Could not initialize NNPACK! Reason: Unsupported hardware.\n",
      "[W610 20:51:20.997464568 NNPACK.cpp:57] Could not initialize NNPACK! Reason: Unsupported hardware.\n",
      "[W610 20:51:20.997683641 NNPACK.cpp:57] Could not initialize NNPACK! Reason: Unsupported hardware.\n",
      "[W610 20:51:20.997840196 NNPACK.cpp:57] Could not initialize NNPACK! Reason: Unsupported hardware.\n",
      "[W610 20:51:20.997962677 NNPACK.cpp:57] Could not initialize NNPACK! Reason: Unsupported hardware.\n",
      "[W610 20:51:20.998086850 NNPACK.cpp:57] Could not initialize NNPACK! Reason: Unsupported hardware.\n",
      "[W610 20:51:20.998222320 NNPACK.cpp:57] Could not initialize NNPACK! Reason: Unsupported hardware.\n",
      "[W610 20:51:20.998369239 NNPACK.cpp:57] Could not initialize NNPACK! Reason: Unsupported hardware.\n",
      "[W610 20:51:20.998499450 NNPACK.cpp:57] Could not initialize NNPACK! Reason: Unsupported hardware.\n",
      "[W610 20:51:20.998623941 NNPACK.cpp:57] Could not initialize NNPACK! Reason: Unsupported hardware.\n",
      "[W610 20:51:20.998782367 NNPACK.cpp:57] Could not initialize NNPACK! Reason: Unsupported hardware.\n",
      "[W610 20:51:20.998905732 NNPACK.cpp:57] Could not initialize NNPACK! Reason: Unsupported hardware.\n",
      "[W610 20:51:20.999040508 NNPACK.cpp:57] Could not initialize NNPACK! Reason: Unsupported hardware.\n",
      "[W610 20:51:20.999167455 NNPACK.cpp:57] Could not initialize NNPACK! Reason: Unsupported hardware.\n",
      "[W610 20:51:20.999281600 NNPACK.cpp:57] Could not initialize NNPACK! Reason: Unsupported hardware.\n",
      "[W610 20:51:20.999402256 NNPACK.cpp:57] Could not initialize NNPACK! Reason: Unsupported hardware.\n",
      "[W610 20:51:20.999525183 NNPACK.cpp:57] Could not initialize NNPACK! Reason: Unsupported hardware.\n",
      "[W610 20:51:20.999650157 NNPACK.cpp:57] Could not initialize NNPACK! Reason: Unsupported hardware.\n",
      "[W610 20:51:20.999759153 NNPACK.cpp:57] Could not initialize NNPACK! Reason: Unsupported hardware.\n",
      "[W610 20:51:20.999960410 NNPACK.cpp:57] Could not initialize NNPACK! Reason: Unsupported hardware.\n",
      "[W610 20:51:20.000101963 NNPACK.cpp:57] Could not initialize NNPACK! Reason: Unsupported hardware.\n",
      "[W610 20:51:20.000216873 NNPACK.cpp:57] Could not initialize NNPACK! Reason: Unsupported hardware.\n",
      "[W610 20:51:20.000420271 NNPACK.cpp:57] Could not initialize NNPACK! Reason: Unsupported hardware.\n",
      "[W610 20:51:20.000539657 NNPACK.cpp:57] Could not initialize NNPACK! Reason: Unsupported hardware.\n",
      "[W610 20:51:20.000658215 NNPACK.cpp:57] Could not initialize NNPACK! Reason: Unsupported hardware.\n",
      "[W610 20:51:20.000867528 NNPACK.cpp:57] Could not initialize NNPACK! Reason: Unsupported hardware.\n",
      "[W610 20:51:20.000990263 NNPACK.cpp:57] Could not initialize NNPACK! Reason: Unsupported hardware.\n",
      "[W610 20:51:20.001107011 NNPACK.cpp:57] Could not initialize NNPACK! Reason: Unsupported hardware.\n",
      "[W610 20:51:20.001320511 NNPACK.cpp:57] Could not initialize NNPACK! Reason: Unsupported hardware.\n",
      "[W610 20:51:20.001438817 NNPACK.cpp:57] Could not initialize NNPACK! Reason: Unsupported hardware.\n",
      "[W610 20:51:20.001542260 NNPACK.cpp:57] Could not initialize NNPACK! Reason: Unsupported hardware.\n",
      "[W610 20:51:20.001746077 NNPACK.cpp:57] Could not initialize NNPACK! Reason: Unsupported hardware.\n",
      "[W610 20:51:20.001862823 NNPACK.cpp:57] Could not initialize NNPACK! Reason: Unsupported hardware.\n",
      "[W610 20:51:20.001965938 NNPACK.cpp:57] Could not initialize NNPACK! Reason: Unsupported hardware.\n",
      "[W610 20:51:20.002484496 NNPACK.cpp:57] Could not initialize NNPACK! Reason: Unsupported hardware.\n",
      "[W610 20:51:20.006955284 NNPACK.cpp:57] Could not initialize NNPACK! Reason: Unsupported hardware.\n",
      "[W610 20:51:20.007064105 NNPACK.cpp:57] Could not initialize NNPACK! Reason: Unsupported hardware.\n",
      "[W610 20:51:20.007161187 NNPACK.cpp:57] Could not initialize NNPACK! Reason: Unsupported hardware.\n",
      "[W610 20:51:20.007233044 NNPACK.cpp:57] Could not initialize NNPACK! Reason: Unsupported hardware.\n",
      "[W610 20:51:20.007719064 NNPACK.cpp:57] Could not initialize NNPACK! Reason: Unsupported hardware.\n",
      "[W610 20:51:20.007798924 NNPACK.cpp:57] Could not initialize NNPACK! Reason: Unsupported hardware.\n",
      "[W610 20:51:20.007868508 NNPACK.cpp:57] Could not initialize NNPACK! Reason: Unsupported hardware.\n",
      "[W610 20:51:20.007946735 NNPACK.cpp:57] Could not initialize NNPACK! Reason: Unsupported hardware.\n",
      "[W610 20:51:20.008031676 NNPACK.cpp:57] Could not initialize NNPACK! Reason: Unsupported hardware.\n",
      "[W610 20:51:20.008326547 NNPACK.cpp:57] Could not initialize NNPACK! Reason: Unsupported hardware.\n",
      "[W610 20:51:20.008412120 NNPACK.cpp:57] Could not initialize NNPACK! Reason: Unsupported hardware.\n",
      "[W610 20:51:20.008489038 NNPACK.cpp:57] Could not initialize NNPACK! Reason: Unsupported hardware.\n",
      "[W610 20:51:20.008563986 NNPACK.cpp:57] Could not initialize NNPACK! Reason: Unsupported hardware.\n",
      "[W610 20:51:20.008655700 NNPACK.cpp:57] Could not initialize NNPACK! Reason: Unsupported hardware.\n",
      "[W610 20:51:20.008712561 NNPACK.cpp:57] Could not initialize NNPACK! Reason: Unsupported hardware.\n",
      "[W610 20:51:20.008870420 NNPACK.cpp:57] Could not initialize NNPACK! Reason: Unsupported hardware.\n",
      "[W610 20:51:20.009260940 NNPACK.cpp:57] Could not initialize NNPACK! Reason: Unsupported hardware.\n",
      "[W610 20:51:20.009352346 NNPACK.cpp:57] Could not initialize NNPACK! Reason: Unsupported hardware.\n",
      "[W610 20:51:20.009442541 NNPACK.cpp:57] Could not initialize NNPACK! Reason: Unsupported hardware.\n",
      "[W610 20:51:20.009836894 NNPACK.cpp:57] Could not initialize NNPACK! Reason: Unsupported hardware.\n",
      "[W610 20:51:20.009920972 NNPACK.cpp:57] Could not initialize NNPACK! Reason: Unsupported hardware.\n",
      "[W610 20:51:20.010382928 NNPACK.cpp:57] Could not initialize NNPACK! Reason: Unsupported hardware.\n",
      "[W610 20:51:20.010457289 NNPACK.cpp:57] Could not initialize NNPACK! Reason: Unsupported hardware.\n",
      "[W610 20:51:20.010525217 NNPACK.cpp:57] Could not initialize NNPACK! Reason: Unsupported hardware.\n",
      "[W610 20:51:20.010611655 NNPACK.cpp:57] Could not initialize NNPACK! Reason: Unsupported hardware.\n",
      "[W610 20:51:20.010683711 NNPACK.cpp:57] Could not initialize NNPACK! Reason: Unsupported hardware.\n",
      "[W610 20:51:20.010778560 NNPACK.cpp:57] Could not initialize NNPACK! Reason: Unsupported hardware.\n",
      "[W610 20:51:20.010841769 NNPACK.cpp:57] Could not initialize NNPACK! Reason: Unsupported hardware.\n",
      "[W610 20:51:20.010901728 NNPACK.cpp:57] Could not initialize NNPACK! Reason: Unsupported hardware.\n",
      "[W610 20:51:20.010970942 NNPACK.cpp:57] Could not initialize NNPACK! Reason: Unsupported hardware.\n",
      "[W610 20:51:20.012110231 NNPACK.cpp:57] Could not initialize NNPACK! Reason: Unsupported hardware.\n",
      "[W610 20:51:20.012220419 NNPACK.cpp:57] Could not initialize NNPACK! Reason: Unsupported hardware.\n",
      "[W610 20:51:20.012299647 NNPACK.cpp:57] Could not initialize NNPACK! Reason: Unsupported hardware.\n",
      "[W610 20:51:20.012347233 NNPACK.cpp:57] Could not initialize NNPACK! Reason: Unsupported hardware.\n",
      "[W610 20:51:20.012447961 NNPACK.cpp:57] Could not initialize NNPACK! Reason: Unsupported hardware.\n",
      "[W610 20:51:20.012520352 NNPACK.cpp:57] Could not initialize NNPACK! Reason: Unsupported hardware.\n",
      "[W610 20:51:20.012577442 NNPACK.cpp:57] Could not initialize NNPACK! Reason: Unsupported hardware.\n",
      "[W610 20:51:20.012645363 NNPACK.cpp:57] Could not initialize NNPACK! Reason: Unsupported hardware.\n",
      "[W610 20:51:20.012701905 NNPACK.cpp:57] Could not initialize NNPACK! Reason: Unsupported hardware.\n",
      "[W610 20:51:20.012739236 NNPACK.cpp:57] Could not initialize NNPACK! Reason: Unsupported hardware.\n",
      "[W610 20:51:20.012808289 NNPACK.cpp:57] Could not initialize NNPACK! Reason: Unsupported hardware.\n",
      "[W610 20:51:20.012851838 NNPACK.cpp:57] Could not initialize NNPACK! Reason: Unsupported hardware.\n",
      "[W610 20:51:20.014882438 NNPACK.cpp:57] Could not initialize NNPACK! Reason: Unsupported hardware.\n",
      "[W610 20:51:20.014980014 NNPACK.cpp:57] Could not initialize NNPACK! Reason: Unsupported hardware.\n",
      "[W610 20:51:20.015078058 NNPACK.cpp:57] Could not initialize NNPACK! Reason: Unsupported hardware.\n",
      "[W610 20:51:20.015152290 NNPACK.cpp:57] Could not initialize NNPACK! Reason: Unsupported hardware.\n",
      "[W610 20:51:20.015621119 NNPACK.cpp:57] Could not initialize NNPACK! Reason: Unsupported hardware.\n",
      "[W610 20:51:20.015704127 NNPACK.cpp:57] Could not initialize NNPACK! Reason: Unsupported hardware.\n",
      "[W610 20:51:20.015771686 NNPACK.cpp:57] Could not initialize NNPACK! Reason: Unsupported hardware.\n",
      "[W610 20:51:20.015848702 NNPACK.cpp:57] Could not initialize NNPACK! Reason: Unsupported hardware.\n",
      "[W610 20:51:20.015912200 NNPACK.cpp:57] Could not initialize NNPACK! Reason: Unsupported hardware.\n",
      "[W610 20:51:20.016191082 NNPACK.cpp:57] Could not initialize NNPACK! Reason: Unsupported hardware.\n",
      "[W610 20:51:20.016276714 NNPACK.cpp:57] Could not initialize NNPACK! Reason: Unsupported hardware.\n",
      "[W610 20:51:20.016360391 NNPACK.cpp:57] Could not initialize NNPACK! Reason: Unsupported hardware.\n",
      "[W610 20:51:20.016437009 NNPACK.cpp:57] Could not initialize NNPACK! Reason: Unsupported hardware.\n",
      "[W610 20:51:20.016524566 NNPACK.cpp:57] Could not initialize NNPACK! Reason: Unsupported hardware.\n",
      "[W610 20:51:20.016584238 NNPACK.cpp:57] Could not initialize NNPACK! Reason: Unsupported hardware.\n",
      "[W610 20:51:20.016728134 NNPACK.cpp:57] Could not initialize NNPACK! Reason: Unsupported hardware.\n",
      "[W610 20:51:20.017089000 NNPACK.cpp:57] Could not initialize NNPACK! Reason: Unsupported hardware.\n",
      "[W610 20:51:20.017183586 NNPACK.cpp:57] Could not initialize NNPACK! Reason: Unsupported hardware.\n",
      "[W610 20:51:20.017273818 NNPACK.cpp:57] Could not initialize NNPACK! Reason: Unsupported hardware.\n",
      "[W610 20:51:20.017646287 NNPACK.cpp:57] Could not initialize NNPACK! Reason: Unsupported hardware.\n",
      "[W610 20:51:20.017730057 NNPACK.cpp:57] Could not initialize NNPACK! Reason: Unsupported hardware.\n",
      "[W610 20:51:20.018175565 NNPACK.cpp:57] Could not initialize NNPACK! Reason: Unsupported hardware.\n",
      "[W610 20:51:20.018247044 NNPACK.cpp:57] Could not initialize NNPACK! Reason: Unsupported hardware.\n",
      "[W610 20:51:20.018323054 NNPACK.cpp:57] Could not initialize NNPACK! Reason: Unsupported hardware.\n",
      "[W610 20:51:20.018407721 NNPACK.cpp:57] Could not initialize NNPACK! Reason: Unsupported hardware.\n",
      "[W610 20:51:20.018465687 NNPACK.cpp:57] Could not initialize NNPACK! Reason: Unsupported hardware.\n",
      "[W610 20:51:20.018548205 NNPACK.cpp:57] Could not initialize NNPACK! Reason: Unsupported hardware.\n",
      "[W610 20:51:20.018611503 NNPACK.cpp:57] Could not initialize NNPACK! Reason: Unsupported hardware.\n",
      "[W610 20:51:20.018695874 NNPACK.cpp:57] Could not initialize NNPACK! Reason: Unsupported hardware.\n",
      "[W610 20:51:20.018773748 NNPACK.cpp:57] Could not initialize NNPACK! Reason: Unsupported hardware.\n",
      "[W610 20:51:20.019853060 NNPACK.cpp:57] Could not initialize NNPACK! Reason: Unsupported hardware.\n",
      "[W610 20:51:20.019949872 NNPACK.cpp:57] Could not initialize NNPACK! Reason: Unsupported hardware.\n",
      "[W610 20:51:20.020043119 NNPACK.cpp:57] Could not initialize NNPACK! Reason: Unsupported hardware.\n",
      "[W610 20:51:20.020090039 NNPACK.cpp:57] Could not initialize NNPACK! Reason: Unsupported hardware.\n",
      "[W610 20:51:20.020180653 NNPACK.cpp:57] Could not initialize NNPACK! Reason: Unsupported hardware.\n",
      "[W610 20:51:20.020246180 NNPACK.cpp:57] Could not initialize NNPACK! Reason: Unsupported hardware.\n",
      "[W610 20:51:20.020293291 NNPACK.cpp:57] Could not initialize NNPACK! Reason: Unsupported hardware.\n",
      "[W610 20:51:20.020360222 NNPACK.cpp:57] Could not initialize NNPACK! Reason: Unsupported hardware.\n",
      "[W610 20:51:20.020400647 NNPACK.cpp:57] Could not initialize NNPACK! Reason: Unsupported hardware.\n",
      "[W610 20:51:20.020430536 NNPACK.cpp:57] Could not initialize NNPACK! Reason: Unsupported hardware.\n",
      "[W610 20:51:20.020497949 NNPACK.cpp:57] Could not initialize NNPACK! Reason: Unsupported hardware.\n",
      "[W610 20:51:20.020538057 NNPACK.cpp:57] Could not initialize NNPACK! Reason: Unsupported hardware.\n",
      "[W610 20:51:20.216515648 NNPACK.cpp:57] Could not initialize NNPACK! Reason: Unsupported hardware.\n",
      "[W610 20:51:20.217732570 NNPACK.cpp:57] Could not initialize NNPACK! Reason: Unsupported hardware.\n",
      "[W610 20:51:20.218846915 NNPACK.cpp:57] Could not initialize NNPACK! Reason: Unsupported hardware.\n",
      "[W610 20:51:20.219779952 NNPACK.cpp:57] Could not initialize NNPACK! Reason: Unsupported hardware.\n",
      "[W610 20:51:20.222985855 NNPACK.cpp:57] Could not initialize NNPACK! Reason: Unsupported hardware.\n",
      "[W610 20:51:20.224196007 NNPACK.cpp:57] Could not initialize NNPACK! Reason: Unsupported hardware.\n",
      "[W610 20:51:20.225154026 NNPACK.cpp:57] Could not initialize NNPACK! Reason: Unsupported hardware.\n",
      "[W610 20:51:20.226229481 NNPACK.cpp:57] Could not initialize NNPACK! Reason: Unsupported hardware.\n",
      "[W610 20:51:20.227168009 NNPACK.cpp:57] Could not initialize NNPACK! Reason: Unsupported hardware.\n",
      "[W610 20:51:20.229203029 NNPACK.cpp:57] Could not initialize NNPACK! Reason: Unsupported hardware.\n",
      "[W610 20:51:20.230105333 NNPACK.cpp:57] Could not initialize NNPACK! Reason: Unsupported hardware.\n",
      "[W610 20:51:20.231283749 NNPACK.cpp:57] Could not initialize NNPACK! Reason: Unsupported hardware.\n",
      "[W610 20:51:20.232256332 NNPACK.cpp:57] Could not initialize NNPACK! Reason: Unsupported hardware.\n",
      "[W610 20:51:20.233372054 NNPACK.cpp:57] Could not initialize NNPACK! Reason: Unsupported hardware.\n",
      "[W610 20:51:20.234234200 NNPACK.cpp:57] Could not initialize NNPACK! Reason: Unsupported hardware.\n",
      "[W610 20:51:20.236724707 NNPACK.cpp:57] Could not initialize NNPACK! Reason: Unsupported hardware.\n",
      "[W610 20:51:20.239250977 NNPACK.cpp:57] Could not initialize NNPACK! Reason: Unsupported hardware.\n",
      "[W610 20:51:20.240261582 NNPACK.cpp:57] Could not initialize NNPACK! Reason: Unsupported hardware.\n",
      "[W610 20:51:20.241278896 NNPACK.cpp:57] Could not initialize NNPACK! Reason: Unsupported hardware.\n",
      "[W610 20:51:20.243844385 NNPACK.cpp:57] Could not initialize NNPACK! Reason: Unsupported hardware.\n",
      "[W610 20:51:20.244832472 NNPACK.cpp:57] Could not initialize NNPACK! Reason: Unsupported hardware.\n",
      "[W610 20:51:20.247861965 NNPACK.cpp:57] Could not initialize NNPACK! Reason: Unsupported hardware.\n",
      "[W610 20:51:20.248975795 NNPACK.cpp:57] Could not initialize NNPACK! Reason: Unsupported hardware.\n",
      "[W610 20:51:20.249920763 NNPACK.cpp:57] Could not initialize NNPACK! Reason: Unsupported hardware.\n",
      "[W610 20:51:20.250915453 NNPACK.cpp:57] Could not initialize NNPACK! Reason: Unsupported hardware.\n",
      "[W610 20:51:20.251738402 NNPACK.cpp:57] Could not initialize NNPACK! Reason: Unsupported hardware.\n",
      "[W610 20:51:20.252748891 NNPACK.cpp:57] Could not initialize NNPACK! Reason: Unsupported hardware.\n",
      "[W610 20:51:20.253875303 NNPACK.cpp:57] Could not initialize NNPACK! Reason: Unsupported hardware.\n",
      "[W610 20:51:20.254828094 NNPACK.cpp:57] Could not initialize NNPACK! Reason: Unsupported hardware.\n",
      "[W610 20:51:20.255845016 NNPACK.cpp:57] Could not initialize NNPACK! Reason: Unsupported hardware.\n",
      "[W610 20:51:20.262940663 NNPACK.cpp:57] Could not initialize NNPACK! Reason: Unsupported hardware.\n",
      "[W610 20:51:20.263918772 NNPACK.cpp:57] Could not initialize NNPACK! Reason: Unsupported hardware.\n",
      "[W610 20:51:20.264777778 NNPACK.cpp:57] Could not initialize NNPACK! Reason: Unsupported hardware.\n",
      "[W610 20:51:20.265602552 NNPACK.cpp:57] Could not initialize NNPACK! Reason: Unsupported hardware.\n",
      "[W610 20:51:20.266502011 NNPACK.cpp:57] Could not initialize NNPACK! Reason: Unsupported hardware.\n",
      "[W610 20:51:20.267341561 NNPACK.cpp:57] Could not initialize NNPACK! Reason: Unsupported hardware.\n",
      "[W610 20:51:20.268249222 NNPACK.cpp:57] Could not initialize NNPACK! Reason: Unsupported hardware.\n",
      "[W610 20:51:20.269118781 NNPACK.cpp:57] Could not initialize NNPACK! Reason: Unsupported hardware.\n",
      "[W610 20:51:20.269909700 NNPACK.cpp:57] Could not initialize NNPACK! Reason: Unsupported hardware.\n",
      "[W610 20:51:20.270701233 NNPACK.cpp:57] Could not initialize NNPACK! Reason: Unsupported hardware.\n",
      "[W610 20:51:20.271581844 NNPACK.cpp:57] Could not initialize NNPACK! Reason: Unsupported hardware.\n",
      "[W610 20:51:20.272383362 NNPACK.cpp:57] Could not initialize NNPACK! Reason: Unsupported hardware.\n",
      "[W610 20:51:20.483096293 NNPACK.cpp:57] Could not initialize NNPACK! Reason: Unsupported hardware.\n",
      "[W610 20:51:20.484304749 NNPACK.cpp:57] Could not initialize NNPACK! Reason: Unsupported hardware.\n",
      "[W610 20:51:20.485483295 NNPACK.cpp:57] Could not initialize NNPACK! Reason: Unsupported hardware.\n",
      "[W610 20:51:20.486494413 NNPACK.cpp:57] Could not initialize NNPACK! Reason: Unsupported hardware.\n",
      "[W610 20:51:20.489812668 NNPACK.cpp:57] Could not initialize NNPACK! Reason: Unsupported hardware.\n",
      "[W610 20:51:20.490989389 NNPACK.cpp:57] Could not initialize NNPACK! Reason: Unsupported hardware.\n",
      "[W610 20:51:20.491995194 NNPACK.cpp:57] Could not initialize NNPACK! Reason: Unsupported hardware.\n",
      "[W610 20:51:20.493123288 NNPACK.cpp:57] Could not initialize NNPACK! Reason: Unsupported hardware.\n",
      "[W610 20:51:20.494104901 NNPACK.cpp:57] Could not initialize NNPACK! Reason: Unsupported hardware.\n",
      "[W610 20:51:20.496235429 NNPACK.cpp:57] Could not initialize NNPACK! Reason: Unsupported hardware.\n",
      "[W610 20:51:20.497201830 NNPACK.cpp:57] Could not initialize NNPACK! Reason: Unsupported hardware.\n",
      "[W610 20:51:20.498381431 NNPACK.cpp:57] Could not initialize NNPACK! Reason: Unsupported hardware.\n",
      "[W610 20:51:20.499370691 NNPACK.cpp:57] Could not initialize NNPACK! Reason: Unsupported hardware.\n",
      "[W610 20:51:20.500548458 NNPACK.cpp:57] Could not initialize NNPACK! Reason: Unsupported hardware.\n",
      "[W610 20:51:20.501455043 NNPACK.cpp:57] Could not initialize NNPACK! Reason: Unsupported hardware.\n",
      "[W610 20:51:20.504142723 NNPACK.cpp:57] Could not initialize NNPACK! Reason: Unsupported hardware.\n",
      "[W610 20:51:20.506797363 NNPACK.cpp:57] Could not initialize NNPACK! Reason: Unsupported hardware.\n",
      "[W610 20:51:20.507815302 NNPACK.cpp:57] Could not initialize NNPACK! Reason: Unsupported hardware.\n",
      "[W610 20:51:20.508893987 NNPACK.cpp:57] Could not initialize NNPACK! Reason: Unsupported hardware.\n",
      "[W610 20:51:20.511559340 NNPACK.cpp:57] Could not initialize NNPACK! Reason: Unsupported hardware.\n",
      "[W610 20:51:20.512585938 NNPACK.cpp:57] Could not initialize NNPACK! Reason: Unsupported hardware.\n",
      "[W610 20:51:20.515785401 NNPACK.cpp:57] Could not initialize NNPACK! Reason: Unsupported hardware.\n",
      "[W610 20:51:20.517047907 NNPACK.cpp:57] Could not initialize NNPACK! Reason: Unsupported hardware.\n",
      "[W610 20:51:20.518064592 NNPACK.cpp:57] Could not initialize NNPACK! Reason: Unsupported hardware.\n",
      "[W610 20:51:20.519131600 NNPACK.cpp:57] Could not initialize NNPACK! Reason: Unsupported hardware.\n",
      "[W610 20:51:20.519992105 NNPACK.cpp:57] Could not initialize NNPACK! Reason: Unsupported hardware.\n",
      "[W610 20:51:20.521074755 NNPACK.cpp:57] Could not initialize NNPACK! Reason: Unsupported hardware.\n",
      "[W610 20:51:20.522280201 NNPACK.cpp:57] Could not initialize NNPACK! Reason: Unsupported hardware.\n",
      "[W610 20:51:20.523275543 NNPACK.cpp:57] Could not initialize NNPACK! Reason: Unsupported hardware.\n",
      "[W610 20:51:20.524337676 NNPACK.cpp:57] Could not initialize NNPACK! Reason: Unsupported hardware.\n",
      "[W610 20:51:20.531756311 NNPACK.cpp:57] Could not initialize NNPACK! Reason: Unsupported hardware.\n",
      "[W610 20:51:20.532859141 NNPACK.cpp:57] Could not initialize NNPACK! Reason: Unsupported hardware.\n",
      "[W610 20:51:20.533831671 NNPACK.cpp:57] Could not initialize NNPACK! Reason: Unsupported hardware.\n",
      "[W610 20:51:20.534760341 NNPACK.cpp:57] Could not initialize NNPACK! Reason: Unsupported hardware.\n",
      "[W610 20:51:20.535768072 NNPACK.cpp:57] Could not initialize NNPACK! Reason: Unsupported hardware.\n",
      "[W610 20:51:20.536660241 NNPACK.cpp:57] Could not initialize NNPACK! Reason: Unsupported hardware.\n",
      "[W610 20:51:20.537629617 NNPACK.cpp:57] Could not initialize NNPACK! Reason: Unsupported hardware.\n",
      "[W610 20:51:20.538556796 NNPACK.cpp:57] Could not initialize NNPACK! Reason: Unsupported hardware.\n",
      "[W610 20:51:20.539429134 NNPACK.cpp:57] Could not initialize NNPACK! Reason: Unsupported hardware.\n",
      "[W610 20:51:20.540324079 NNPACK.cpp:57] Could not initialize NNPACK! Reason: Unsupported hardware.\n",
      "[W610 20:51:20.541269057 NNPACK.cpp:57] Could not initialize NNPACK! Reason: Unsupported hardware.\n",
      "[W610 20:51:20.542134187 NNPACK.cpp:57] Could not initialize NNPACK! Reason: Unsupported hardware.\n",
      "[W610 20:51:21.622378920 NNPACK.cpp:57] Could not initialize NNPACK! Reason: Unsupported hardware.\n",
      "[W610 20:51:21.622468499 NNPACK.cpp:57] Could not initialize NNPACK! Reason: Unsupported hardware.\n",
      "[W610 20:51:21.622548858 NNPACK.cpp:57] Could not initialize NNPACK! Reason: Unsupported hardware.\n",
      "[W610 20:51:21.622618271 NNPACK.cpp:57] Could not initialize NNPACK! Reason: Unsupported hardware.\n",
      "[W610 20:51:21.623019187 NNPACK.cpp:57] Could not initialize NNPACK! Reason: Unsupported hardware.\n",
      "[W610 20:51:21.623075646 NNPACK.cpp:57] Could not initialize NNPACK! Reason: Unsupported hardware.\n",
      "[W610 20:51:21.623146325 NNPACK.cpp:57] Could not initialize NNPACK! Reason: Unsupported hardware.\n",
      "[W610 20:51:21.623214721 NNPACK.cpp:57] Could not initialize NNPACK! Reason: Unsupported hardware.\n",
      "[W610 20:51:21.623271991 NNPACK.cpp:57] Could not initialize NNPACK! Reason: Unsupported hardware.\n",
      "[W610 20:51:21.623486191 NNPACK.cpp:57] Could not initialize NNPACK! Reason: Unsupported hardware.\n",
      "[W610 20:51:21.623550790 NNPACK.cpp:57] Could not initialize NNPACK! Reason: Unsupported hardware.\n",
      "[W610 20:51:21.623597227 NNPACK.cpp:57] Could not initialize NNPACK! Reason: Unsupported hardware.\n",
      "[W610 20:51:21.623655295 NNPACK.cpp:57] Could not initialize NNPACK! Reason: Unsupported hardware.\n",
      "[W610 20:51:21.623740870 NNPACK.cpp:57] Could not initialize NNPACK! Reason: Unsupported hardware.\n",
      "[W610 20:51:21.623787863 NNPACK.cpp:57] Could not initialize NNPACK! Reason: Unsupported hardware.\n",
      "[W610 20:51:21.623907357 NNPACK.cpp:57] Could not initialize NNPACK! Reason: Unsupported hardware.\n",
      "[W610 20:51:21.624242560 NNPACK.cpp:57] Could not initialize NNPACK! Reason: Unsupported hardware.\n",
      "[W610 20:51:21.624309503 NNPACK.cpp:57] Could not initialize NNPACK! Reason: Unsupported hardware.\n",
      "[W610 20:51:21.624389271 NNPACK.cpp:57] Could not initialize NNPACK! Reason: Unsupported hardware.\n",
      "[W610 20:51:21.624716014 NNPACK.cpp:57] Could not initialize NNPACK! Reason: Unsupported hardware.\n",
      "[W610 20:51:21.624788500 NNPACK.cpp:57] Could not initialize NNPACK! Reason: Unsupported hardware.\n",
      "[W610 20:51:21.625177181 NNPACK.cpp:57] Could not initialize NNPACK! Reason: Unsupported hardware.\n",
      "[W610 20:51:21.625226784 NNPACK.cpp:57] Could not initialize NNPACK! Reason: Unsupported hardware.\n",
      "[W610 20:51:21.625293448 NNPACK.cpp:57] Could not initialize NNPACK! Reason: Unsupported hardware.\n",
      "[W610 20:51:21.625366154 NNPACK.cpp:57] Could not initialize NNPACK! Reason: Unsupported hardware.\n",
      "[W610 20:51:21.625409474 NNPACK.cpp:57] Could not initialize NNPACK! Reason: Unsupported hardware.\n",
      "[W610 20:51:21.625474048 NNPACK.cpp:57] Could not initialize NNPACK! Reason: Unsupported hardware.\n",
      "[W610 20:51:21.625514106 NNPACK.cpp:57] Could not initialize NNPACK! Reason: Unsupported hardware.\n",
      "[W610 20:51:21.625565515 NNPACK.cpp:57] Could not initialize NNPACK! Reason: Unsupported hardware.\n",
      "[W610 20:51:21.625625340 NNPACK.cpp:57] Could not initialize NNPACK! Reason: Unsupported hardware.\n",
      "[W610 20:51:21.626575715 NNPACK.cpp:57] Could not initialize NNPACK! Reason: Unsupported hardware.\n",
      "[W610 20:51:21.626652942 NNPACK.cpp:57] Could not initialize NNPACK! Reason: Unsupported hardware.\n",
      "[W610 20:51:21.626738150 NNPACK.cpp:57] Could not initialize NNPACK! Reason: Unsupported hardware.\n",
      "[W610 20:51:21.626765949 NNPACK.cpp:57] Could not initialize NNPACK! Reason: Unsupported hardware.\n",
      "[W610 20:51:21.626959098 NNPACK.cpp:57] Could not initialize NNPACK! Reason: Unsupported hardware.\n",
      "[W610 20:51:21.627376746 NNPACK.cpp:57] Could not initialize NNPACK! Reason: Unsupported hardware.\n",
      "[W610 20:51:21.627412979 NNPACK.cpp:57] Could not initialize NNPACK! Reason: Unsupported hardware.\n",
      "[W610 20:51:21.627474932 NNPACK.cpp:57] Could not initialize NNPACK! Reason: Unsupported hardware.\n",
      "[W610 20:51:21.627514054 NNPACK.cpp:57] Could not initialize NNPACK! Reason: Unsupported hardware.\n",
      "[W610 20:51:21.627533752 NNPACK.cpp:57] Could not initialize NNPACK! Reason: Unsupported hardware.\n",
      "[W610 20:51:21.627593629 NNPACK.cpp:57] Could not initialize NNPACK! Reason: Unsupported hardware.\n",
      "[W610 20:51:21.627630130 NNPACK.cpp:57] Could not initialize NNPACK! Reason: Unsupported hardware.\n",
      "[W610 20:51:21.629838557 NNPACK.cpp:57] Could not initialize NNPACK! Reason: Unsupported hardware.\n",
      "[W610 20:51:21.629934459 NNPACK.cpp:57] Could not initialize NNPACK! Reason: Unsupported hardware.\n",
      "[W610 20:51:21.630032710 NNPACK.cpp:57] Could not initialize NNPACK! Reason: Unsupported hardware.\n",
      "[W610 20:51:21.630111595 NNPACK.cpp:57] Could not initialize NNPACK! Reason: Unsupported hardware.\n",
      "[W610 20:51:21.630605256 NNPACK.cpp:57] Could not initialize NNPACK! Reason: Unsupported hardware.\n",
      "[W610 20:51:21.630705159 NNPACK.cpp:57] Could not initialize NNPACK! Reason: Unsupported hardware.\n",
      "[W610 20:51:21.630777752 NNPACK.cpp:57] Could not initialize NNPACK! Reason: Unsupported hardware.\n",
      "[W610 20:51:21.630854118 NNPACK.cpp:57] Could not initialize NNPACK! Reason: Unsupported hardware.\n",
      "[W610 20:51:21.630919333 NNPACK.cpp:57] Could not initialize NNPACK! Reason: Unsupported hardware.\n",
      "[W610 20:51:21.631174657 NNPACK.cpp:57] Could not initialize NNPACK! Reason: Unsupported hardware.\n",
      "[W610 20:51:21.631254616 NNPACK.cpp:57] Could not initialize NNPACK! Reason: Unsupported hardware.\n",
      "[W610 20:51:21.631328395 NNPACK.cpp:57] Could not initialize NNPACK! Reason: Unsupported hardware.\n",
      "[W610 20:51:21.631396459 NNPACK.cpp:57] Could not initialize NNPACK! Reason: Unsupported hardware.\n",
      "[W610 20:51:21.631481331 NNPACK.cpp:57] Could not initialize NNPACK! Reason: Unsupported hardware.\n",
      "[W610 20:51:21.631536416 NNPACK.cpp:57] Could not initialize NNPACK! Reason: Unsupported hardware.\n",
      "[W610 20:51:21.631687399 NNPACK.cpp:57] Could not initialize NNPACK! Reason: Unsupported hardware.\n",
      "[W610 20:51:21.632113664 NNPACK.cpp:57] Could not initialize NNPACK! Reason: Unsupported hardware.\n",
      "[W610 20:51:21.632196111 NNPACK.cpp:57] Could not initialize NNPACK! Reason: Unsupported hardware.\n",
      "[W610 20:51:21.632283431 NNPACK.cpp:57] Could not initialize NNPACK! Reason: Unsupported hardware.\n",
      "[W610 20:51:21.632689890 NNPACK.cpp:57] Could not initialize NNPACK! Reason: Unsupported hardware.\n",
      "[W610 20:51:21.632775630 NNPACK.cpp:57] Could not initialize NNPACK! Reason: Unsupported hardware.\n",
      "[W610 20:51:21.633215297 NNPACK.cpp:57] Could not initialize NNPACK! Reason: Unsupported hardware.\n",
      "[W610 20:51:21.633289130 NNPACK.cpp:57] Could not initialize NNPACK! Reason: Unsupported hardware.\n",
      "[W610 20:51:21.633358327 NNPACK.cpp:57] Could not initialize NNPACK! Reason: Unsupported hardware.\n",
      "[W610 20:51:21.633436298 NNPACK.cpp:57] Could not initialize NNPACK! Reason: Unsupported hardware.\n",
      "[W610 20:51:21.633492778 NNPACK.cpp:57] Could not initialize NNPACK! Reason: Unsupported hardware.\n",
      "[W610 20:51:21.633576143 NNPACK.cpp:57] Could not initialize NNPACK! Reason: Unsupported hardware.\n",
      "[W610 20:51:21.633636711 NNPACK.cpp:57] Could not initialize NNPACK! Reason: Unsupported hardware.\n",
      "[W610 20:51:21.633695658 NNPACK.cpp:57] Could not initialize NNPACK! Reason: Unsupported hardware.\n",
      "[W610 20:51:21.633767138 NNPACK.cpp:57] Could not initialize NNPACK! Reason: Unsupported hardware.\n",
      "[W610 20:51:21.634822371 NNPACK.cpp:57] Could not initialize NNPACK! Reason: Unsupported hardware.\n",
      "[W610 20:51:21.634927707 NNPACK.cpp:57] Could not initialize NNPACK! Reason: Unsupported hardware.\n",
      "[W610 20:51:21.634996873 NNPACK.cpp:57] Could not initialize NNPACK! Reason: Unsupported hardware.\n",
      "[W610 20:51:21.635042380 NNPACK.cpp:57] Could not initialize NNPACK! Reason: Unsupported hardware.\n",
      "[W610 20:51:21.635132292 NNPACK.cpp:57] Could not initialize NNPACK! Reason: Unsupported hardware.\n",
      "[W610 20:51:21.635199994 NNPACK.cpp:57] Could not initialize NNPACK! Reason: Unsupported hardware.\n",
      "[W610 20:51:21.635259498 NNPACK.cpp:57] Could not initialize NNPACK! Reason: Unsupported hardware.\n",
      "[W610 20:51:21.635325063 NNPACK.cpp:57] Could not initialize NNPACK! Reason: Unsupported hardware.\n",
      "[W610 20:51:21.635391806 NNPACK.cpp:57] Could not initialize NNPACK! Reason: Unsupported hardware.\n",
      "[W610 20:51:21.635429369 NNPACK.cpp:57] Could not initialize NNPACK! Reason: Unsupported hardware.\n",
      "[W610 20:51:21.635487897 NNPACK.cpp:57] Could not initialize NNPACK! Reason: Unsupported hardware.\n",
      "[W610 20:51:21.635526874 NNPACK.cpp:57] Could not initialize NNPACK! Reason: Unsupported hardware.\n"
     ]
    },
    {
     "name": "stdout",
     "output_type": "stream",
     "text": [
      "\u001b[34m\u001b[1mTorchScript:\u001b[0m export success ✅ 0.7s, saved as 'runs/detect/train/weights/best.torchscript' (11.8 MB)\n",
      "\n",
      "Export complete (0.8s)\n",
      "Results saved to \u001b[1m/home/soheil/runs/detect/train/weights\u001b[0m\n",
      "Predict:         yolo predict task=detect model=runs/detect/train/weights/best.torchscript imgsz=64,384  \n",
      "Validate:        yolo val task=detect model=runs/detect/train/weights/best.torchscript imgsz=64,384 data=splits_simple_fused/splits_simple_fused_2025-06-06_01-11-05/data.yaml  WARNING ⚠️ non-PyTorch val requires square images, 'imgsz=[64, 384]' will not work. Use export 'imgsz=384' if val is required.\n",
      "Visualize:       https://netron.app\n"
     ]
    },
    {
     "name": "stderr",
     "output_type": "stream",
     "text": [
      "[W610 20:51:21.690870112 NNPACK.cpp:57] Could not initialize NNPACK! Reason: Unsupported hardware.\n",
      "[W610 20:51:21.690960879 NNPACK.cpp:57] Could not initialize NNPACK! Reason: Unsupported hardware.\n",
      "[W610 20:51:21.691033740 NNPACK.cpp:57] Could not initialize NNPACK! Reason: Unsupported hardware.\n",
      "[W610 20:51:21.691094176 NNPACK.cpp:57] Could not initialize NNPACK! Reason: Unsupported hardware.\n",
      "[W610 20:51:21.691487333 NNPACK.cpp:57] Could not initialize NNPACK! Reason: Unsupported hardware.\n",
      "[W610 20:51:21.691539000 NNPACK.cpp:57] Could not initialize NNPACK! Reason: Unsupported hardware.\n",
      "[W610 20:51:21.691595984 NNPACK.cpp:57] Could not initialize NNPACK! Reason: Unsupported hardware.\n",
      "[W610 20:51:21.691661020 NNPACK.cpp:57] Could not initialize NNPACK! Reason: Unsupported hardware.\n",
      "[W610 20:51:21.691713967 NNPACK.cpp:57] Could not initialize NNPACK! Reason: Unsupported hardware.\n",
      "[W610 20:51:21.691930985 NNPACK.cpp:57] Could not initialize NNPACK! Reason: Unsupported hardware.\n",
      "[W610 20:51:21.691996693 NNPACK.cpp:57] Could not initialize NNPACK! Reason: Unsupported hardware.\n",
      "[W610 20:51:21.692111501 NNPACK.cpp:57] Could not initialize NNPACK! Reason: Unsupported hardware.\n",
      "[W610 20:51:21.692174847 NNPACK.cpp:57] Could not initialize NNPACK! Reason: Unsupported hardware.\n",
      "[W610 20:51:21.692256148 NNPACK.cpp:57] Could not initialize NNPACK! Reason: Unsupported hardware.\n",
      "[W610 20:51:21.692295753 NNPACK.cpp:57] Could not initialize NNPACK! Reason: Unsupported hardware.\n",
      "[W610 20:51:21.692413786 NNPACK.cpp:57] Could not initialize NNPACK! Reason: Unsupported hardware.\n",
      "[W610 20:51:21.692746864 NNPACK.cpp:57] Could not initialize NNPACK! Reason: Unsupported hardware.\n",
      "[W610 20:51:21.692807486 NNPACK.cpp:57] Could not initialize NNPACK! Reason: Unsupported hardware.\n",
      "[W610 20:51:21.692881388 NNPACK.cpp:57] Could not initialize NNPACK! Reason: Unsupported hardware.\n",
      "[W610 20:51:21.693206820 NNPACK.cpp:57] Could not initialize NNPACK! Reason: Unsupported hardware.\n",
      "[W610 20:51:21.693278680 NNPACK.cpp:57] Could not initialize NNPACK! Reason: Unsupported hardware.\n",
      "[W610 20:51:21.693665462 NNPACK.cpp:57] Could not initialize NNPACK! Reason: Unsupported hardware.\n",
      "[W610 20:51:21.693716333 NNPACK.cpp:57] Could not initialize NNPACK! Reason: Unsupported hardware.\n",
      "[W610 20:51:21.693777057 NNPACK.cpp:57] Could not initialize NNPACK! Reason: Unsupported hardware.\n",
      "[W610 20:51:21.693854460 NNPACK.cpp:57] Could not initialize NNPACK! Reason: Unsupported hardware.\n",
      "[W610 20:51:21.693896789 NNPACK.cpp:57] Could not initialize NNPACK! Reason: Unsupported hardware.\n",
      "[W610 20:51:21.693959641 NNPACK.cpp:57] Could not initialize NNPACK! Reason: Unsupported hardware.\n",
      "[W610 20:51:21.694001414 NNPACK.cpp:57] Could not initialize NNPACK! Reason: Unsupported hardware.\n",
      "[W610 20:51:21.694056177 NNPACK.cpp:57] Could not initialize NNPACK! Reason: Unsupported hardware.\n",
      "[W610 20:51:21.694114139 NNPACK.cpp:57] Could not initialize NNPACK! Reason: Unsupported hardware.\n",
      "[W610 20:51:21.695093873 NNPACK.cpp:57] Could not initialize NNPACK! Reason: Unsupported hardware.\n",
      "[W610 20:51:21.695174159 NNPACK.cpp:57] Could not initialize NNPACK! Reason: Unsupported hardware.\n",
      "[W610 20:51:21.695238105 NNPACK.cpp:57] Could not initialize NNPACK! Reason: Unsupported hardware.\n",
      "[W610 20:51:21.695264383 NNPACK.cpp:57] Could not initialize NNPACK! Reason: Unsupported hardware.\n",
      "[W610 20:51:21.695338037 NNPACK.cpp:57] Could not initialize NNPACK! Reason: Unsupported hardware.\n",
      "[W610 20:51:21.695401368 NNPACK.cpp:57] Could not initialize NNPACK! Reason: Unsupported hardware.\n",
      "[W610 20:51:21.695431886 NNPACK.cpp:57] Could not initialize NNPACK! Reason: Unsupported hardware.\n",
      "[W610 20:51:21.695489565 NNPACK.cpp:57] Could not initialize NNPACK! Reason: Unsupported hardware.\n",
      "[W610 20:51:21.695527181 NNPACK.cpp:57] Could not initialize NNPACK! Reason: Unsupported hardware.\n",
      "[W610 20:51:21.695547518 NNPACK.cpp:57] Could not initialize NNPACK! Reason: Unsupported hardware.\n",
      "[W610 20:51:21.695606022 NNPACK.cpp:57] Could not initialize NNPACK! Reason: Unsupported hardware.\n",
      "[W610 20:51:21.695648166 NNPACK.cpp:57] Could not initialize NNPACK! Reason: Unsupported hardware.\n"
     ]
    },
    {
     "name": "stdout",
     "output_type": "stream",
     "text": [
      "⚙️ Quantizing TorchScript model...\n",
      "🔁 Exporting ONNX...\n",
      "Ultralytics 8.3.152 🚀 Python-3.10.12 torch-2.7.1+cu126 CPU (Intel Xeon Platinum 8468)\n",
      "Model summary (fused): 72 layers, 3,006,428 parameters, 0 gradients, 8.1 GFLOPs\n",
      "\n",
      "\u001b[34m\u001b[1mPyTorch:\u001b[0m starting from 'runs/detect/train/weights/best.pt' with input shape (1, 3, 64, 384) BCHW and output shape(s) (1, 8, 504) (5.9 MB)\n",
      "\u001b[31m\u001b[1mrequirements:\u001b[0m Ultralytics requirements ['onnx>=1.12.0,<1.18.0', 'onnxslim>=0.1.56', 'onnxruntime-gpu'] not found, attempting AutoUpdate...\n",
      "WARNING ⚠️ \u001b[31m\u001b[1mrequirements:\u001b[0m ❌ [Errno 13] Permission denied: 'uv'\n",
      "\n",
      "\u001b[34m\u001b[1mONNX:\u001b[0m starting export with onnx 1.18.0 opset 19...\n"
     ]
    },
    {
     "name": "stderr",
     "output_type": "stream",
     "text": [
      "[W610 20:51:21.019492191 NNPACK.cpp:57] Could not initialize NNPACK! Reason: Unsupported hardware.\n",
      "[W610 20:51:21.020106248 NNPACK.cpp:57] Could not initialize NNPACK! Reason: Unsupported hardware.\n",
      "[W610 20:51:21.020265693 NNPACK.cpp:57] Could not initialize NNPACK! Reason: Unsupported hardware.\n",
      "[W610 20:51:21.020424021 NNPACK.cpp:57] Could not initialize NNPACK! Reason: Unsupported hardware.\n",
      "[W610 20:51:21.020545066 NNPACK.cpp:57] Could not initialize NNPACK! Reason: Unsupported hardware.\n",
      "[W610 20:51:21.020676855 NNPACK.cpp:57] Could not initialize NNPACK! Reason: Unsupported hardware.\n",
      "[W610 20:51:21.020810970 NNPACK.cpp:57] Could not initialize NNPACK! Reason: Unsupported hardware.\n",
      "[W610 20:51:21.020929541 NNPACK.cpp:57] Could not initialize NNPACK! Reason: Unsupported hardware.\n",
      "[W610 20:51:21.021056764 NNPACK.cpp:57] Could not initialize NNPACK! Reason: Unsupported hardware.\n",
      "[W610 20:51:21.021167376 NNPACK.cpp:57] Could not initialize NNPACK! Reason: Unsupported hardware.\n",
      "[W610 20:51:21.021279520 NNPACK.cpp:57] Could not initialize NNPACK! Reason: Unsupported hardware.\n",
      "[W610 20:51:21.021381856 NNPACK.cpp:57] Could not initialize NNPACK! Reason: Unsupported hardware.\n",
      "[W610 20:51:21.021498267 NNPACK.cpp:57] Could not initialize NNPACK! Reason: Unsupported hardware.\n",
      "[W610 20:51:21.021605354 NNPACK.cpp:57] Could not initialize NNPACK! Reason: Unsupported hardware.\n",
      "[W610 20:51:21.021724771 NNPACK.cpp:57] Could not initialize NNPACK! Reason: Unsupported hardware.\n",
      "[W610 20:51:21.021841468 NNPACK.cpp:57] Could not initialize NNPACK! Reason: Unsupported hardware.\n",
      "[W610 20:51:21.021970514 NNPACK.cpp:57] Could not initialize NNPACK! Reason: Unsupported hardware.\n",
      "[W610 20:51:21.022103146 NNPACK.cpp:57] Could not initialize NNPACK! Reason: Unsupported hardware.\n",
      "[W610 20:51:21.022228187 NNPACK.cpp:57] Could not initialize NNPACK! Reason: Unsupported hardware.\n",
      "[W610 20:51:21.022364715 NNPACK.cpp:57] Could not initialize NNPACK! Reason: Unsupported hardware.\n",
      "[W610 20:51:21.022482815 NNPACK.cpp:57] Could not initialize NNPACK! Reason: Unsupported hardware.\n",
      "[W610 20:51:21.022608812 NNPACK.cpp:57] Could not initialize NNPACK! Reason: Unsupported hardware.\n",
      "[W610 20:51:21.022773859 NNPACK.cpp:57] Could not initialize NNPACK! Reason: Unsupported hardware.\n",
      "[W610 20:51:21.022897988 NNPACK.cpp:57] Could not initialize NNPACK! Reason: Unsupported hardware.\n",
      "[W610 20:51:21.023028792 NNPACK.cpp:57] Could not initialize NNPACK! Reason: Unsupported hardware.\n",
      "[W610 20:51:21.023150080 NNPACK.cpp:57] Could not initialize NNPACK! Reason: Unsupported hardware.\n",
      "[W610 20:51:21.023495013 NNPACK.cpp:57] Could not initialize NNPACK! Reason: Unsupported hardware.\n",
      "[W610 20:51:21.023766239 NNPACK.cpp:57] Could not initialize NNPACK! Reason: Unsupported hardware.\n",
      "[W610 20:51:21.023919283 NNPACK.cpp:57] Could not initialize NNPACK! Reason: Unsupported hardware.\n",
      "[W610 20:51:21.024081214 NNPACK.cpp:57] Could not initialize NNPACK! Reason: Unsupported hardware.\n",
      "[W610 20:51:21.024228490 NNPACK.cpp:57] Could not initialize NNPACK! Reason: Unsupported hardware.\n",
      "[W610 20:51:21.024479863 NNPACK.cpp:57] Could not initialize NNPACK! Reason: Unsupported hardware.\n",
      "[W610 20:51:21.024621080 NNPACK.cpp:57] Could not initialize NNPACK! Reason: Unsupported hardware.\n",
      "[W610 20:51:21.024739669 NNPACK.cpp:57] Could not initialize NNPACK! Reason: Unsupported hardware.\n",
      "[W610 20:51:21.024862915 NNPACK.cpp:57] Could not initialize NNPACK! Reason: Unsupported hardware.\n",
      "[W610 20:51:21.024984074 NNPACK.cpp:57] Could not initialize NNPACK! Reason: Unsupported hardware.\n",
      "[W610 20:51:21.025125894 NNPACK.cpp:57] Could not initialize NNPACK! Reason: Unsupported hardware.\n",
      "[W610 20:51:21.025249913 NNPACK.cpp:57] Could not initialize NNPACK! Reason: Unsupported hardware.\n",
      "[W610 20:51:21.025373367 NNPACK.cpp:57] Could not initialize NNPACK! Reason: Unsupported hardware.\n",
      "[W610 20:51:21.025506601 NNPACK.cpp:57] Could not initialize NNPACK! Reason: Unsupported hardware.\n",
      "[W610 20:51:21.025622271 NNPACK.cpp:57] Could not initialize NNPACK! Reason: Unsupported hardware.\n",
      "[W610 20:51:21.025757495 NNPACK.cpp:57] Could not initialize NNPACK! Reason: Unsupported hardware.\n",
      "[W610 20:51:21.025878619 NNPACK.cpp:57] Could not initialize NNPACK! Reason: Unsupported hardware.\n",
      "[W610 20:51:21.025993411 NNPACK.cpp:57] Could not initialize NNPACK! Reason: Unsupported hardware.\n",
      "[W610 20:51:21.026110165 NNPACK.cpp:57] Could not initialize NNPACK! Reason: Unsupported hardware.\n",
      "[W610 20:51:21.026236834 NNPACK.cpp:57] Could not initialize NNPACK! Reason: Unsupported hardware.\n",
      "[W610 20:51:21.026357072 NNPACK.cpp:57] Could not initialize NNPACK! Reason: Unsupported hardware.\n",
      "[W610 20:51:21.026467807 NNPACK.cpp:57] Could not initialize NNPACK! Reason: Unsupported hardware.\n",
      "[W610 20:51:21.026702883 NNPACK.cpp:57] Could not initialize NNPACK! Reason: Unsupported hardware.\n",
      "[W610 20:51:21.026834904 NNPACK.cpp:57] Could not initialize NNPACK! Reason: Unsupported hardware.\n",
      "[W610 20:51:21.026947861 NNPACK.cpp:57] Could not initialize NNPACK! Reason: Unsupported hardware.\n",
      "[W610 20:51:21.027193398 NNPACK.cpp:57] Could not initialize NNPACK! Reason: Unsupported hardware.\n",
      "[W610 20:51:21.027319132 NNPACK.cpp:57] Could not initialize NNPACK! Reason: Unsupported hardware.\n",
      "[W610 20:51:21.027443917 NNPACK.cpp:57] Could not initialize NNPACK! Reason: Unsupported hardware.\n",
      "[W610 20:51:21.027659309 NNPACK.cpp:57] Could not initialize NNPACK! Reason: Unsupported hardware.\n",
      "[W610 20:51:21.027785419 NNPACK.cpp:57] Could not initialize NNPACK! Reason: Unsupported hardware.\n",
      "[W610 20:51:21.027906433 NNPACK.cpp:57] Could not initialize NNPACK! Reason: Unsupported hardware.\n",
      "[W610 20:51:21.028190072 NNPACK.cpp:57] Could not initialize NNPACK! Reason: Unsupported hardware.\n",
      "[W610 20:51:21.028324273 NNPACK.cpp:57] Could not initialize NNPACK! Reason: Unsupported hardware.\n",
      "[W610 20:51:21.028435280 NNPACK.cpp:57] Could not initialize NNPACK! Reason: Unsupported hardware.\n",
      "[W610 20:51:21.028652827 NNPACK.cpp:57] Could not initialize NNPACK! Reason: Unsupported hardware.\n",
      "[W610 20:51:21.028776015 NNPACK.cpp:57] Could not initialize NNPACK! Reason: Unsupported hardware.\n",
      "[W610 20:51:21.028897962 NNPACK.cpp:57] Could not initialize NNPACK! Reason: Unsupported hardware.\n",
      "[W610 20:51:21.029494170 NNPACK.cpp:57] Could not initialize NNPACK! Reason: Unsupported hardware.\n",
      "[W610 20:51:21.033846843 NNPACK.cpp:57] Could not initialize NNPACK! Reason: Unsupported hardware.\n",
      "[W610 20:51:21.033965105 NNPACK.cpp:57] Could not initialize NNPACK! Reason: Unsupported hardware.\n",
      "[W610 20:51:21.034064144 NNPACK.cpp:57] Could not initialize NNPACK! Reason: Unsupported hardware.\n",
      "[W610 20:51:21.034141790 NNPACK.cpp:57] Could not initialize NNPACK! Reason: Unsupported hardware.\n",
      "[W610 20:51:21.034611787 NNPACK.cpp:57] Could not initialize NNPACK! Reason: Unsupported hardware.\n",
      "[W610 20:51:21.034715218 NNPACK.cpp:57] Could not initialize NNPACK! Reason: Unsupported hardware.\n",
      "[W610 20:51:21.034793327 NNPACK.cpp:57] Could not initialize NNPACK! Reason: Unsupported hardware.\n",
      "[W610 20:51:21.034877755 NNPACK.cpp:57] Could not initialize NNPACK! Reason: Unsupported hardware.\n",
      "[W610 20:51:21.034945817 NNPACK.cpp:57] Could not initialize NNPACK! Reason: Unsupported hardware.\n",
      "[W610 20:51:21.035220938 NNPACK.cpp:57] Could not initialize NNPACK! Reason: Unsupported hardware.\n",
      "[W610 20:51:21.035310017 NNPACK.cpp:57] Could not initialize NNPACK! Reason: Unsupported hardware.\n",
      "[W610 20:51:21.035388191 NNPACK.cpp:57] Could not initialize NNPACK! Reason: Unsupported hardware.\n",
      "[W610 20:51:21.035472811 NNPACK.cpp:57] Could not initialize NNPACK! Reason: Unsupported hardware.\n",
      "[W610 20:51:21.035565945 NNPACK.cpp:57] Could not initialize NNPACK! Reason: Unsupported hardware.\n",
      "[W610 20:51:21.035620465 NNPACK.cpp:57] Could not initialize NNPACK! Reason: Unsupported hardware.\n",
      "[W610 20:51:21.035779072 NNPACK.cpp:57] Could not initialize NNPACK! Reason: Unsupported hardware.\n",
      "[W610 20:51:21.036211102 NNPACK.cpp:57] Could not initialize NNPACK! Reason: Unsupported hardware.\n",
      "[W610 20:51:21.036314880 NNPACK.cpp:57] Could not initialize NNPACK! Reason: Unsupported hardware.\n",
      "[W610 20:51:21.036412829 NNPACK.cpp:57] Could not initialize NNPACK! Reason: Unsupported hardware.\n",
      "[W610 20:51:21.036824989 NNPACK.cpp:57] Could not initialize NNPACK! Reason: Unsupported hardware.\n",
      "[W610 20:51:21.036909169 NNPACK.cpp:57] Could not initialize NNPACK! Reason: Unsupported hardware.\n",
      "[W610 20:51:21.037371334 NNPACK.cpp:57] Could not initialize NNPACK! Reason: Unsupported hardware.\n",
      "[W610 20:51:21.037448681 NNPACK.cpp:57] Could not initialize NNPACK! Reason: Unsupported hardware.\n",
      "[W610 20:51:21.037520107 NNPACK.cpp:57] Could not initialize NNPACK! Reason: Unsupported hardware.\n",
      "[W610 20:51:21.037610769 NNPACK.cpp:57] Could not initialize NNPACK! Reason: Unsupported hardware.\n",
      "[W610 20:51:21.037669579 NNPACK.cpp:57] Could not initialize NNPACK! Reason: Unsupported hardware.\n",
      "[W610 20:51:21.037759498 NNPACK.cpp:57] Could not initialize NNPACK! Reason: Unsupported hardware.\n",
      "[W610 20:51:21.037821993 NNPACK.cpp:57] Could not initialize NNPACK! Reason: Unsupported hardware.\n",
      "[W610 20:51:21.037883333 NNPACK.cpp:57] Could not initialize NNPACK! Reason: Unsupported hardware.\n",
      "[W610 20:51:21.037956544 NNPACK.cpp:57] Could not initialize NNPACK! Reason: Unsupported hardware.\n",
      "[W610 20:51:21.039069064 NNPACK.cpp:57] Could not initialize NNPACK! Reason: Unsupported hardware.\n",
      "[W610 20:51:21.039174510 NNPACK.cpp:57] Could not initialize NNPACK! Reason: Unsupported hardware.\n",
      "[W610 20:51:21.039255353 NNPACK.cpp:57] Could not initialize NNPACK! Reason: Unsupported hardware.\n",
      "[W610 20:51:21.039295977 NNPACK.cpp:57] Could not initialize NNPACK! Reason: Unsupported hardware.\n",
      "[W610 20:51:21.039393285 NNPACK.cpp:57] Could not initialize NNPACK! Reason: Unsupported hardware.\n",
      "[W610 20:51:21.039463992 NNPACK.cpp:57] Could not initialize NNPACK! Reason: Unsupported hardware.\n",
      "[W610 20:51:21.039510382 NNPACK.cpp:57] Could not initialize NNPACK! Reason: Unsupported hardware.\n",
      "[W610 20:51:21.039579385 NNPACK.cpp:57] Could not initialize NNPACK! Reason: Unsupported hardware.\n",
      "[W610 20:51:21.039621147 NNPACK.cpp:57] Could not initialize NNPACK! Reason: Unsupported hardware.\n",
      "[W610 20:51:21.039652612 NNPACK.cpp:57] Could not initialize NNPACK! Reason: Unsupported hardware.\n",
      "[W610 20:51:21.039723306 NNPACK.cpp:57] Could not initialize NNPACK! Reason: Unsupported hardware.\n",
      "[W610 20:51:21.039767066 NNPACK.cpp:57] Could not initialize NNPACK! Reason: Unsupported hardware.\n",
      "[W610 20:51:21.041795183 NNPACK.cpp:57] Could not initialize NNPACK! Reason: Unsupported hardware.\n",
      "[W610 20:51:21.041906114 NNPACK.cpp:57] Could not initialize NNPACK! Reason: Unsupported hardware.\n",
      "[W610 20:51:21.042001949 NNPACK.cpp:57] Could not initialize NNPACK! Reason: Unsupported hardware.\n",
      "[W610 20:51:21.042078145 NNPACK.cpp:57] Could not initialize NNPACK! Reason: Unsupported hardware.\n",
      "[W610 20:51:21.042507827 NNPACK.cpp:57] Could not initialize NNPACK! Reason: Unsupported hardware.\n",
      "[W610 20:51:21.042582405 NNPACK.cpp:57] Could not initialize NNPACK! Reason: Unsupported hardware.\n",
      "[W610 20:51:21.042648747 NNPACK.cpp:57] Could not initialize NNPACK! Reason: Unsupported hardware.\n",
      "[W610 20:51:21.042753944 NNPACK.cpp:57] Could not initialize NNPACK! Reason: Unsupported hardware.\n",
      "[W610 20:51:21.042817421 NNPACK.cpp:57] Could not initialize NNPACK! Reason: Unsupported hardware.\n",
      "[W610 20:51:21.043067789 NNPACK.cpp:57] Could not initialize NNPACK! Reason: Unsupported hardware.\n",
      "[W610 20:51:21.043152905 NNPACK.cpp:57] Could not initialize NNPACK! Reason: Unsupported hardware.\n",
      "[W610 20:51:21.043234708 NNPACK.cpp:57] Could not initialize NNPACK! Reason: Unsupported hardware.\n",
      "[W610 20:51:21.043309920 NNPACK.cpp:57] Could not initialize NNPACK! Reason: Unsupported hardware.\n",
      "[W610 20:51:21.043396170 NNPACK.cpp:57] Could not initialize NNPACK! Reason: Unsupported hardware.\n",
      "[W610 20:51:21.043447018 NNPACK.cpp:57] Could not initialize NNPACK! Reason: Unsupported hardware.\n",
      "[W610 20:51:21.043599685 NNPACK.cpp:57] Could not initialize NNPACK! Reason: Unsupported hardware.\n",
      "[W610 20:51:21.043950228 NNPACK.cpp:57] Could not initialize NNPACK! Reason: Unsupported hardware.\n",
      "[W610 20:51:21.044065956 NNPACK.cpp:57] Could not initialize NNPACK! Reason: Unsupported hardware.\n",
      "[W610 20:51:21.044164366 NNPACK.cpp:57] Could not initialize NNPACK! Reason: Unsupported hardware.\n",
      "[W610 20:51:21.044558031 NNPACK.cpp:57] Could not initialize NNPACK! Reason: Unsupported hardware.\n",
      "[W610 20:51:21.044639022 NNPACK.cpp:57] Could not initialize NNPACK! Reason: Unsupported hardware.\n",
      "[W610 20:51:21.045069013 NNPACK.cpp:57] Could not initialize NNPACK! Reason: Unsupported hardware.\n",
      "[W610 20:51:21.045139727 NNPACK.cpp:57] Could not initialize NNPACK! Reason: Unsupported hardware.\n",
      "[W610 20:51:21.045206739 NNPACK.cpp:57] Could not initialize NNPACK! Reason: Unsupported hardware.\n",
      "[W610 20:51:21.045291639 NNPACK.cpp:57] Could not initialize NNPACK! Reason: Unsupported hardware.\n",
      "[W610 20:51:21.045345757 NNPACK.cpp:57] Could not initialize NNPACK! Reason: Unsupported hardware.\n",
      "[W610 20:51:21.045430708 NNPACK.cpp:57] Could not initialize NNPACK! Reason: Unsupported hardware.\n",
      "[W610 20:51:21.045490218 NNPACK.cpp:57] Could not initialize NNPACK! Reason: Unsupported hardware.\n",
      "[W610 20:51:21.045547113 NNPACK.cpp:57] Could not initialize NNPACK! Reason: Unsupported hardware.\n",
      "[W610 20:51:21.045614760 NNPACK.cpp:57] Could not initialize NNPACK! Reason: Unsupported hardware.\n",
      "[W610 20:51:21.046702602 NNPACK.cpp:57] Could not initialize NNPACK! Reason: Unsupported hardware.\n",
      "[W610 20:51:21.046801872 NNPACK.cpp:57] Could not initialize NNPACK! Reason: Unsupported hardware.\n",
      "[W610 20:51:21.046872220 NNPACK.cpp:57] Could not initialize NNPACK! Reason: Unsupported hardware.\n",
      "[W610 20:51:21.046908142 NNPACK.cpp:57] Could not initialize NNPACK! Reason: Unsupported hardware.\n",
      "[W610 20:51:21.046997909 NNPACK.cpp:57] Could not initialize NNPACK! Reason: Unsupported hardware.\n",
      "[W610 20:51:21.047069088 NNPACK.cpp:57] Could not initialize NNPACK! Reason: Unsupported hardware.\n",
      "[W610 20:51:21.047111206 NNPACK.cpp:57] Could not initialize NNPACK! Reason: Unsupported hardware.\n",
      "[W610 20:51:21.047176149 NNPACK.cpp:57] Could not initialize NNPACK! Reason: Unsupported hardware.\n",
      "[W610 20:51:21.047215710 NNPACK.cpp:57] Could not initialize NNPACK! Reason: Unsupported hardware.\n",
      "[W610 20:51:21.047241939 NNPACK.cpp:57] Could not initialize NNPACK! Reason: Unsupported hardware.\n",
      "[W610 20:51:21.047304917 NNPACK.cpp:57] Could not initialize NNPACK! Reason: Unsupported hardware.\n",
      "[W610 20:51:21.047343023 NNPACK.cpp:57] Could not initialize NNPACK! Reason: Unsupported hardware.\n",
      "[W610 20:51:21.068896037 NNPACK.cpp:57] Could not initialize NNPACK! Reason: Unsupported hardware.\n",
      "[W610 20:51:21.070235055 NNPACK.cpp:57] Could not initialize NNPACK! Reason: Unsupported hardware.\n",
      "[W610 20:51:21.071735270 NNPACK.cpp:57] Could not initialize NNPACK! Reason: Unsupported hardware.\n",
      "[W610 20:51:21.073097431 NNPACK.cpp:57] Could not initialize NNPACK! Reason: Unsupported hardware.\n",
      "[W610 20:51:21.077260243 NNPACK.cpp:57] Could not initialize NNPACK! Reason: Unsupported hardware.\n",
      "[W610 20:51:21.078828266 NNPACK.cpp:57] Could not initialize NNPACK! Reason: Unsupported hardware.\n",
      "[W610 20:51:21.080148779 NNPACK.cpp:57] Could not initialize NNPACK! Reason: Unsupported hardware.\n",
      "[W610 20:51:21.081585120 NNPACK.cpp:57] Could not initialize NNPACK! Reason: Unsupported hardware.\n",
      "[W610 20:51:21.082838312 NNPACK.cpp:57] Could not initialize NNPACK! Reason: Unsupported hardware.\n",
      "[W610 20:51:21.085576022 NNPACK.cpp:57] Could not initialize NNPACK! Reason: Unsupported hardware.\n",
      "[W610 20:51:21.086829751 NNPACK.cpp:57] Could not initialize NNPACK! Reason: Unsupported hardware.\n",
      "[W610 20:51:21.088389991 NNPACK.cpp:57] Could not initialize NNPACK! Reason: Unsupported hardware.\n",
      "[W610 20:51:21.089669921 NNPACK.cpp:57] Could not initialize NNPACK! Reason: Unsupported hardware.\n",
      "[W610 20:51:21.091131593 NNPACK.cpp:57] Could not initialize NNPACK! Reason: Unsupported hardware.\n",
      "[W610 20:51:21.092275381 NNPACK.cpp:57] Could not initialize NNPACK! Reason: Unsupported hardware.\n",
      "[W610 20:51:21.095347716 NNPACK.cpp:57] Could not initialize NNPACK! Reason: Unsupported hardware.\n",
      "[W610 20:51:21.098528760 NNPACK.cpp:57] Could not initialize NNPACK! Reason: Unsupported hardware.\n",
      "[W610 20:51:21.099715520 NNPACK.cpp:57] Could not initialize NNPACK! Reason: Unsupported hardware.\n",
      "[W610 20:51:21.100985984 NNPACK.cpp:57] Could not initialize NNPACK! Reason: Unsupported hardware.\n",
      "[W610 20:51:21.104208953 NNPACK.cpp:57] Could not initialize NNPACK! Reason: Unsupported hardware.\n",
      "[W610 20:51:21.105417039 NNPACK.cpp:57] Could not initialize NNPACK! Reason: Unsupported hardware.\n",
      "[W610 20:51:21.109274781 NNPACK.cpp:57] Could not initialize NNPACK! Reason: Unsupported hardware.\n",
      "[W610 20:51:21.110672256 NNPACK.cpp:57] Could not initialize NNPACK! Reason: Unsupported hardware.\n",
      "[W610 20:51:21.111853632 NNPACK.cpp:57] Could not initialize NNPACK! Reason: Unsupported hardware.\n",
      "[W610 20:51:21.113120628 NNPACK.cpp:57] Could not initialize NNPACK! Reason: Unsupported hardware.\n",
      "[W610 20:51:21.114161101 NNPACK.cpp:57] Could not initialize NNPACK! Reason: Unsupported hardware.\n",
      "[W610 20:51:21.115485526 NNPACK.cpp:57] Could not initialize NNPACK! Reason: Unsupported hardware.\n",
      "[W610 20:51:21.116894698 NNPACK.cpp:57] Could not initialize NNPACK! Reason: Unsupported hardware.\n",
      "[W610 20:51:21.118122123 NNPACK.cpp:57] Could not initialize NNPACK! Reason: Unsupported hardware.\n",
      "[W610 20:51:21.119394153 NNPACK.cpp:57] Could not initialize NNPACK! Reason: Unsupported hardware.\n",
      "[W610 20:51:21.128079560 NNPACK.cpp:57] Could not initialize NNPACK! Reason: Unsupported hardware.\n",
      "[W610 20:51:21.129268908 NNPACK.cpp:57] Could not initialize NNPACK! Reason: Unsupported hardware.\n",
      "[W610 20:51:21.130310283 NNPACK.cpp:57] Could not initialize NNPACK! Reason: Unsupported hardware.\n",
      "[W610 20:51:21.131308308 NNPACK.cpp:57] Could not initialize NNPACK! Reason: Unsupported hardware.\n",
      "[W610 20:51:21.132481848 NNPACK.cpp:57] Could not initialize NNPACK! Reason: Unsupported hardware.\n",
      "[W610 20:51:21.133556871 NNPACK.cpp:57] Could not initialize NNPACK! Reason: Unsupported hardware.\n",
      "[W610 20:51:21.134727659 NNPACK.cpp:57] Could not initialize NNPACK! Reason: Unsupported hardware.\n",
      "[W610 20:51:21.135845729 NNPACK.cpp:57] Could not initialize NNPACK! Reason: Unsupported hardware.\n",
      "[W610 20:51:21.136844872 NNPACK.cpp:57] Could not initialize NNPACK! Reason: Unsupported hardware.\n",
      "[W610 20:51:21.137825941 NNPACK.cpp:57] Could not initialize NNPACK! Reason: Unsupported hardware.\n",
      "[W610 20:51:21.138905845 NNPACK.cpp:57] Could not initialize NNPACK! Reason: Unsupported hardware.\n",
      "[W610 20:51:21.139929886 NNPACK.cpp:57] Could not initialize NNPACK! Reason: Unsupported hardware.\n"
     ]
    },
    {
     "name": "stdout",
     "output_type": "stream",
     "text": [
      "WARNING ⚠️ \u001b[34m\u001b[1mONNX:\u001b[0m simplifier failure: No module named 'onnxslim'\n",
      "\u001b[34m\u001b[1mONNX:\u001b[0m export success ✅ 0.3s, saved as 'runs/detect/train/weights/best.onnx' (11.5 MB)\n",
      "\n",
      "Export complete (0.4s)\n",
      "Results saved to \u001b[1m/home/soheil/runs/detect/train/weights\u001b[0m\n",
      "Predict:         yolo predict task=detect model=runs/detect/train/weights/best.onnx imgsz=64,384  \n",
      "Validate:        yolo val task=detect model=runs/detect/train/weights/best.onnx imgsz=64,384 data=splits_simple_fused/splits_simple_fused_2025-06-06_01-11-05/data.yaml  WARNING ⚠️ non-PyTorch val requires square images, 'imgsz=[64, 384]' will not work. Use export 'imgsz=384' if val is required.\n",
      "Visualize:       https://netron.app\n"
     ]
    },
    {
     "name": "stderr",
     "output_type": "stream",
     "text": [
      "WARNING:root:Please consider to run pre-processing before quantization. Refer to example: https://github.com/microsoft/onnxruntime-inference-examples/blob/main/quantization/image_classification/cpu/ReadMe.md \n"
     ]
    },
    {
     "name": "stdout",
     "output_type": "stream",
     "text": [
      "⚙️ Quantizing ONNX model...\n",
      "🚀 Exporting TensorRT (FP16)...\n",
      "WARNING ⚠️ TensorRT requires GPU export, automatically assigning device=0\n",
      "Ultralytics 8.3.152 🚀 Python-3.10.12 torch-2.7.1+cu126 CUDA:0 (NVIDIA H100 80GB HBM3, 81008MiB)\n",
      "Model summary (fused): 72 layers, 3,006,428 parameters, 0 gradients, 8.1 GFLOPs\n",
      "\n",
      "\u001b[34m\u001b[1mPyTorch:\u001b[0m starting from 'runs/detect/train/weights/best.pt' with input shape (1, 3, 64, 384) BCHW and output shape(s) (1, 8, 504) (5.9 MB)\n",
      "\u001b[31m\u001b[1mrequirements:\u001b[0m Ultralytics requirements ['onnx>=1.12.0,<1.18.0', 'onnxslim>=0.1.56', 'onnxruntime-gpu'] not found, attempting AutoUpdate...\n",
      "WARNING ⚠️ \u001b[31m\u001b[1mrequirements:\u001b[0m ❌ [Errno 13] Permission denied: 'uv'\n",
      "\n",
      "\u001b[34m\u001b[1mONNX:\u001b[0m starting export with onnx 1.18.0 opset 19...\n",
      "WARNING ⚠️ \u001b[34m\u001b[1mONNX:\u001b[0m simplifier failure: No module named 'onnxslim'\n",
      "\u001b[34m\u001b[1mONNX:\u001b[0m export success ✅ 0.3s, saved as 'runs/detect/train/weights/best.onnx' (11.5 MB)\n",
      "\n",
      "\u001b[34m\u001b[1mTensorRT:\u001b[0m starting export with TensorRT 10.11.0.33...\n",
      "[06/10/2025-20:51:22] [TRT] [I] [MemUsageChange] Init CUDA: CPU -2, GPU +0, now: CPU 52086, GPU 1433 (MiB)\n",
      "[06/10/2025-20:51:24] [TRT] [I] [MemUsageChange] Init builder kernel library: CPU +1900, GPU +6, now: CPU 54058, GPU 1439 (MiB)\n",
      "[06/10/2025-20:51:24] [TRT] [I] ----------------------------------------------------------------\n",
      "[06/10/2025-20:51:24] [TRT] [I] Input filename:   runs/detect/train/weights/best.onnx\n",
      "[06/10/2025-20:51:24] [TRT] [I] ONNX IR version:  0.0.9\n",
      "[06/10/2025-20:51:24] [TRT] [I] Opset version:    19\n",
      "[06/10/2025-20:51:24] [TRT] [I] Producer name:    pytorch\n",
      "[06/10/2025-20:51:24] [TRT] [I] Producer version: 2.7.1\n",
      "[06/10/2025-20:51:24] [TRT] [I] Domain:           \n",
      "[06/10/2025-20:51:24] [TRT] [I] Model version:    0\n",
      "[06/10/2025-20:51:24] [TRT] [I] Doc string:       \n",
      "[06/10/2025-20:51:24] [TRT] [I] ----------------------------------------------------------------\n",
      "\u001b[34m\u001b[1mTensorRT:\u001b[0m input \"images\" with shape(1, 3, 64, 384) DataType.FLOAT\n",
      "\u001b[34m\u001b[1mTensorRT:\u001b[0m output \"output0\" with shape(1, 8, 504) DataType.FLOAT\n",
      "\u001b[34m\u001b[1mTensorRT:\u001b[0m building FP32 engine as runs/detect/train/weights/best.engine\n",
      "[06/10/2025-20:51:29] [TRT] [I] Local timing cache in use. Profiling results in this builder pass will not be stored.\n",
      "[06/10/2025-20:53:43] [TRT] [I] Detected 1 inputs and 3 output network tensors.\n",
      "[06/10/2025-20:53:43] [TRT] [I] Total Host Persistent Memory: 453568 bytes\n",
      "[06/10/2025-20:53:43] [TRT] [I] Total Device Persistent Memory: 0 bytes\n",
      "[06/10/2025-20:53:43] [TRT] [I] Max Scratch Memory: 512 bytes\n",
      "[06/10/2025-20:53:43] [TRT] [I] [BlockAssignment] Started assigning block shifts. This will take 232 steps to complete.\n",
      "[06/10/2025-20:53:43] [TRT] [I] [BlockAssignment] Algorithm ShiftNTopDown took 11.047ms to assign 9 blocks to 232 nodes requiring 1058304 bytes.\n",
      "[06/10/2025-20:53:43] [TRT] [I] Total Activation Memory: 1056768 bytes\n",
      "[06/10/2025-20:53:43] [TRT] [I] Total Weights Memory: 12048388 bytes\n",
      "[06/10/2025-20:53:43] [TRT] [I] Engine generation completed in 133.781 seconds.\n",
      "[06/10/2025-20:53:43] [TRT] [I] [MemUsageStats] Peak memory usage of TRT CPU/GPU memory allocators: CPU 1 MiB, GPU 16 MiB\n",
      "\u001b[34m\u001b[1mTensorRT:\u001b[0m export success ✅ 142.6s, saved as 'runs/detect/train/weights/best.engine' (13.6 MB)\n",
      "\n",
      "Export complete (142.7s)\n",
      "Results saved to \u001b[1m/home/soheil/runs/detect/train/weights\u001b[0m\n",
      "Predict:         yolo predict task=detect model=runs/detect/train/weights/best.engine imgsz=64,384  \n",
      "Validate:        yolo val task=detect model=runs/detect/train/weights/best.engine imgsz=64,384 data=splits_simple_fused/splits_simple_fused_2025-06-06_01-11-05/data.yaml  WARNING ⚠️ non-PyTorch val requires square images, 'imgsz=[64, 384]' will not work. Use export 'imgsz=384' if val is required.\n",
      "Visualize:       https://netron.app\n",
      "🔍 Evaluating on test set...\n",
      "Ultralytics 8.3.152 🚀 Python-3.10.12 torch-2.7.1+cu126 CUDA:0 (NVIDIA H100 80GB HBM3, 81008MiB)\n",
      "Model summary (fused): 72 layers, 3,006,428 parameters, 0 gradients, 8.1 GFLOPs\n"
     ]
    },
    {
     "name": "stderr",
     "output_type": "stream",
     "text": [
      "[W610 20:53:44.243716331 NNPACK.cpp:57] Could not initialize NNPACK! Reason: Unsupported hardware.\n",
      "[W610 20:53:44.244290690 NNPACK.cpp:57] Could not initialize NNPACK! Reason: Unsupported hardware.\n",
      "[W610 20:53:44.244596636 NNPACK.cpp:57] Could not initialize NNPACK! Reason: Unsupported hardware.\n",
      "[W610 20:53:44.244750471 NNPACK.cpp:57] Could not initialize NNPACK! Reason: Unsupported hardware.\n",
      "[W610 20:53:44.244866239 NNPACK.cpp:57] Could not initialize NNPACK! Reason: Unsupported hardware.\n",
      "[W610 20:53:44.245006206 NNPACK.cpp:57] Could not initialize NNPACK! Reason: Unsupported hardware.\n",
      "[W610 20:53:44.245127320 NNPACK.cpp:57] Could not initialize NNPACK! Reason: Unsupported hardware.\n",
      "[W610 20:53:44.245261570 NNPACK.cpp:57] Could not initialize NNPACK! Reason: Unsupported hardware.\n",
      "[W610 20:53:44.245397153 NNPACK.cpp:57] Could not initialize NNPACK! Reason: Unsupported hardware.\n",
      "[W610 20:53:44.245507436 NNPACK.cpp:57] Could not initialize NNPACK! Reason: Unsupported hardware.\n",
      "[W610 20:53:44.245620632 NNPACK.cpp:57] Could not initialize NNPACK! Reason: Unsupported hardware.\n",
      "[W610 20:53:44.245723276 NNPACK.cpp:57] Could not initialize NNPACK! Reason: Unsupported hardware.\n",
      "[W610 20:53:44.245840265 NNPACK.cpp:57] Could not initialize NNPACK! Reason: Unsupported hardware.\n",
      "[W610 20:53:44.245945699 NNPACK.cpp:57] Could not initialize NNPACK! Reason: Unsupported hardware.\n",
      "[W610 20:53:44.246065038 NNPACK.cpp:57] Could not initialize NNPACK! Reason: Unsupported hardware.\n",
      "[W610 20:53:44.246177051 NNPACK.cpp:57] Could not initialize NNPACK! Reason: Unsupported hardware.\n",
      "[W610 20:53:44.246299896 NNPACK.cpp:57] Could not initialize NNPACK! Reason: Unsupported hardware.\n",
      "[W610 20:53:44.246430863 NNPACK.cpp:57] Could not initialize NNPACK! Reason: Unsupported hardware.\n",
      "[W610 20:53:44.246576192 NNPACK.cpp:57] Could not initialize NNPACK! Reason: Unsupported hardware.\n",
      "[W610 20:53:44.246724332 NNPACK.cpp:57] Could not initialize NNPACK! Reason: Unsupported hardware.\n",
      "[W610 20:53:44.246843573 NNPACK.cpp:57] Could not initialize NNPACK! Reason: Unsupported hardware.\n",
      "[W610 20:53:44.246965835 NNPACK.cpp:57] Could not initialize NNPACK! Reason: Unsupported hardware.\n",
      "[W610 20:53:44.247085147 NNPACK.cpp:57] Could not initialize NNPACK! Reason: Unsupported hardware.\n",
      "[W610 20:53:44.247197311 NNPACK.cpp:57] Could not initialize NNPACK! Reason: Unsupported hardware.\n",
      "[W610 20:53:44.247321706 NNPACK.cpp:57] Could not initialize NNPACK! Reason: Unsupported hardware.\n",
      "[W610 20:53:44.247437408 NNPACK.cpp:57] Could not initialize NNPACK! Reason: Unsupported hardware.\n",
      "[W610 20:53:44.247770286 NNPACK.cpp:57] Could not initialize NNPACK! Reason: Unsupported hardware.\n",
      "[W610 20:53:44.248048591 NNPACK.cpp:57] Could not initialize NNPACK! Reason: Unsupported hardware.\n",
      "[W610 20:53:44.248215465 NNPACK.cpp:57] Could not initialize NNPACK! Reason: Unsupported hardware.\n",
      "[W610 20:53:44.248357183 NNPACK.cpp:57] Could not initialize NNPACK! Reason: Unsupported hardware.\n",
      "[W610 20:53:44.248503574 NNPACK.cpp:57] Could not initialize NNPACK! Reason: Unsupported hardware.\n",
      "[W610 20:53:44.248755127 NNPACK.cpp:57] Could not initialize NNPACK! Reason: Unsupported hardware.\n",
      "[W610 20:53:44.248926678 NNPACK.cpp:57] Could not initialize NNPACK! Reason: Unsupported hardware.\n",
      "[W610 20:53:44.249070051 NNPACK.cpp:57] Could not initialize NNPACK! Reason: Unsupported hardware.\n",
      "[W610 20:53:44.249210827 NNPACK.cpp:57] Could not initialize NNPACK! Reason: Unsupported hardware.\n",
      "[W610 20:53:44.249358689 NNPACK.cpp:57] Could not initialize NNPACK! Reason: Unsupported hardware.\n",
      "[W610 20:53:44.249540768 NNPACK.cpp:57] Could not initialize NNPACK! Reason: Unsupported hardware.\n",
      "[W610 20:53:44.249684981 NNPACK.cpp:57] Could not initialize NNPACK! Reason: Unsupported hardware.\n",
      "[W610 20:53:44.249824765 NNPACK.cpp:57] Could not initialize NNPACK! Reason: Unsupported hardware.\n",
      "[W610 20:53:44.249970729 NNPACK.cpp:57] Could not initialize NNPACK! Reason: Unsupported hardware.\n",
      "[W610 20:53:44.250100995 NNPACK.cpp:57] Could not initialize NNPACK! Reason: Unsupported hardware.\n",
      "[W610 20:53:44.250253558 NNPACK.cpp:57] Could not initialize NNPACK! Reason: Unsupported hardware.\n",
      "[W610 20:53:44.250388896 NNPACK.cpp:57] Could not initialize NNPACK! Reason: Unsupported hardware.\n",
      "[W610 20:53:44.250517879 NNPACK.cpp:57] Could not initialize NNPACK! Reason: Unsupported hardware.\n",
      "[W610 20:53:44.250689722 NNPACK.cpp:57] Could not initialize NNPACK! Reason: Unsupported hardware.\n",
      "[W610 20:53:44.250844462 NNPACK.cpp:57] Could not initialize NNPACK! Reason: Unsupported hardware.\n",
      "[W610 20:53:44.250991036 NNPACK.cpp:57] Could not initialize NNPACK! Reason: Unsupported hardware.\n",
      "[W610 20:53:44.251124973 NNPACK.cpp:57] Could not initialize NNPACK! Reason: Unsupported hardware.\n",
      "[W610 20:53:44.251353801 NNPACK.cpp:57] Could not initialize NNPACK! Reason: Unsupported hardware.\n",
      "[W610 20:53:44.251488749 NNPACK.cpp:57] Could not initialize NNPACK! Reason: Unsupported hardware.\n",
      "[W610 20:53:44.251612059 NNPACK.cpp:57] Could not initialize NNPACK! Reason: Unsupported hardware.\n",
      "[W610 20:53:44.251834329 NNPACK.cpp:57] Could not initialize NNPACK! Reason: Unsupported hardware.\n",
      "[W610 20:53:44.251974277 NNPACK.cpp:57] Could not initialize NNPACK! Reason: Unsupported hardware.\n",
      "[W610 20:53:44.252127186 NNPACK.cpp:57] Could not initialize NNPACK! Reason: Unsupported hardware.\n",
      "[W610 20:53:44.252352494 NNPACK.cpp:57] Could not initialize NNPACK! Reason: Unsupported hardware.\n",
      "[W610 20:53:44.252479191 NNPACK.cpp:57] Could not initialize NNPACK! Reason: Unsupported hardware.\n",
      "[W610 20:53:44.252597503 NNPACK.cpp:57] Could not initialize NNPACK! Reason: Unsupported hardware.\n",
      "[W610 20:53:44.252831973 NNPACK.cpp:57] Could not initialize NNPACK! Reason: Unsupported hardware.\n",
      "[W610 20:53:44.252953393 NNPACK.cpp:57] Could not initialize NNPACK! Reason: Unsupported hardware.\n",
      "[W610 20:53:44.253066612 NNPACK.cpp:57] Could not initialize NNPACK! Reason: Unsupported hardware.\n",
      "[W610 20:53:44.253282915 NNPACK.cpp:57] Could not initialize NNPACK! Reason: Unsupported hardware.\n",
      "[W610 20:53:44.253405378 NNPACK.cpp:57] Could not initialize NNPACK! Reason: Unsupported hardware.\n",
      "[W610 20:53:44.253519164 NNPACK.cpp:57] Could not initialize NNPACK! Reason: Unsupported hardware.\n",
      "[W610 20:53:44.254012389 NNPACK.cpp:57] Could not initialize NNPACK! Reason: Unsupported hardware.\n"
     ]
    },
    {
     "name": "stdout",
     "output_type": "stream",
     "text": [
      "\u001b[34m\u001b[1mval: \u001b[0mFast image access ✅ (ping: 0.3±0.2 ms, read: 5.4±2.1 MB/s, size: 0.8 KB)\n"
     ]
    },
    {
     "name": "stderr",
     "output_type": "stream",
     "text": [
      "\u001b[34m\u001b[1mval: \u001b[0mScanning /home/soheil/splits_simple_fused/splits_simple_fused_2025-06-06_01-11-05/labels/test... 38321 images, 0 backgrounds, 0 c\u001b[0m\n"
     ]
    },
    {
     "name": "stdout",
     "output_type": "stream",
     "text": [
      "\u001b[34m\u001b[1mval: \u001b[0mNew cache created: /home/soheil/splits_simple_fused/splits_simple_fused_2025-06-06_01-11-05/labels/test.cache\n"
     ]
    },
    {
     "name": "stderr",
     "output_type": "stream",
     "text": [
      "                 Class     Images  Instances      Box(P          R      mAP50  mAP50-95): 100%|██████████| 2396/2396 [01:29<00:00, 26.\n"
     ]
    },
    {
     "name": "stdout",
     "output_type": "stream",
     "text": [
      "                   all      38321     146223      0.949      0.947      0.984      0.778\n",
      "                 chair      37699      37699      0.986      0.913      0.981      0.746\n",
      "                   box      37917      37917      0.957      0.996      0.993       0.78\n",
      "                  desk      38234      38234      0.922      0.954      0.982      0.822\n",
      "            door_frame      32373      32373       0.93      0.926       0.98      0.763\n",
      "Speed: 0.0ms preprocess, 0.2ms inference, 0.0ms loss, 0.5ms postprocess per image\n",
      "Results saved to \u001b[1mruns/detect/val\u001b[0m\n",
      "✅ Metrics saved.\n",
      "📦 All models and metrics saved to: ./webots_model_assets_simpel_fused_fulltrain_120\n"
     ]
    }
   ],
   "source": [
    "from ultralytics import YOLO\n",
    "import torch\n",
    "import json\n",
    "import shutil\n",
    "import os\n",
    "from onnxruntime.quantization import quantize_dynamic, QuantType\n",
    "\n",
    "# --- Paths ---\n",
    "weights_dir = 'runs/detect/train/weights'\n",
    "best_model_path = f'{weights_dir}/best.pt'\n",
    "data_yaml_path = './splits_simple_fused/splits_simple_fused_2025-06-06_01-11-05/data.yaml'\n",
    "webots_dir = './webots_model_assets_simpel_fused_fulltrain_120'\n",
    "os.makedirs(webots_dir, exist_ok=True)\n",
    "\n",
    "# --- Load Trained YOLOv8 Model ---\n",
    "model = YOLO(best_model_path)\n",
    "\n",
    "# --- Export TorchScript (FP32) ---\n",
    "print(\"🔁 Exporting TorchScript...\")\n",
    "model.export(format='torchscript', imgsz=[64, 384])\n",
    "torchscript_path = f'{weights_dir}/best.torchscript'\n",
    "\n",
    "# --- Dynamic Quantization for TorchScript ---\n",
    "print(\"⚙️ Quantizing TorchScript model...\")\n",
    "model_fp32 = torch.jit.load(torchscript_path)\n",
    "model_int8 = torch.quantization.quantize_dynamic(model_fp32, {torch.nn.Linear}, dtype=torch.qint8)\n",
    "torchscript_quant_path = f'{weights_dir}/best_quant_dynamic.torchscript'\n",
    "torch.jit.save(model_int8, torchscript_quant_path)\n",
    "\n",
    "# --- Export ONNX (FP32) ---\n",
    "print(\"🔁 Exporting ONNX...\")\n",
    "model.export(format='onnx', imgsz=[64, 384], dynamic=True)\n",
    "onnx_path = f'{weights_dir}/best.onnx'\n",
    "\n",
    "# --- Dynamic Quantization for ONNX ---\n",
    "print(\"⚙️ Quantizing ONNX model...\")\n",
    "onnx_quant_path = f'{weights_dir}/best_quant_dynamic.onnx'\n",
    "quantize_dynamic(onnx_path, onnx_quant_path, weight_type=QuantType.QInt8)\n",
    "\n",
    "# --- Export TensorRT (FP16) ---\n",
    "print(\"🚀 Exporting TensorRT (FP16)...\")\n",
    "model.export(format='engine', imgsz=[64, 384])\n",
    "tensorrt_path = f'{weights_dir}/best.engine'\n",
    "\n",
    "# --- Evaluate model ---\n",
    "print(\"🔍 Evaluating on test set...\")\n",
    "metrics = model.val(data=data_yaml_path, split='test')\n",
    "\n",
    "# --- Save metrics ---\n",
    "metrics_path = 'test_metrics.json'\n",
    "with open(metrics_path, 'w') as f:\n",
    "    json.dump(metrics.results_dict, f, indent=2)\n",
    "print(\"✅ Metrics saved.\")\n",
    "\n",
    "# --- Copy all files to Webots directory ---\n",
    "shutil.copy(best_model_path, f'{webots_dir}/yolov8n_lidar.pt')\n",
    "shutil.copy(torchscript_path, f'{webots_dir}/yolov8n_lidar.torchscript')\n",
    "shutil.copy(torchscript_quant_path, f'{webots_dir}/yolov8n_lidar_quant_dynamic.torchscript')\n",
    "shutil.copy(onnx_path, f'{webots_dir}/yolov8n_lidar.onnx')\n",
    "shutil.copy(onnx_quant_path, f'{webots_dir}/yolov8n_lidar_quant_dynamic.onnx')\n",
    "shutil.copy(tensorrt_path, f'{webots_dir}/yolov8n_lidar_fp16.engine')\n",
    "shutil.copy(metrics_path, f'{webots_dir}/test_metrics.json')\n",
    "\n",
    "print(f\"📦 All models and metrics saved to: {webots_dir}\")"
   ]
  },
  {
   "cell_type": "code",
   "execution_count": 8,
   "id": "7d6f5131-4031-4864-a6f4-48ed7bf81d85",
   "metadata": {},
   "outputs": [
    {
     "data": {
      "text/plain": [
       "'/home/soheil/webots_model_assets_simpel_fused_fulltrain_120.zip'"
      ]
     },
     "execution_count": 8,
     "metadata": {},
     "output_type": "execute_result"
    }
   ],
   "source": [
    "import shutil\n",
    "\n",
    "# Zip the entire runs directory\n",
    "shutil.make_archive('./runs_yolo_120', 'zip', './runs')\n",
    "shutil.make_archive('./webots_model_assets_simpel_fused_fulltrain_120', 'zip', './webots_model_assets_simpel_fused_fulltrain_120')"
   ]
  },
  {
   "cell_type": "code",
   "execution_count": null,
   "id": "8245c597-dab8-4f4c-9aa5-4d208cf9e7cb",
   "metadata": {},
   "outputs": [],
   "source": []
  },
  {
   "cell_type": "code",
   "execution_count": null,
   "id": "c2023eb6-8f62-40f9-850a-293fdb565c85",
   "metadata": {},
   "outputs": [],
   "source": []
  }
 ],
 "metadata": {
  "kernelspec": {
   "display_name": "Python 3 (ipykernel)",
   "language": "python",
   "name": "python3"
  },
  "language_info": {
   "codemirror_mode": {
    "name": "ipython",
    "version": 3
   },
   "file_extension": ".py",
   "mimetype": "text/x-python",
   "name": "python",
   "nbconvert_exporter": "python",
   "pygments_lexer": "ipython3",
   "version": "3.10.12"
  }
 },
 "nbformat": 4,
 "nbformat_minor": 5
}
